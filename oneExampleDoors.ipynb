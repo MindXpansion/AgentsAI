{
 "cells": [
  {
   "cell_type": "markdown",
   "id": "01cee8f8-15cc-46fb-836d-06bd55097cb9",
   "metadata": {},
   "source": [
    "\n",
    "## Agents example\n"
   ]
  },
  {
   "cell_type": "code",
   "execution_count": 9,
   "id": "91070cd9-8152-4684-b7df-ddee09130916",
   "metadata": {},
   "outputs": [],
   "source": [
    "\n",
    "import torch\n",
    "from transformers import GPT2LMHeadModel, GPT2Tokenizer\n"
   ]
  },
  {
   "cell_type": "code",
   "execution_count": 10,
   "id": "1ca9f848-7d34-4066-83fe-614926091189",
   "metadata": {},
   "outputs": [],
   "source": [
    "\n",
    "# Define the LLM Agent\n",
    "class LLM_Agent:\n",
    "    def __init__(self, model_name=\"gpt2\"):\n",
    "        \n",
    "        self.tokenizer = GPT2Tokenizer.from_pretrained(model_name)\n",
    "        self.model     = GPT2LMHeadModel.from_pretrained(model_name)\n",
    "\n",
    "    def act(self, state):\n",
    "        \"\"\"\n",
    "        Generate an action based on the state (text-based input).\n",
    "        Args:\n",
    "            state (str): Current state description.\n",
    "        Returns:\n",
    "            action (str): Generated action.\n",
    "        \"\"\"\n",
    "        input_ids = self.tokenizer.encode(state, return_tensors=\"pt\")\n",
    "        output    = self.model.generate(input_ids, max_length=50, num_return_sequences=1, pad_token_id=self.tokenizer.eos_token_id)\n",
    "        action    = self.tokenizer.decode(output[0], skip_special_tokens=True)\n",
    "        \n",
    "        return action.split(\"\\n\")[0]  # Take the first sentence/action\n"
   ]
  },
  {
   "cell_type": "code",
   "execution_count": 11,
   "id": "016b194f-2f31-464e-b8cd-e51d2fdc0a27",
   "metadata": {},
   "outputs": [],
   "source": [
    "\n",
    "# Define a simple text-based environment\n",
    "class SimpleTextEnv:\n",
    "    def __init__(self):\n",
    "        self.state = \"You are in a room with two doors. One door leads to a treasure, the other to a trap.\"\n",
    "\n",
    "    def reset(self):\n",
    "        self.state = \"You are in a room with two doors. One door leads to a treasure, the other to a trap.\"\n",
    "        return self.state\n",
    "\n",
    "    def step(self, action):\n",
    "        \"\"\"\n",
    "        Take a step in the environment based on the agent's action.\n",
    "        Args:\n",
    "            action (str): The agent's action.\n",
    "        Returns:\n",
    "            next_state (str): The resulting state after the action.\n",
    "            reward (float): The reward for the action.\n",
    "            done (bool): Whether the episode has ended.\n",
    "        \"\"\"\n",
    "        if \"left\" in action.lower():\n",
    "            next_state = \"You chose the left door and found a treasure!\"\n",
    "            reward = 1.0\n",
    "            done = True\n",
    "        elif \"right\" in action.lower():\n",
    "            next_state = \"You chose the right door and fell into a trap.\"\n",
    "            reward = -1.0\n",
    "            done = True\n",
    "        else:\n",
    "            next_state = \"You are still in the room with two doors. Choose left or right.\"\n",
    "            reward = 0.0\n",
    "            done = False\n",
    "        return next_state, reward, done\n",
    "\n"
   ]
  },
  {
   "cell_type": "code",
   "execution_count": 12,
   "id": "0cbda081-98a5-44ae-8d22-e3d77d46822b",
   "metadata": {},
   "outputs": [
    {
     "name": "stdout",
     "output_type": "stream",
     "text": [
      "Initial state: You are in a room with two doors. One door leads to a treasure, the other to a trap.\n",
      "\n",
      "Agent's action: You are in a room with two doors. One door leads to a treasure, the other to a trap. The trap is a trapdoor. The treasure is a treasure. The trapdoor is a trapdoor. The treasure is a treasure. The\n",
      "Next state: You are still in the room with two doors. Choose left or right.\n",
      "Reward: 0.0\n",
      "\n",
      "Agent's action: You are still in the room with two doors. Choose left or right.\n",
      "Next state: You chose the left door and found a treasure!\n",
      "Reward: 1.0\n",
      "\n",
      "Episode finished with total reward: 1.0\n"
     ]
    }
   ],
   "source": [
    "\n",
    "\n",
    "# Main Loop: LLM Agent interacting with the environment\n",
    "def main():\n",
    "    env = SimpleTextEnv()\n",
    "    agent = LLM_Agent()\n",
    "\n",
    "    state = env.reset()\n",
    "    done = False\n",
    "    total_reward = 0\n",
    "\n",
    "    print(f\"Initial state: {state}\\n\")\n",
    "\n",
    "    while not done:\n",
    "        # Agent acts\n",
    "        action = agent.act(state)\n",
    "        print(f\"Agent's action: {action}\")\n",
    "\n",
    "        # Environment responds\n",
    "        next_state, reward, done = env.step(action)\n",
    "        print(f\"Next state: {next_state}\")\n",
    "        print(f\"Reward: {reward}\\n\")\n",
    "\n",
    "        state = next_state\n",
    "        total_reward += reward\n",
    "\n",
    "    print(f\"Episode finished with total reward: {total_reward}\")\n",
    "\n",
    "if __name__ == \"__main__\":\n",
    "    main()\n",
    "\n"
   ]
  },
  {
   "cell_type": "code",
   "execution_count": null,
   "id": "6bf95e52-a402-4bcc-bf0b-a4529fdd8a23",
   "metadata": {},
   "outputs": [],
   "source": []
  },
  {
   "cell_type": "code",
   "execution_count": null,
   "id": "8267884b-77e3-46d2-987d-e51bbbf73781",
   "metadata": {},
   "outputs": [],
   "source": []
  },
  {
   "cell_type": "code",
   "execution_count": null,
   "id": "f5cc4f94-0bae-4528-bdad-a070f8a0818d",
   "metadata": {},
   "outputs": [],
   "source": []
  },
  {
   "cell_type": "code",
   "execution_count": null,
   "id": "601b2f29-df85-4009-8cb7-6ca50b0f2948",
   "metadata": {},
   "outputs": [],
   "source": []
  },
  {
   "cell_type": "code",
   "execution_count": null,
   "id": "2cf7b22f-50ec-49f9-b70e-8ed697502efc",
   "metadata": {},
   "outputs": [],
   "source": []
  }
 ],
 "metadata": {
  "kernelspec": {
   "display_name": "Python 3 (ipykernel)",
   "language": "python",
   "name": "python3"
  },
  "language_info": {
   "codemirror_mode": {
    "name": "ipython",
    "version": 3
   },
   "file_extension": ".py",
   "mimetype": "text/x-python",
   "name": "python",
   "nbconvert_exporter": "python",
   "pygments_lexer": "ipython3",
   "version": "3.8.20"
  }
 },
 "nbformat": 4,
 "nbformat_minor": 5
}
