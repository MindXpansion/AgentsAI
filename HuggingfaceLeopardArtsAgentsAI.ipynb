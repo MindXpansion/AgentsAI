{
 "cells": [
  {
   "cell_type": "markdown",
   "id": "ca4b266c-eeb2-4eb0-9958-ee418a6564e5",
   "metadata": {},
   "source": [
    "\n",
    "## Huggingface Agents - Loepard at Ponts de Arts\n"
   ]
  },
  {
   "cell_type": "code",
   "execution_count": 1,
   "id": "e9cb4c27-857d-4ebf-b7d0-d14968179531",
   "metadata": {},
   "outputs": [],
   "source": [
    "\n",
    "## !pip install smolagents\n",
    "## !pip install datasets\n",
    "## !pip install langchain\n",
    "## !pip install langchain_community\n",
    "\n",
    "## !pip -q install smolagents\n",
    "## !pip -q install litellm\n"
   ]
  },
  {
   "cell_type": "code",
   "execution_count": 3,
   "id": "5d295441-1ac3-4ea8-a190-6216721fb5b6",
   "metadata": {},
   "outputs": [
    {
     "data": {
      "text/plain": [
       "'\\n\\nexport OPENAI_API_KEY=\"your_api_key_here\"\\n\\nrestart \"jupyter notebook\" \\n\\necho $OPENAI_API_KEY\\n\\nopenai.api_key = os.getenv(\"OPENAI_API_KEY\")\\n\\n\\n'"
      ]
     },
     "execution_count": 3,
     "metadata": {},
     "output_type": "execute_result"
    }
   ],
   "source": [
    "\n",
    "'''\n",
    "\n",
    "export OPENAI_API_KEY=\"your_api_key_here\"\n",
    "\n",
    "restart \"jupyter notebook\" \n",
    "\n",
    "echo $OPENAI_API_KEY\n",
    "\n",
    "openai.api_key = os.getenv(\"OPENAI_API_KEY\")\n",
    "\n",
    "\n",
    "'''\n"
   ]
  },
  {
   "cell_type": "code",
   "execution_count": 4,
   "id": "ef1e6c88-2f51-489a-a8ef-34cfaa14e607",
   "metadata": {},
   "outputs": [],
   "source": [
    "\n",
    "import os\n"
   ]
  },
  {
   "cell_type": "code",
   "execution_count": 7,
   "id": "09dec22e-7164-429d-a569-0161520a6d4c",
   "metadata": {},
   "outputs": [],
   "source": [
    "\n",
    "\n",
    "\n",
    "os.environ['HF_TOKEN'] =  os.getenv('HF_TOKEN')\n",
    "\n",
    "\n",
    "## os.environ['HF_TOKEN'] = userdata.get('HF_TOKEN')\n",
    "## os.environ['OPENAI_API_KEY'] = userdata.get('OPENAI_API_KEY')\n"
   ]
  },
  {
   "cell_type": "code",
   "execution_count": 8,
   "id": "c3a11f5e-21e1-478a-a83f-dbd30f2ac1b5",
   "metadata": {},
   "outputs": [],
   "source": [
    "\n",
    "from smolagents import CodeAgent, DuckDuckGoSearchTool, HfApiModel\n"
   ]
  },
  {
   "cell_type": "code",
   "execution_count": 9,
   "id": "9883a778-d688-4078-9c98-13c4d637d66a",
   "metadata": {},
   "outputs": [],
   "source": [
    "\n",
    "agent = CodeAgent(tools=[DuckDuckGoSearchTool()], model=HfApiModel())\n"
   ]
  },
  {
   "cell_type": "code",
   "execution_count": 10,
   "id": "efc5a5bf-47fa-4fc3-827f-0419477254c6",
   "metadata": {},
   "outputs": [
    {
     "data": {
      "text/html": [
       "<pre style=\"white-space:pre;overflow-x:auto;line-height:normal;font-family:Menlo,'DejaVu Sans Mono',consolas,'Courier New',monospace\"><span style=\"color: #d4b702; text-decoration-color: #d4b702\">╭────────────────────────────────────────────────────────────────────────────────────────────── </span><span style=\"color: #d4b702; text-decoration-color: #d4b702; font-weight: bold\">New run</span><span style=\"color: #d4b702; text-decoration-color: #d4b702\"> ───────────────────────────────────────────────────────────────────────────────────────────────╮</span>\n",
       "<span style=\"color: #d4b702; text-decoration-color: #d4b702\">│</span>                                                                                                                                                                                                      <span style=\"color: #d4b702; text-decoration-color: #d4b702\">│</span>\n",
       "<span style=\"color: #d4b702; text-decoration-color: #d4b702\">│</span> <span style=\"font-weight: bold\">How many seconds would it take for a leopard at full speed to run through Pont des Arts?</span>                                                                                                             <span style=\"color: #d4b702; text-decoration-color: #d4b702\">│</span>\n",
       "<span style=\"color: #d4b702; text-decoration-color: #d4b702\">│</span>                                                                                                                                                                                                      <span style=\"color: #d4b702; text-decoration-color: #d4b702\">│</span>\n",
       "<span style=\"color: #d4b702; text-decoration-color: #d4b702\">╰─ HfApiModel - Qwen/Qwen2.5-Coder-32B-Instruct ───────────────────────────────────────────────────────────────────────────────────────────────────────────────────────────────────────────────────────╯</span>\n",
       "</pre>\n"
      ],
      "text/plain": [
       "\u001b[38;2;212;183;2m╭─\u001b[0m\u001b[38;2;212;183;2m─────────────────────────────────────────────────────────────────────────────────────────────\u001b[0m\u001b[38;2;212;183;2m \u001b[0m\u001b[1;38;2;212;183;2mNew run\u001b[0m\u001b[38;2;212;183;2m \u001b[0m\u001b[38;2;212;183;2m──────────────────────────────────────────────────────────────────────────────────────────────\u001b[0m\u001b[38;2;212;183;2m─╮\u001b[0m\n",
       "\u001b[38;2;212;183;2m│\u001b[0m                                                                                                                                                                                                      \u001b[38;2;212;183;2m│\u001b[0m\n",
       "\u001b[38;2;212;183;2m│\u001b[0m \u001b[1mHow many seconds would it take for a leopard at full speed to run through Pont des Arts?\u001b[0m                                                                                                             \u001b[38;2;212;183;2m│\u001b[0m\n",
       "\u001b[38;2;212;183;2m│\u001b[0m                                                                                                                                                                                                      \u001b[38;2;212;183;2m│\u001b[0m\n",
       "\u001b[38;2;212;183;2m╰─\u001b[0m\u001b[38;2;212;183;2m HfApiModel - Qwen/Qwen2.5-Coder-32B-Instruct \u001b[0m\u001b[38;2;212;183;2m──────────────────────────────────────────────────────────────────────────────────────────────────────────────────────────────────────────────────────\u001b[0m\u001b[38;2;212;183;2m─╯\u001b[0m\n"
      ]
     },
     "metadata": {},
     "output_type": "display_data"
    },
    {
     "data": {
      "text/html": [
       "<pre style=\"white-space:pre;overflow-x:auto;line-height:normal;font-family:Menlo,'DejaVu Sans Mono',consolas,'Courier New',monospace\"><span style=\"color: #d4b702; text-decoration-color: #d4b702\">━━━━━━━━━━━━━━━━━━━━━━━━━━━━━━━━━━━━━━━━━━━━━━━━━━━━━━━━━━━━━━━━━━━━━━━━━━━━━━━━━━━━━━━━━━━━━━━━ </span><span style=\"font-weight: bold\">Step </span><span style=\"color: #008080; text-decoration-color: #008080; font-weight: bold\">0</span><span style=\"color: #d4b702; text-decoration-color: #d4b702\"> ━━━━━━━━━━━━━━━━━━━━━━━━━━━━━━━━━━━━━━━━━━━━━━━━━━━━━━━━━━━━━━━━━━━━━━━━━━━━━━━━━━━━━━━━━━━━━━━━</span>\n",
       "</pre>\n"
      ],
      "text/plain": [
       "\u001b[38;2;212;183;2m━━━━━━━━━━━━━━━━━━━━━━━━━━━━━━━━━━━━━━━━━━━━━━━━━━━━━━━━━━━━━━━━━━━━━━━━━━━━━━━━━━━━━━━━━━━━━━━━ \u001b[0m\u001b[1mStep \u001b[0m\u001b[1;36m0\u001b[0m\u001b[38;2;212;183;2m ━━━━━━━━━━━━━━━━━━━━━━━━━━━━━━━━━━━━━━━━━━━━━━━━━━━━━━━━━━━━━━━━━━━━━━━━━━━━━━━━━━━━━━━━━━━━━━━━\u001b[0m\n"
      ]
     },
     "metadata": {},
     "output_type": "display_data"
    },
    {
     "data": {
      "text/html": [
       "<pre style=\"white-space:pre;overflow-x:auto;line-height:normal;font-family:Menlo,'DejaVu Sans Mono',consolas,'Courier New',monospace\">╭─ <span style=\"font-weight: bold\">Executing this code:</span> ───────────────────────────────────────────────────────────────────────────────────────────────────────────────────────────────────────────────────────────────────────────────╮\n",
       "│ <span style=\"color: #e3e3dd; text-decoration-color: #e3e3dd; background-color: #272822; font-weight: bold\">  </span><span style=\"color: #656660; text-decoration-color: #656660; background-color: #272822\">1 </span><span style=\"color: #f8f8f2; text-decoration-color: #f8f8f2; background-color: #272822\">pont_des_arts_length_results </span><span style=\"color: #ff4689; text-decoration-color: #ff4689; background-color: #272822\">=</span><span style=\"color: #f8f8f2; text-decoration-color: #f8f8f2; background-color: #272822\"> web_search(query</span><span style=\"color: #ff4689; text-decoration-color: #ff4689; background-color: #272822\">=</span><span style=\"color: #e6db74; text-decoration-color: #e6db74; background-color: #272822\">\"length of Pont des Arts\"</span><span style=\"color: #f8f8f2; text-decoration-color: #f8f8f2; background-color: #272822\">)</span><span style=\"background-color: #272822\">                                                                                                                      </span> │\n",
       "│ <span style=\"color: #e3e3dd; text-decoration-color: #e3e3dd; background-color: #272822; font-weight: bold\">  </span><span style=\"color: #656660; text-decoration-color: #656660; background-color: #272822\">2 </span><span style=\"color: #f8f8f2; text-decoration-color: #f8f8f2; background-color: #272822\">print(pont_des_arts_length_results)</span><span style=\"background-color: #272822\">                                                                                                                                                             </span> │\n",
       "╰──────────────────────────────────────────────────────────────────────────────────────────────────────────────────────────────────────────────────────────────────────────────────────────────────────╯\n",
       "</pre>\n"
      ],
      "text/plain": [
       "╭─ \u001b[1mExecuting this code:\u001b[0m ───────────────────────────────────────────────────────────────────────────────────────────────────────────────────────────────────────────────────────────────────────────────╮\n",
       "│ \u001b[1;38;2;227;227;221;48;2;39;40;34m  \u001b[0m\u001b[38;2;101;102;96;48;2;39;40;34m1 \u001b[0m\u001b[38;2;248;248;242;48;2;39;40;34mpont_des_arts_length_results\u001b[0m\u001b[38;2;248;248;242;48;2;39;40;34m \u001b[0m\u001b[38;2;255;70;137;48;2;39;40;34m=\u001b[0m\u001b[38;2;248;248;242;48;2;39;40;34m \u001b[0m\u001b[38;2;248;248;242;48;2;39;40;34mweb_search\u001b[0m\u001b[38;2;248;248;242;48;2;39;40;34m(\u001b[0m\u001b[38;2;248;248;242;48;2;39;40;34mquery\u001b[0m\u001b[38;2;255;70;137;48;2;39;40;34m=\u001b[0m\u001b[38;2;230;219;116;48;2;39;40;34m\"\u001b[0m\u001b[38;2;230;219;116;48;2;39;40;34mlength of Pont des Arts\u001b[0m\u001b[38;2;230;219;116;48;2;39;40;34m\"\u001b[0m\u001b[38;2;248;248;242;48;2;39;40;34m)\u001b[0m\u001b[48;2;39;40;34m                                                                                                                      \u001b[0m │\n",
       "│ \u001b[1;38;2;227;227;221;48;2;39;40;34m  \u001b[0m\u001b[38;2;101;102;96;48;2;39;40;34m2 \u001b[0m\u001b[38;2;248;248;242;48;2;39;40;34mprint\u001b[0m\u001b[38;2;248;248;242;48;2;39;40;34m(\u001b[0m\u001b[38;2;248;248;242;48;2;39;40;34mpont_des_arts_length_results\u001b[0m\u001b[38;2;248;248;242;48;2;39;40;34m)\u001b[0m\u001b[48;2;39;40;34m                                                                                                                                                             \u001b[0m │\n",
       "╰──────────────────────────────────────────────────────────────────────────────────────────────────────────────────────────────────────────────────────────────────────────────────────────────────────╯\n"
      ]
     },
     "metadata": {},
     "output_type": "display_data"
    },
    {
     "data": {
      "text/html": [
       "<pre style=\"white-space:pre;overflow-x:auto;line-height:normal;font-family:Menlo,'DejaVu Sans Mono',consolas,'Courier New',monospace\"><span style=\"font-weight: bold\">Execution logs:</span>\n",
       "## Search Results\n",
       "\n",
       "[Pont des Arts - Wikipedia](https://en.wikipedia.org/wiki/Pont_des_Arts)\n",
       "The Pont des Arts (French pronunciation: [pɔ̃ dez‿aʁ]) or Passerelle des Arts ([pasʁɛl-]) is a pedestrian bridge in Paris which crosses the River Seine. It links the Institut de France and the central\n",
       "square ( cour carrée ) of the Palais du Louvre , (which had been termed the \"Palais des Arts\" under the First French Empire ).\n",
       "\n",
       "[10 Picturesque Facts About The Pont Des Arts](https://art-facts.com/pont-des-arts-facts/)\n",
       "Today, the number of arches has been reduced to just 7 in order to align it with the Pont Neuf, the oldest standing bridge in Paris, which is located just east of the Pont des Arts at the western tip \n",
       "of the \"Île de la Cité.\". Even though the bridge doesn't look that big at first sight, it still has a length of 155 meters (509 feet) and a width of 11 meters (36 feet).\n",
       "\n",
       "[Pont des Arts — Wikipédia](https://fr.wikipedia.org/wiki/Pont_des_Arts)\n",
       "Jean Béraud, Un jour de vent sur le pont des Arts (vers 1880-1881), Metropolitan Museum of Art . Jean Béraud, Un jour de vent sur le pont des Arts (vers 1880-1881), Metropolitan Museum of Art (New \n",
       "York). Victor Binet, Le Pont des arts, musée Alfred-Canel; Ferdinand Desnos, La Cène sur la Seine, musée national d'Art moderne (Paris).\n",
       "\n",
       "[Pont des Arts, Paris, France - LatLong](https://www.latlong.net/place/pont-des-arts-paris-france-32945.html)\n",
       "Pont des Arts, Paris, France. Latitude and longitude coordinates are: 48.858334, 2.337369. Pont des Arts is a scenic pedestrian bridge over the Seine River in Paris, France. The bridge connects the \n",
       "Musée du Louvre and the Institut de France. It has a length of 155 m (509 ft) and a width of 11 m (36 ft). It was constructed between 1981 and 1984.\n",
       "\n",
       "[17 Famous Bridges in France: Must-See Wonders! - Salut from Paris](https://www.salutfromparis.com/famous-bridges-in-france/)\n",
       "(built in 2004, 2460m length) Millau Viaduct in Aveyron - the world's tallest bridge. The Millau Viaduct is an engineering gem, standing tall in the heart of the Tarn Valley, ... #10 Pont des Arts, \n",
       "Paris (initial construction between 1801 and 1804, 155m length) Pont des Arts.\n",
       "\n",
       "[Exploring the History of the Pont des Arts in Paris](https://www.parisartstravel.com/exploring-the-history-of-the-pont-des-arts-in-paris/)\n",
       "This new bridge featured seven arches and a length of 155 meters. The Pont des Arts continued to evolve with the city's changing needs. In the 20th century, the bridge faced increased traffic demands,\n",
       "leading to rising concerns about its stability. As a result, it underwent another major renovation in 1984, modernizing the structure and ...\n",
       "\n",
       "[The Unique Architecture of the Pont des Arts in Paris](https://www.parisartstravel.com/the-unique-architecture-of-the-pont-des-arts-in-paris/)\n",
       "The bridge is composed of nine arches and spans approximately 155 meters in length. Its iron structure, adorned with numerous decorative details, gives it an elegant and romantic appearance. ... The \n",
       "Pont des Arts was first opened in 1804; however, the current bridge that we see today is a reconstruction dating back to 1984. During the 1980s ...\n",
       "\n",
       "[Love Lock bridge in Paris then &amp; now: The Pont des Arts](https://cosmopoliclan.com/travel-with-kids/inspiration/love-lock-bridge-paris-pont-des-arts/)\n",
       "The Pont des Arts or Passerelle des Arts is the pedestrian bridge over the Seine that connects the Louvre Museum on the Right bank to the Institut de France on the Left Bank.As a result, it connects \n",
       "the 1st and the 6th Paris arrondissements. It is flanked by the Pont du Carrousel downstream and by the Pont-Neuf and the Île de la Cité, home to the Notre Dame cathedral, upstream.\n",
       "\n",
       "[Pont des Arts - The Love Bridge](https://www.tourdefrance-bridges.com/post/pont-des-arts-the-love-bridge)\n",
       "Context:The Pont des Arts, originally a cast iron arch bridge, known more often as the \"Love Bridge,\" crosses the Seine river in Paris, connecting the Louvre to the Institut de Paris, formerly the \n",
       "Collèges des quatre Nations. ... The original bridge had 9 arches, was 155m in length and 11m wide and was made using cast iron. The number of ...\n",
       "\n",
       "[A Complete Guide to the Pont des Arts in Paris - TripSavvy](https://www.tripsavvy.com/a-complete-guide-to-the-pont-des-arts-in-paris-4584846)\n",
       "The Pont des Arts is a relative newcomer to the Parisian landscape. Emperor Napoleon I commissioned a metallic pedestrian bridge in around 1802. Consisting of nine arched structures, it would be \n",
       "Paris' first of its kind made of metal — a preview, perhaps, of the modern city to come. It was initially meant to resemble a suspended garden, lined ...\n",
       "\n",
       "Out: None\n",
       "</pre>\n"
      ],
      "text/plain": [
       "\u001b[1mExecution logs:\u001b[0m\n",
       "## Search Results\n",
       "\n",
       "[Pont des Arts - Wikipedia](https://en.wikipedia.org/wiki/Pont_des_Arts)\n",
       "The Pont des Arts (French pronunciation: [pɔ̃ dez‿aʁ]) or Passerelle des Arts ([pasʁɛl-]) is a pedestrian bridge in Paris which crosses the River Seine. It links the Institut de France and the central\n",
       "square ( cour carrée ) of the Palais du Louvre , (which had been termed the \"Palais des Arts\" under the First French Empire ).\n",
       "\n",
       "[10 Picturesque Facts About The Pont Des Arts](https://art-facts.com/pont-des-arts-facts/)\n",
       "Today, the number of arches has been reduced to just 7 in order to align it with the Pont Neuf, the oldest standing bridge in Paris, which is located just east of the Pont des Arts at the western tip \n",
       "of the \"Île de la Cité.\". Even though the bridge doesn't look that big at first sight, it still has a length of 155 meters (509 feet) and a width of 11 meters (36 feet).\n",
       "\n",
       "[Pont des Arts — Wikipédia](https://fr.wikipedia.org/wiki/Pont_des_Arts)\n",
       "Jean Béraud, Un jour de vent sur le pont des Arts (vers 1880-1881), Metropolitan Museum of Art . Jean Béraud, Un jour de vent sur le pont des Arts (vers 1880-1881), Metropolitan Museum of Art (New \n",
       "York). Victor Binet, Le Pont des arts, musée Alfred-Canel; Ferdinand Desnos, La Cène sur la Seine, musée national d'Art moderne (Paris).\n",
       "\n",
       "[Pont des Arts, Paris, France - LatLong](https://www.latlong.net/place/pont-des-arts-paris-france-32945.html)\n",
       "Pont des Arts, Paris, France. Latitude and longitude coordinates are: 48.858334, 2.337369. Pont des Arts is a scenic pedestrian bridge over the Seine River in Paris, France. The bridge connects the \n",
       "Musée du Louvre and the Institut de France. It has a length of 155 m (509 ft) and a width of 11 m (36 ft). It was constructed between 1981 and 1984.\n",
       "\n",
       "[17 Famous Bridges in France: Must-See Wonders! - Salut from Paris](https://www.salutfromparis.com/famous-bridges-in-france/)\n",
       "(built in 2004, 2460m length) Millau Viaduct in Aveyron - the world's tallest bridge. The Millau Viaduct is an engineering gem, standing tall in the heart of the Tarn Valley, ... #10 Pont des Arts, \n",
       "Paris (initial construction between 1801 and 1804, 155m length) Pont des Arts.\n",
       "\n",
       "[Exploring the History of the Pont des Arts in Paris](https://www.parisartstravel.com/exploring-the-history-of-the-pont-des-arts-in-paris/)\n",
       "This new bridge featured seven arches and a length of 155 meters. The Pont des Arts continued to evolve with the city's changing needs. In the 20th century, the bridge faced increased traffic demands,\n",
       "leading to rising concerns about its stability. As a result, it underwent another major renovation in 1984, modernizing the structure and ...\n",
       "\n",
       "[The Unique Architecture of the Pont des Arts in Paris](https://www.parisartstravel.com/the-unique-architecture-of-the-pont-des-arts-in-paris/)\n",
       "The bridge is composed of nine arches and spans approximately 155 meters in length. Its iron structure, adorned with numerous decorative details, gives it an elegant and romantic appearance. ... The \n",
       "Pont des Arts was first opened in 1804; however, the current bridge that we see today is a reconstruction dating back to 1984. During the 1980s ...\n",
       "\n",
       "[Love Lock bridge in Paris then & now: The Pont des Arts](https://cosmopoliclan.com/travel-with-kids/inspiration/love-lock-bridge-paris-pont-des-arts/)\n",
       "The Pont des Arts or Passerelle des Arts is the pedestrian bridge over the Seine that connects the Louvre Museum on the Right bank to the Institut de France on the Left Bank.As a result, it connects \n",
       "the 1st and the 6th Paris arrondissements. It is flanked by the Pont du Carrousel downstream and by the Pont-Neuf and the Île de la Cité, home to the Notre Dame cathedral, upstream.\n",
       "\n",
       "[Pont des Arts - The Love Bridge](https://www.tourdefrance-bridges.com/post/pont-des-arts-the-love-bridge)\n",
       "Context:The Pont des Arts, originally a cast iron arch bridge, known more often as the \"Love Bridge,\" crosses the Seine river in Paris, connecting the Louvre to the Institut de Paris, formerly the \n",
       "Collèges des quatre Nations. ... The original bridge had 9 arches, was 155m in length and 11m wide and was made using cast iron. The number of ...\n",
       "\n",
       "[A Complete Guide to the Pont des Arts in Paris - TripSavvy](https://www.tripsavvy.com/a-complete-guide-to-the-pont-des-arts-in-paris-4584846)\n",
       "The Pont des Arts is a relative newcomer to the Parisian landscape. Emperor Napoleon I commissioned a metallic pedestrian bridge in around 1802. Consisting of nine arched structures, it would be \n",
       "Paris' first of its kind made of metal — a preview, perhaps, of the modern city to come. It was initially meant to resemble a suspended garden, lined ...\n",
       "\n",
       "Out: None\n"
      ]
     },
     "metadata": {},
     "output_type": "display_data"
    },
    {
     "data": {
      "text/html": [
       "<pre style=\"white-space:pre;overflow-x:auto;line-height:normal;font-family:Menlo,'DejaVu Sans Mono',consolas,'Courier New',monospace\"><span style=\"color: #7f7f7f; text-decoration-color: #7f7f7f\">[Step 0: Duration 2.27 seconds| Input tokens: 2,076 | Output tokens: 120]</span>\n",
       "</pre>\n"
      ],
      "text/plain": [
       "\u001b[2m[Step 0: Duration 2.27 seconds| Input tokens: 2,076 | Output tokens: 120]\u001b[0m\n"
      ]
     },
     "metadata": {},
     "output_type": "display_data"
    },
    {
     "data": {
      "text/html": [
       "<pre style=\"white-space:pre;overflow-x:auto;line-height:normal;font-family:Menlo,'DejaVu Sans Mono',consolas,'Courier New',monospace\"><span style=\"color: #d4b702; text-decoration-color: #d4b702\">━━━━━━━━━━━━━━━━━━━━━━━━━━━━━━━━━━━━━━━━━━━━━━━━━━━━━━━━━━━━━━━━━━━━━━━━━━━━━━━━━━━━━━━━━━━━━━━━ </span><span style=\"font-weight: bold\">Step </span><span style=\"color: #008080; text-decoration-color: #008080; font-weight: bold\">1</span><span style=\"color: #d4b702; text-decoration-color: #d4b702\"> ━━━━━━━━━━━━━━━━━━━━━━━━━━━━━━━━━━━━━━━━━━━━━━━━━━━━━━━━━━━━━━━━━━━━━━━━━━━━━━━━━━━━━━━━━━━━━━━━</span>\n",
       "</pre>\n"
      ],
      "text/plain": [
       "\u001b[38;2;212;183;2m━━━━━━━━━━━━━━━━━━━━━━━━━━━━━━━━━━━━━━━━━━━━━━━━━━━━━━━━━━━━━━━━━━━━━━━━━━━━━━━━━━━━━━━━━━━━━━━━ \u001b[0m\u001b[1mStep \u001b[0m\u001b[1;36m1\u001b[0m\u001b[38;2;212;183;2m ━━━━━━━━━━━━━━━━━━━━━━━━━━━━━━━━━━━━━━━━━━━━━━━━━━━━━━━━━━━━━━━━━━━━━━━━━━━━━━━━━━━━━━━━━━━━━━━━\u001b[0m\n"
      ]
     },
     "metadata": {},
     "output_type": "display_data"
    },
    {
     "data": {
      "text/html": [
       "<pre style=\"white-space:pre;overflow-x:auto;line-height:normal;font-family:Menlo,'DejaVu Sans Mono',consolas,'Courier New',monospace\">╭─ <span style=\"font-weight: bold\">Executing this code:</span> ───────────────────────────────────────────────────────────────────────────────────────────────────────────────────────────────────────────────────────────────────────────────╮\n",
       "│ <span style=\"color: #e3e3dd; text-decoration-color: #e3e3dd; background-color: #272822; font-weight: bold\">  </span><span style=\"color: #656660; text-decoration-color: #656660; background-color: #272822\">1 </span><span style=\"color: #f8f8f2; text-decoration-color: #f8f8f2; background-color: #272822\">leopard_speed_results </span><span style=\"color: #ff4689; text-decoration-color: #ff4689; background-color: #272822\">=</span><span style=\"color: #f8f8f2; text-decoration-color: #f8f8f2; background-color: #272822\"> web_search(query</span><span style=\"color: #ff4689; text-decoration-color: #ff4689; background-color: #272822\">=</span><span style=\"color: #e6db74; text-decoration-color: #e6db74; background-color: #272822\">\"top speed of leopard\"</span><span style=\"color: #f8f8f2; text-decoration-color: #f8f8f2; background-color: #272822\">)</span><span style=\"background-color: #272822\">                                                                                                                                </span> │\n",
       "│ <span style=\"color: #e3e3dd; text-decoration-color: #e3e3dd; background-color: #272822; font-weight: bold\">  </span><span style=\"color: #656660; text-decoration-color: #656660; background-color: #272822\">2 </span><span style=\"color: #f8f8f2; text-decoration-color: #f8f8f2; background-color: #272822\">print(leopard_speed_results)</span><span style=\"background-color: #272822\">                                                                                                                                                                    </span> │\n",
       "╰──────────────────────────────────────────────────────────────────────────────────────────────────────────────────────────────────────────────────────────────────────────────────────────────────────╯\n",
       "</pre>\n"
      ],
      "text/plain": [
       "╭─ \u001b[1mExecuting this code:\u001b[0m ───────────────────────────────────────────────────────────────────────────────────────────────────────────────────────────────────────────────────────────────────────────────╮\n",
       "│ \u001b[1;38;2;227;227;221;48;2;39;40;34m  \u001b[0m\u001b[38;2;101;102;96;48;2;39;40;34m1 \u001b[0m\u001b[38;2;248;248;242;48;2;39;40;34mleopard_speed_results\u001b[0m\u001b[38;2;248;248;242;48;2;39;40;34m \u001b[0m\u001b[38;2;255;70;137;48;2;39;40;34m=\u001b[0m\u001b[38;2;248;248;242;48;2;39;40;34m \u001b[0m\u001b[38;2;248;248;242;48;2;39;40;34mweb_search\u001b[0m\u001b[38;2;248;248;242;48;2;39;40;34m(\u001b[0m\u001b[38;2;248;248;242;48;2;39;40;34mquery\u001b[0m\u001b[38;2;255;70;137;48;2;39;40;34m=\u001b[0m\u001b[38;2;230;219;116;48;2;39;40;34m\"\u001b[0m\u001b[38;2;230;219;116;48;2;39;40;34mtop speed of leopard\u001b[0m\u001b[38;2;230;219;116;48;2;39;40;34m\"\u001b[0m\u001b[38;2;248;248;242;48;2;39;40;34m)\u001b[0m\u001b[48;2;39;40;34m                                                                                                                                \u001b[0m │\n",
       "│ \u001b[1;38;2;227;227;221;48;2;39;40;34m  \u001b[0m\u001b[38;2;101;102;96;48;2;39;40;34m2 \u001b[0m\u001b[38;2;248;248;242;48;2;39;40;34mprint\u001b[0m\u001b[38;2;248;248;242;48;2;39;40;34m(\u001b[0m\u001b[38;2;248;248;242;48;2;39;40;34mleopard_speed_results\u001b[0m\u001b[38;2;248;248;242;48;2;39;40;34m)\u001b[0m\u001b[48;2;39;40;34m                                                                                                                                                                    \u001b[0m │\n",
       "╰──────────────────────────────────────────────────────────────────────────────────────────────────────────────────────────────────────────────────────────────────────────────────────────────────────╯\n"
      ]
     },
     "metadata": {},
     "output_type": "display_data"
    },
    {
     "data": {
      "text/html": [
       "<pre style=\"white-space:pre;overflow-x:auto;line-height:normal;font-family:Menlo,'DejaVu Sans Mono',consolas,'Courier New',monospace\"><span style=\"font-weight: bold\">Execution logs:</span>\n",
       "## Search Results\n",
       "\n",
       "[How Fast Are Leopards? Top Speeds and How It Compares ... - AZ Animals](https://a-z-animals.com/blog/how-fast-leopards-top-speeds-how-compares-other-big-cats/)\n",
       "Cats of all sizes can reach impressive speeds. These are all attributes of their anatomy. Much like how the strength of an animal's bite is due to their jaw and skull anatomy, a cat's speed is \n",
       "determined by their musculature and skeletal composition. However, you can boil down their speed and agility to a very important structure: the spine.\n",
       "\n",
       "[16 Leopard Facts You Should Know - Fact Animal](https://factanimal.com/leopard/)\n",
       "The Leopard is the smallest of the big cat family, but are one of the most daring. They are known for their spots on their fur and live in a wide range of countries across Africa, Asia and Southern \n",
       "Russia. ... Top Speed: 58 km/h (36 mph) No. of Species: 1: Conservation Status:\n",
       "\n",
       "[Unraveling the Speed of Leopards: How Fast Can They Actually Run?](https://startingrun.com/unraveling-the-speed-of-leopards-how-fast-can-they-actually-run/)\n",
       "The leopard, famously fast, clocks an impressive top speed of 58 km/h (36 mph). But how does this fare against other members of the big cat family? The lion , larger and heavier, reaches a peak speed \n",
       "of 81 km/h (50 mph).\n",
       "\n",
       "[How Fast Can a Leopard Run? It's Slower than Most of Its Prey](https://africafreak.com/how-fast-can-a-leopard-run)\n",
       "African leopards have a top speed of 56-60 km/h (35-37 mph). That's significantly slower than cheetahs and lions, as well as being slower than a lot of its prey. But this top speed isn't the full \n",
       "story. The leopard is one of the greatest predators on the African savannah and speed is just one piece of its hunting prowess.\n",
       "\n",
       "[Leopard - Facts, Diet, Habitat &amp; Pictures on Animalia.bio](https://animalia.bio/leopard)\n",
       "Basic facts about Leopard: lifespan, distribution and habitat map, lifestyle and social behavior, mating habits, diet and nutrition, population size and status. ... Top speed. 58. 36. km/h mph. km/h \n",
       "mph . Weight. 28-90. 61.6-198. kg lbs. kg lbs . Height. 57-70. 22.4-27.6. cm inch. cm inch . Length. 90-190. ... Leopards are top predators of ...\n",
       "\n",
       "[How fast can leopards run and how agile are they? - WildLifeFAQs](https://wildlifefaq.com/leopard-speed-and-agility/)\n",
       "In this section, we will explore the leopard's running speed, top speed, and overall agility. Get ready to be amazed by these agile big cats! Leopards are known for their remarkable speed and agility.\n",
       "They can reach speeds of up to 58 kilometers per hour (36 mph) during short bursts of running. Their long, muscular legs allow them to cover ...\n",
       "\n",
       "[Leopard's Peak Speed: Unleashing Their Running Power](https://startingrun.com/unleashing-the-speed-how-fast-can-a-leopard-run/)\n",
       "Top Speed (in mph) Leopard: 58: Lion: 50: Tiger: 40: Cheetah: 60-70: Clearly, leopards demonstrate remarkable speed, but their main advantage lies in their agility and adaptability.\n",
       "\n",
       "[Leopard - A-Z Animals](https://a-z-animals.com/animals/leopard/)\n",
       "Top Speed 36 mph Lifespan 10 - 15 years Weight 30kg - 90kg (66lbs - 198lbs) Length 100cm - 190cm (40in - 75in) Age of Sexual Maturity 2 - 2.5 years ... The leopard is a medium-sized wildcat that lives\n",
       "in a variety of different habitats across sub-Saharan Africa and southern Asia. Distinguished by their uniquely beautiful \"spotted\" coat ...\n",
       "\n",
       "[Leopard Facts - Animal Facts Encyclopedia](https://www.animalfactsencyclopedia.com/Leopard-facts.html)\n",
       "The leopard's climbing ability sets it apart from the other big cats and has made it the most successful of the group as far as its numbers in the wild. ... TOP SPEED: GENDER DIFFERENCE: COLOR \n",
       "VARIATION: 36 mph: male 20% larger \"black panther\" is melanistic leopard - spots are faintly visible: ESTRUS: GESTATION: BIRTH LENGTH: BIRTH WEIGHT\n",
       "\n",
       "[Leopard's Agile Movement And Impressive Speed - Big Cat Facts](https://bigcatfacts.net/leopards-agile-movement-and-impressive-speed/)\n",
       "Recognized as being one of a few top predators, leopards are best known for their astonishing speed, agility, and strength. In stark contrast to the cheetah—another renowned predator—the leopard's \n",
       "muscular build enables it to reach speeds of roughly 58 kilometers per hour.\n",
       "\n",
       "Out: None\n",
       "</pre>\n"
      ],
      "text/plain": [
       "\u001b[1mExecution logs:\u001b[0m\n",
       "## Search Results\n",
       "\n",
       "[How Fast Are Leopards? Top Speeds and How It Compares ... - AZ Animals](https://a-z-animals.com/blog/how-fast-leopards-top-speeds-how-compares-other-big-cats/)\n",
       "Cats of all sizes can reach impressive speeds. These are all attributes of their anatomy. Much like how the strength of an animal's bite is due to their jaw and skull anatomy, a cat's speed is \n",
       "determined by their musculature and skeletal composition. However, you can boil down their speed and agility to a very important structure: the spine.\n",
       "\n",
       "[16 Leopard Facts You Should Know - Fact Animal](https://factanimal.com/leopard/)\n",
       "The Leopard is the smallest of the big cat family, but are one of the most daring. They are known for their spots on their fur and live in a wide range of countries across Africa, Asia and Southern \n",
       "Russia. ... Top Speed: 58 km/h (36 mph) No. of Species: 1: Conservation Status:\n",
       "\n",
       "[Unraveling the Speed of Leopards: How Fast Can They Actually Run?](https://startingrun.com/unraveling-the-speed-of-leopards-how-fast-can-they-actually-run/)\n",
       "The leopard, famously fast, clocks an impressive top speed of 58 km/h (36 mph). But how does this fare against other members of the big cat family? The lion , larger and heavier, reaches a peak speed \n",
       "of 81 km/h (50 mph).\n",
       "\n",
       "[How Fast Can a Leopard Run? It's Slower than Most of Its Prey](https://africafreak.com/how-fast-can-a-leopard-run)\n",
       "African leopards have a top speed of 56-60 km/h (35-37 mph). That's significantly slower than cheetahs and lions, as well as being slower than a lot of its prey. But this top speed isn't the full \n",
       "story. The leopard is one of the greatest predators on the African savannah and speed is just one piece of its hunting prowess.\n",
       "\n",
       "[Leopard - Facts, Diet, Habitat & Pictures on Animalia.bio](https://animalia.bio/leopard)\n",
       "Basic facts about Leopard: lifespan, distribution and habitat map, lifestyle and social behavior, mating habits, diet and nutrition, population size and status. ... Top speed. 58. 36. km/h mph. km/h \n",
       "mph . Weight. 28-90. 61.6-198. kg lbs. kg lbs . Height. 57-70. 22.4-27.6. cm inch. cm inch . Length. 90-190. ... Leopards are top predators of ...\n",
       "\n",
       "[How fast can leopards run and how agile are they? - WildLifeFAQs](https://wildlifefaq.com/leopard-speed-and-agility/)\n",
       "In this section, we will explore the leopard's running speed, top speed, and overall agility. Get ready to be amazed by these agile big cats! Leopards are known for their remarkable speed and agility.\n",
       "They can reach speeds of up to 58 kilometers per hour (36 mph) during short bursts of running. Their long, muscular legs allow them to cover ...\n",
       "\n",
       "[Leopard's Peak Speed: Unleashing Their Running Power](https://startingrun.com/unleashing-the-speed-how-fast-can-a-leopard-run/)\n",
       "Top Speed (in mph) Leopard: 58: Lion: 50: Tiger: 40: Cheetah: 60-70: Clearly, leopards demonstrate remarkable speed, but their main advantage lies in their agility and adaptability.\n",
       "\n",
       "[Leopard - A-Z Animals](https://a-z-animals.com/animals/leopard/)\n",
       "Top Speed 36 mph Lifespan 10 - 15 years Weight 30kg - 90kg (66lbs - 198lbs) Length 100cm - 190cm (40in - 75in) Age of Sexual Maturity 2 - 2.5 years ... The leopard is a medium-sized wildcat that lives\n",
       "in a variety of different habitats across sub-Saharan Africa and southern Asia. Distinguished by their uniquely beautiful \"spotted\" coat ...\n",
       "\n",
       "[Leopard Facts - Animal Facts Encyclopedia](https://www.animalfactsencyclopedia.com/Leopard-facts.html)\n",
       "The leopard's climbing ability sets it apart from the other big cats and has made it the most successful of the group as far as its numbers in the wild. ... TOP SPEED: GENDER DIFFERENCE: COLOR \n",
       "VARIATION: 36 mph: male 20% larger \"black panther\" is melanistic leopard - spots are faintly visible: ESTRUS: GESTATION: BIRTH LENGTH: BIRTH WEIGHT\n",
       "\n",
       "[Leopard's Agile Movement And Impressive Speed - Big Cat Facts](https://bigcatfacts.net/leopards-agile-movement-and-impressive-speed/)\n",
       "Recognized as being one of a few top predators, leopards are best known for their astonishing speed, agility, and strength. In stark contrast to the cheetah—another renowned predator—the leopard's \n",
       "muscular build enables it to reach speeds of roughly 58 kilometers per hour.\n",
       "\n",
       "Out: None\n"
      ]
     },
     "metadata": {},
     "output_type": "display_data"
    },
    {
     "data": {
      "text/html": [
       "<pre style=\"white-space:pre;overflow-x:auto;line-height:normal;font-family:Menlo,'DejaVu Sans Mono',consolas,'Courier New',monospace\"><span style=\"color: #7f7f7f; text-decoration-color: #7f7f7f\">[Step 1: Duration 3.88 seconds| Input tokens: 5,609 | Output tokens: 192]</span>\n",
       "</pre>\n"
      ],
      "text/plain": [
       "\u001b[2m[Step 1: Duration 3.88 seconds| Input tokens: 5,609 | Output tokens: 192]\u001b[0m\n"
      ]
     },
     "metadata": {},
     "output_type": "display_data"
    },
    {
     "data": {
      "text/html": [
       "<pre style=\"white-space:pre;overflow-x:auto;line-height:normal;font-family:Menlo,'DejaVu Sans Mono',consolas,'Courier New',monospace\"><span style=\"color: #d4b702; text-decoration-color: #d4b702\">━━━━━━━━━━━━━━━━━━━━━━━━━━━━━━━━━━━━━━━━━━━━━━━━━━━━━━━━━━━━━━━━━━━━━━━━━━━━━━━━━━━━━━━━━━━━━━━━ </span><span style=\"font-weight: bold\">Step </span><span style=\"color: #008080; text-decoration-color: #008080; font-weight: bold\">2</span><span style=\"color: #d4b702; text-decoration-color: #d4b702\"> ━━━━━━━━━━━━━━━━━━━━━━━━━━━━━━━━━━━━━━━━━━━━━━━━━━━━━━━━━━━━━━━━━━━━━━━━━━━━━━━━━━━━━━━━━━━━━━━━</span>\n",
       "</pre>\n"
      ],
      "text/plain": [
       "\u001b[38;2;212;183;2m━━━━━━━━━━━━━━━━━━━━━━━━━━━━━━━━━━━━━━━━━━━━━━━━━━━━━━━━━━━━━━━━━━━━━━━━━━━━━━━━━━━━━━━━━━━━━━━━ \u001b[0m\u001b[1mStep \u001b[0m\u001b[1;36m2\u001b[0m\u001b[38;2;212;183;2m ━━━━━━━━━━━━━━━━━━━━━━━━━━━━━━━━━━━━━━━━━━━━━━━━━━━━━━━━━━━━━━━━━━━━━━━━━━━━━━━━━━━━━━━━━━━━━━━━\u001b[0m\n"
      ]
     },
     "metadata": {},
     "output_type": "display_data"
    },
    {
     "data": {
      "text/html": [
       "<pre style=\"white-space:pre;overflow-x:auto;line-height:normal;font-family:Menlo,'DejaVu Sans Mono',consolas,'Courier New',monospace\">╭─ <span style=\"font-weight: bold\">Executing this code:</span> ───────────────────────────────────────────────────────────────────────────────────────────────────────────────────────────────────────────────────────────────────────────────╮\n",
       "│ <span style=\"color: #e3e3dd; text-decoration-color: #e3e3dd; background-color: #272822; font-weight: bold\">  </span><span style=\"color: #656660; text-decoration-color: #656660; background-color: #272822\"> 1 </span><span style=\"color: #959077; text-decoration-color: #959077; background-color: #272822\"># Convert leopard's top speed from km/h to m/s</span><span style=\"background-color: #272822\">                                                                                                                                                 </span> │\n",
       "│ <span style=\"color: #e3e3dd; text-decoration-color: #e3e3dd; background-color: #272822; font-weight: bold\">  </span><span style=\"color: #656660; text-decoration-color: #656660; background-color: #272822\"> 2 </span><span style=\"color: #f8f8f2; text-decoration-color: #f8f8f2; background-color: #272822\">leopard_top_speed_kmh </span><span style=\"color: #ff4689; text-decoration-color: #ff4689; background-color: #272822\">=</span><span style=\"color: #f8f8f2; text-decoration-color: #f8f8f2; background-color: #272822\"> </span><span style=\"color: #ae81ff; text-decoration-color: #ae81ff; background-color: #272822\">58</span><span style=\"color: #f8f8f2; text-decoration-color: #f8f8f2; background-color: #272822\">  </span><span style=\"color: #959077; text-decoration-color: #959077; background-color: #272822\"># km/h</span><span style=\"background-color: #272822\">                                                                                                                                                             </span> │\n",
       "│ <span style=\"color: #e3e3dd; text-decoration-color: #e3e3dd; background-color: #272822; font-weight: bold\">  </span><span style=\"color: #656660; text-decoration-color: #656660; background-color: #272822\"> 3 </span><span style=\"color: #f8f8f2; text-decoration-color: #f8f8f2; background-color: #272822\">leopard_top_speed_ms </span><span style=\"color: #ff4689; text-decoration-color: #ff4689; background-color: #272822\">=</span><span style=\"color: #f8f8f2; text-decoration-color: #f8f8f2; background-color: #272822\"> leopard_top_speed_kmh </span><span style=\"color: #ff4689; text-decoration-color: #ff4689; background-color: #272822\">*</span><span style=\"color: #f8f8f2; text-decoration-color: #f8f8f2; background-color: #272822\"> (</span><span style=\"color: #ae81ff; text-decoration-color: #ae81ff; background-color: #272822\">1000</span><span style=\"color: #f8f8f2; text-decoration-color: #f8f8f2; background-color: #272822\"> </span><span style=\"color: #ff4689; text-decoration-color: #ff4689; background-color: #272822\">/</span><span style=\"color: #f8f8f2; text-decoration-color: #f8f8f2; background-color: #272822\"> </span><span style=\"color: #ae81ff; text-decoration-color: #ae81ff; background-color: #272822\">3600</span><span style=\"color: #f8f8f2; text-decoration-color: #f8f8f2; background-color: #272822\">)  </span><span style=\"color: #959077; text-decoration-color: #959077; background-color: #272822\"># m/s</span><span style=\"background-color: #272822\">                                                                                                                            </span> │\n",
       "│ <span style=\"color: #e3e3dd; text-decoration-color: #e3e3dd; background-color: #272822; font-weight: bold\">  </span><span style=\"color: #656660; text-decoration-color: #656660; background-color: #272822\"> 4 </span><span style=\"background-color: #272822\">                                                                                                                                                                                               </span> │\n",
       "│ <span style=\"color: #e3e3dd; text-decoration-color: #e3e3dd; background-color: #272822; font-weight: bold\">  </span><span style=\"color: #656660; text-decoration-color: #656660; background-color: #272822\"> 5 </span><span style=\"color: #959077; text-decoration-color: #959077; background-color: #272822\"># Length of Pont des Arts bridge in meters</span><span style=\"background-color: #272822\">                                                                                                                                                     </span> │\n",
       "│ <span style=\"color: #e3e3dd; text-decoration-color: #e3e3dd; background-color: #272822; font-weight: bold\">  </span><span style=\"color: #656660; text-decoration-color: #656660; background-color: #272822\"> 6 </span><span style=\"color: #f8f8f2; text-decoration-color: #f8f8f2; background-color: #272822\">pont_des_arts_length </span><span style=\"color: #ff4689; text-decoration-color: #ff4689; background-color: #272822\">=</span><span style=\"color: #f8f8f2; text-decoration-color: #f8f8f2; background-color: #272822\"> </span><span style=\"color: #ae81ff; text-decoration-color: #ae81ff; background-color: #272822\">155</span><span style=\"color: #f8f8f2; text-decoration-color: #f8f8f2; background-color: #272822\">  </span><span style=\"color: #959077; text-decoration-color: #959077; background-color: #272822\"># meters</span><span style=\"background-color: #272822\">                                                                                                                                                           </span> │\n",
       "│ <span style=\"color: #e3e3dd; text-decoration-color: #e3e3dd; background-color: #272822; font-weight: bold\">  </span><span style=\"color: #656660; text-decoration-color: #656660; background-color: #272822\"> 7 </span><span style=\"background-color: #272822\">                                                                                                                                                                                               </span> │\n",
       "│ <span style=\"color: #e3e3dd; text-decoration-color: #e3e3dd; background-color: #272822; font-weight: bold\">  </span><span style=\"color: #656660; text-decoration-color: #656660; background-color: #272822\"> 8 </span><span style=\"color: #959077; text-decoration-color: #959077; background-color: #272822\"># Calculate the time it would take for a leopard to run through the bridge</span><span style=\"background-color: #272822\">                                                                                                                     </span> │\n",
       "│ <span style=\"color: #e3e3dd; text-decoration-color: #e3e3dd; background-color: #272822; font-weight: bold\">  </span><span style=\"color: #656660; text-decoration-color: #656660; background-color: #272822\"> 9 </span><span style=\"color: #f8f8f2; text-decoration-color: #f8f8f2; background-color: #272822\">time_to_run_through_bridge </span><span style=\"color: #ff4689; text-decoration-color: #ff4689; background-color: #272822\">=</span><span style=\"color: #f8f8f2; text-decoration-color: #f8f8f2; background-color: #272822\"> pont_des_arts_length </span><span style=\"color: #ff4689; text-decoration-color: #ff4689; background-color: #272822\">/</span><span style=\"color: #f8f8f2; text-decoration-color: #f8f8f2; background-color: #272822\"> leopard_top_speed_ms  </span><span style=\"color: #959077; text-decoration-color: #959077; background-color: #272822\"># seconds</span><span style=\"background-color: #272822\">                                                                                                            </span> │\n",
       "│ <span style=\"color: #e3e3dd; text-decoration-color: #e3e3dd; background-color: #272822; font-weight: bold\">  </span><span style=\"color: #656660; text-decoration-color: #656660; background-color: #272822\">10 </span><span style=\"color: #f8f8f2; text-decoration-color: #f8f8f2; background-color: #272822\">final_answer(time_to_run_through_bridge)</span><span style=\"background-color: #272822\">                                                                                                                                                       </span> │\n",
       "╰──────────────────────────────────────────────────────────────────────────────────────────────────────────────────────────────────────────────────────────────────────────────────────────────────────╯\n",
       "</pre>\n"
      ],
      "text/plain": [
       "╭─ \u001b[1mExecuting this code:\u001b[0m ───────────────────────────────────────────────────────────────────────────────────────────────────────────────────────────────────────────────────────────────────────────────╮\n",
       "│ \u001b[1;38;2;227;227;221;48;2;39;40;34m  \u001b[0m\u001b[38;2;101;102;96;48;2;39;40;34m 1 \u001b[0m\u001b[38;2;149;144;119;48;2;39;40;34m# Convert leopard's top speed from km/h to m/s\u001b[0m\u001b[48;2;39;40;34m                                                                                                                                                 \u001b[0m │\n",
       "│ \u001b[1;38;2;227;227;221;48;2;39;40;34m  \u001b[0m\u001b[38;2;101;102;96;48;2;39;40;34m 2 \u001b[0m\u001b[38;2;248;248;242;48;2;39;40;34mleopard_top_speed_kmh\u001b[0m\u001b[38;2;248;248;242;48;2;39;40;34m \u001b[0m\u001b[38;2;255;70;137;48;2;39;40;34m=\u001b[0m\u001b[38;2;248;248;242;48;2;39;40;34m \u001b[0m\u001b[38;2;174;129;255;48;2;39;40;34m58\u001b[0m\u001b[38;2;248;248;242;48;2;39;40;34m  \u001b[0m\u001b[38;2;149;144;119;48;2;39;40;34m# km/h\u001b[0m\u001b[48;2;39;40;34m                                                                                                                                                             \u001b[0m │\n",
       "│ \u001b[1;38;2;227;227;221;48;2;39;40;34m  \u001b[0m\u001b[38;2;101;102;96;48;2;39;40;34m 3 \u001b[0m\u001b[38;2;248;248;242;48;2;39;40;34mleopard_top_speed_ms\u001b[0m\u001b[38;2;248;248;242;48;2;39;40;34m \u001b[0m\u001b[38;2;255;70;137;48;2;39;40;34m=\u001b[0m\u001b[38;2;248;248;242;48;2;39;40;34m \u001b[0m\u001b[38;2;248;248;242;48;2;39;40;34mleopard_top_speed_kmh\u001b[0m\u001b[38;2;248;248;242;48;2;39;40;34m \u001b[0m\u001b[38;2;255;70;137;48;2;39;40;34m*\u001b[0m\u001b[38;2;248;248;242;48;2;39;40;34m \u001b[0m\u001b[38;2;248;248;242;48;2;39;40;34m(\u001b[0m\u001b[38;2;174;129;255;48;2;39;40;34m1000\u001b[0m\u001b[38;2;248;248;242;48;2;39;40;34m \u001b[0m\u001b[38;2;255;70;137;48;2;39;40;34m/\u001b[0m\u001b[38;2;248;248;242;48;2;39;40;34m \u001b[0m\u001b[38;2;174;129;255;48;2;39;40;34m3600\u001b[0m\u001b[38;2;248;248;242;48;2;39;40;34m)\u001b[0m\u001b[38;2;248;248;242;48;2;39;40;34m  \u001b[0m\u001b[38;2;149;144;119;48;2;39;40;34m# m/s\u001b[0m\u001b[48;2;39;40;34m                                                                                                                            \u001b[0m │\n",
       "│ \u001b[1;38;2;227;227;221;48;2;39;40;34m  \u001b[0m\u001b[38;2;101;102;96;48;2;39;40;34m 4 \u001b[0m\u001b[48;2;39;40;34m                                                                                                                                                                                               \u001b[0m │\n",
       "│ \u001b[1;38;2;227;227;221;48;2;39;40;34m  \u001b[0m\u001b[38;2;101;102;96;48;2;39;40;34m 5 \u001b[0m\u001b[38;2;149;144;119;48;2;39;40;34m# Length of Pont des Arts bridge in meters\u001b[0m\u001b[48;2;39;40;34m                                                                                                                                                     \u001b[0m │\n",
       "│ \u001b[1;38;2;227;227;221;48;2;39;40;34m  \u001b[0m\u001b[38;2;101;102;96;48;2;39;40;34m 6 \u001b[0m\u001b[38;2;248;248;242;48;2;39;40;34mpont_des_arts_length\u001b[0m\u001b[38;2;248;248;242;48;2;39;40;34m \u001b[0m\u001b[38;2;255;70;137;48;2;39;40;34m=\u001b[0m\u001b[38;2;248;248;242;48;2;39;40;34m \u001b[0m\u001b[38;2;174;129;255;48;2;39;40;34m155\u001b[0m\u001b[38;2;248;248;242;48;2;39;40;34m  \u001b[0m\u001b[38;2;149;144;119;48;2;39;40;34m# meters\u001b[0m\u001b[48;2;39;40;34m                                                                                                                                                           \u001b[0m │\n",
       "│ \u001b[1;38;2;227;227;221;48;2;39;40;34m  \u001b[0m\u001b[38;2;101;102;96;48;2;39;40;34m 7 \u001b[0m\u001b[48;2;39;40;34m                                                                                                                                                                                               \u001b[0m │\n",
       "│ \u001b[1;38;2;227;227;221;48;2;39;40;34m  \u001b[0m\u001b[38;2;101;102;96;48;2;39;40;34m 8 \u001b[0m\u001b[38;2;149;144;119;48;2;39;40;34m# Calculate the time it would take for a leopard to run through the bridge\u001b[0m\u001b[48;2;39;40;34m                                                                                                                     \u001b[0m │\n",
       "│ \u001b[1;38;2;227;227;221;48;2;39;40;34m  \u001b[0m\u001b[38;2;101;102;96;48;2;39;40;34m 9 \u001b[0m\u001b[38;2;248;248;242;48;2;39;40;34mtime_to_run_through_bridge\u001b[0m\u001b[38;2;248;248;242;48;2;39;40;34m \u001b[0m\u001b[38;2;255;70;137;48;2;39;40;34m=\u001b[0m\u001b[38;2;248;248;242;48;2;39;40;34m \u001b[0m\u001b[38;2;248;248;242;48;2;39;40;34mpont_des_arts_length\u001b[0m\u001b[38;2;248;248;242;48;2;39;40;34m \u001b[0m\u001b[38;2;255;70;137;48;2;39;40;34m/\u001b[0m\u001b[38;2;248;248;242;48;2;39;40;34m \u001b[0m\u001b[38;2;248;248;242;48;2;39;40;34mleopard_top_speed_ms\u001b[0m\u001b[38;2;248;248;242;48;2;39;40;34m  \u001b[0m\u001b[38;2;149;144;119;48;2;39;40;34m# seconds\u001b[0m\u001b[48;2;39;40;34m                                                                                                            \u001b[0m │\n",
       "│ \u001b[1;38;2;227;227;221;48;2;39;40;34m  \u001b[0m\u001b[38;2;101;102;96;48;2;39;40;34m10 \u001b[0m\u001b[38;2;248;248;242;48;2;39;40;34mfinal_answer\u001b[0m\u001b[38;2;248;248;242;48;2;39;40;34m(\u001b[0m\u001b[38;2;248;248;242;48;2;39;40;34mtime_to_run_through_bridge\u001b[0m\u001b[38;2;248;248;242;48;2;39;40;34m)\u001b[0m\u001b[48;2;39;40;34m                                                                                                                                                       \u001b[0m │\n",
       "╰──────────────────────────────────────────────────────────────────────────────────────────────────────────────────────────────────────────────────────────────────────────────────────────────────────╯\n"
      ]
     },
     "metadata": {},
     "output_type": "display_data"
    },
    {
     "data": {
      "text/html": [
       "<pre style=\"white-space:pre;overflow-x:auto;line-height:normal;font-family:Menlo,'DejaVu Sans Mono',consolas,'Courier New',monospace\"><span style=\"color: #d4b702; text-decoration-color: #d4b702; font-weight: bold\">Out - Final answer: 9.620689655172415</span>\n",
       "</pre>\n"
      ],
      "text/plain": [
       "\u001b[1;38;2;212;183;2mOut - Final answer: 9.620689655172415\u001b[0m\n"
      ]
     },
     "metadata": {},
     "output_type": "display_data"
    },
    {
     "data": {
      "text/html": [
       "<pre style=\"white-space:pre;overflow-x:auto;line-height:normal;font-family:Menlo,'DejaVu Sans Mono',consolas,'Courier New',monospace\"><span style=\"color: #7f7f7f; text-decoration-color: #7f7f7f\">[Step 2: Duration 6.35 seconds| Input tokens: 10,412 | Output tokens: 406]</span>\n",
       "</pre>\n"
      ],
      "text/plain": [
       "\u001b[2m[Step 2: Duration 6.35 seconds| Input tokens: 10,412 | Output tokens: 406]\u001b[0m\n"
      ]
     },
     "metadata": {},
     "output_type": "display_data"
    },
    {
     "data": {
      "text/plain": [
       "9.620689655172415"
      ]
     },
     "execution_count": 10,
     "metadata": {},
     "output_type": "execute_result"
    }
   ],
   "source": [
    "\n",
    "agent.run(\"How many seconds would it take for a leopard at full speed to run through Pont des Arts?\")\n",
    "\n",
    "\n"
   ]
  },
  {
   "cell_type": "code",
   "execution_count": null,
   "id": "575c4a07-7564-4d33-81f6-ad1c80c5fc75",
   "metadata": {},
   "outputs": [],
   "source": []
  },
  {
   "cell_type": "code",
   "execution_count": null,
   "id": "f66dbdc0-c1c1-4854-8f51-826f49dcc8e6",
   "metadata": {},
   "outputs": [],
   "source": []
  },
  {
   "cell_type": "code",
   "execution_count": null,
   "id": "79789455-2de7-4361-97bb-63db09700c9d",
   "metadata": {},
   "outputs": [],
   "source": []
  },
  {
   "cell_type": "code",
   "execution_count": null,
   "id": "be1dfbcd-3b6e-4824-aec9-d1c6844c34e4",
   "metadata": {},
   "outputs": [],
   "source": []
  },
  {
   "cell_type": "code",
   "execution_count": null,
   "id": "5efcd59d-c176-4f36-a495-9ba5f39aaa14",
   "metadata": {},
   "outputs": [],
   "source": []
  },
  {
   "cell_type": "code",
   "execution_count": null,
   "id": "47459a19-0fac-4a0f-ae05-bae403e95f8a",
   "metadata": {},
   "outputs": [],
   "source": []
  },
  {
   "cell_type": "code",
   "execution_count": null,
   "id": "288de452-f8ca-4b02-83d6-6d390a9b7363",
   "metadata": {},
   "outputs": [],
   "source": []
  },
  {
   "cell_type": "code",
   "execution_count": null,
   "id": "a8663727-5454-4d51-80a8-5c34a487496c",
   "metadata": {},
   "outputs": [],
   "source": []
  },
  {
   "cell_type": "code",
   "execution_count": null,
   "id": "aeafb687-6452-4f0b-9065-85e5a9e627b1",
   "metadata": {},
   "outputs": [],
   "source": []
  },
  {
   "cell_type": "code",
   "execution_count": null,
   "id": "022aed8c-d316-4a5b-8e68-ba524a57dc2c",
   "metadata": {},
   "outputs": [],
   "source": []
  },
  {
   "cell_type": "code",
   "execution_count": null,
   "id": "961de6c1-6838-46dd-bd58-2e024b8598d7",
   "metadata": {},
   "outputs": [],
   "source": []
  },
  {
   "cell_type": "code",
   "execution_count": null,
   "id": "6f447173-5c59-4b87-8664-d456cd680c3a",
   "metadata": {},
   "outputs": [],
   "source": []
  },
  {
   "cell_type": "code",
   "execution_count": null,
   "id": "063a2ad7-027f-4035-8e3f-4ea9eede8931",
   "metadata": {},
   "outputs": [],
   "source": []
  },
  {
   "cell_type": "code",
   "execution_count": null,
   "id": "a4096ab5-ca19-48b1-9991-2031768fa528",
   "metadata": {},
   "outputs": [],
   "source": []
  },
  {
   "cell_type": "code",
   "execution_count": null,
   "id": "22eae852-71cc-4d30-8d48-856918ef0c8a",
   "metadata": {},
   "outputs": [],
   "source": []
  }
 ],
 "metadata": {
  "kernelspec": {
   "display_name": "Python 3 (ipykernel)",
   "language": "python",
   "name": "python3"
  },
  "language_info": {
   "codemirror_mode": {
    "name": "ipython",
    "version": 3
   },
   "file_extension": ".py",
   "mimetype": "text/x-python",
   "name": "python",
   "nbconvert_exporter": "python",
   "pygments_lexer": "ipython3",
   "version": "3.10.16"
  }
 },
 "nbformat": 4,
 "nbformat_minor": 5
}
