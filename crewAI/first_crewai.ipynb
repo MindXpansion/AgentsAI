{
 "cells": [
  {
   "cell_type": "markdown",
   "id": "d65c72e7-b973-489c-b891-73f0011b44b0",
   "metadata": {},
   "source": [
    "\n",
    "## crewai\n",
    "\n",
    "* python 3.10\n",
    "* https://medium.com/@sridevi17j/step-by-step-guide-setting-up-and-running-ollama-in-windows-macos-linux-a00f21164bf3\n",
    "* https://medium.com/@sahin.samia/building-ai-agents-with-crewai-a-step-by-step-guide-172627e110c5\n",
    "* https://docs.crewai.com/concepts/crews\n",
    "* \n"
   ]
  },
  {
   "cell_type": "code",
   "execution_count": 1,
   "id": "b8871d7e-6c0b-43f7-b69c-8183fb2ad680",
   "metadata": {},
   "outputs": [],
   "source": [
    "\n",
    "## !pip install crewai\n",
    "## !pip install 'crewai[tools]'\n"
   ]
  },
  {
   "cell_type": "code",
   "execution_count": 2,
   "id": "52b078f0-d0af-41f5-a284-b07218d3ff82",
   "metadata": {},
   "outputs": [],
   "source": [
    "\n",
    "import os\n",
    "from crewai_tools import SerperDevTool, BrowserbaseLoadTool, EXASearchTool\n",
    "from crewai import Agent\n",
    "from crewai import Task\n",
    "from crewai import LLM\n",
    "\n",
    "from langchain_community.llms import Ollama\n",
    "\n",
    "\n",
    "from crewai import Crew, Process\n"
   ]
  },
  {
   "cell_type": "markdown",
   "id": "bb8fa241-44be-46d8-97c5-b7c031c6f825",
   "metadata": {},
   "source": [
    "\n",
    "## First Example\n"
   ]
  },
  {
   "cell_type": "code",
   "execution_count": 3,
   "id": "b0837426-1ee9-4136-b54d-c1b9a8cff84c",
   "metadata": {},
   "outputs": [],
   "source": [
    "\n",
    "\n",
    "\n",
    "researcher_agent = Agent(\n",
    "    role=\"Senior Data Researcher\",\n",
    "    goal=\"Uncover cutting-edge developments in AI\",\n",
    "    backstory=\"A seasoned researcher with a knack for uncovering the latest developments in AI.\",\n",
    "    tools=[ SerperDevTool() ],\n",
    "    verbose=True\n",
    ")\n"
   ]
  },
  {
   "cell_type": "code",
   "execution_count": null,
   "id": "0cfb49dd-befd-4554-8a7b-1e662c894d49",
   "metadata": {},
   "outputs": [],
   "source": [
    "\n",
    "\n",
    "\n"
   ]
  },
  {
   "cell_type": "code",
   "execution_count": 4,
   "id": "819a7018-597f-4b95-ac68-db1923e9ed6e",
   "metadata": {},
   "outputs": [
    {
     "data": {
      "text/plain": [
       "'\\nopenai_llm = LLM(\\n    model=\"gpt-4\",\\n    api_key=\"your-openai-api-key\",\\n    api_base=\"https://api.openai.com/v1\"\\n)\\n'"
      ]
     },
     "execution_count": 4,
     "metadata": {},
     "output_type": "execute_result"
    }
   ],
   "source": [
    "\n",
    "'''\n",
    "openai_llm = LLM(\n",
    "    model=\"gpt-4\",\n",
    "    api_key=\"your-openai-api-key\",\n",
    "    api_base=\"https://api.openai.com/v1\"\n",
    ")\n",
    "'''\n"
   ]
  },
  {
   "cell_type": "code",
   "execution_count": 5,
   "id": "a03a48fd-27ab-4c17-b726-a27a4b5866bb",
   "metadata": {},
   "outputs": [],
   "source": [
    "\n",
    "\n",
    "ollama_llm = LLM(\n",
    "    model=\"ollama/llama3.1\",\n",
    "    base_url=\"http://localhost:11434\"\n",
    ")\n"
   ]
  },
  {
   "cell_type": "code",
   "execution_count": 6,
   "id": "36d92e5e-3f7b-4dfa-b194-d2dea2fe4d8d",
   "metadata": {},
   "outputs": [
    {
     "name": "stderr",
     "output_type": "stream",
     "text": [
      "/var/folders/q4/zdsjyw0d297_fn6_fh5n7g9h0000gn/T/ipykernel_46035/1854168522.py:1: LangChainDeprecationWarning: The class `Ollama` was deprecated in LangChain 0.3.1 and will be removed in 1.0.0. An updated version of the class exists in the :class:`~langchain-ollama package and should be used instead. To use it run `pip install -U :class:`~langchain-ollama` and import as `from :class:`~langchain_ollama import OllamaLLM``.\n",
      "  llm_llama = Ollama(model=\"llama2\")\n"
     ]
    }
   ],
   "source": [
    "\n",
    "llm_llama = Ollama(model=\"llama2\")\n"
   ]
  },
  {
   "cell_type": "code",
   "execution_count": 7,
   "id": "a7d2a54e-7afd-4b81-9bed-cfeed7ddbefb",
   "metadata": {},
   "outputs": [],
   "source": [
    "\n",
    "\n",
    "researcher_agent = Agent(\n",
    "    role='Researcher',\n",
    "    goal='Find and summarize the latest AI news',\n",
    "    backstory=\"\"\"You're a researcher at a large company.\n",
    "    You're responsible for analyzing data and providing insights\n",
    "    to the business.\"\"\",\n",
    "    verbose=False,\n",
    "    ## llm=llm_llama\n",
    "    llm=LLM( model=\"ollama/llama3.2\", base_url=\"http://localhost:11434\" )\n",
    ")\n",
    "\n"
   ]
  },
  {
   "cell_type": "code",
   "execution_count": 8,
   "id": "98f5d3ca-9490-4a63-a65e-3ccfeee0fb5c",
   "metadata": {},
   "outputs": [
    {
     "data": {
      "text/plain": [
       "'\\n\\nos.environ[\"OPENAI_API_KEY\"] = \"your-openai-api-key\"\\nos.environ[\"OPENAI_API_BASE\"] = \"https://api.openai.com/v1\"\\n\\n'"
      ]
     },
     "execution_count": 8,
     "metadata": {},
     "output_type": "execute_result"
    }
   ],
   "source": [
    "\n",
    "'''\n",
    "\n",
    "os.environ[\"OPENAI_API_KEY\"] = \"your-openai-api-key\"\n",
    "os.environ[\"OPENAI_API_BASE\"] = \"https://api.openai.com/v1\"\n",
    "\n",
    "'''\n"
   ]
  },
  {
   "cell_type": "code",
   "execution_count": 9,
   "id": "f5b7eb3c-73e1-49ec-9aaf-37a1fe7370d4",
   "metadata": {},
   "outputs": [
    {
     "data": {
      "text/plain": [
       "'\\n\\nresearch_task = Task(\\n    description=\"Conduct comprehensive research on the latest AI developments.\",\\n    expected_output=\"A summary report highlighting key advancements in AI.\",\\n    agent=researcher_agent,\\n    ## tools=[search_tool],\\n    async_execution=True\\n)\\n\\n'"
      ]
     },
     "execution_count": 9,
     "metadata": {},
     "output_type": "execute_result"
    }
   ],
   "source": [
    "\n",
    "## task = Task(description=\"\"\" Test \"\"\", agent = research_agent)\n",
    "\n",
    "research_task = Task(\n",
    "    description=\"Conduct comprehensive research on the latest AI developments.\",\n",
    "    expected_output=\"A summary report highlighting key advancements in AI.\",\n",
    "    agent=researcher_agent,\n",
    "    ## tools=[search_tool],\n",
    "    async_execution=True\n",
    ")\n",
    "\n",
    "'''\n",
    "\n",
    "research_task = Task(\n",
    "    description=\"Conduct comprehensive research on the latest AI developments.\",\n",
    "    expected_output=\"A summary report highlighting key advancements in AI.\",\n",
    "    agent=researcher_agent,\n",
    "    ## tools=[search_tool],\n",
    "    async_execution=True\n",
    ")\n",
    "\n",
    "'''\n",
    "\n"
   ]
  },
  {
   "cell_type": "code",
   "execution_count": 10,
   "id": "0f23993c-3f37-44f0-9a42-6f3e6eeeee08",
   "metadata": {},
   "outputs": [
    {
     "data": {
      "text/plain": [
       "'\\ncrew = Crew(\\n      agents=[research_agent],\\n      tasks = [research_task],\\n      verbose=2\\n)\\n'"
      ]
     },
     "execution_count": 10,
     "metadata": {},
     "output_type": "execute_result"
    }
   ],
   "source": [
    "\n",
    "'''\n",
    "crew = Crew(\n",
    "      agents=[research_agent],\n",
    "      tasks = [research_task],\n",
    "      verbose=2\n",
    ")\n",
    "'''\n"
   ]
  },
  {
   "cell_type": "code",
   "execution_count": 11,
   "id": "e308a7d6-ba43-4619-8ce2-8df2372459a9",
   "metadata": {},
   "outputs": [],
   "source": [
    "\n",
    "\n",
    "\n",
    "my_crew = Crew(\n",
    "    agents=[researcher_agent],\n",
    "    tasks=[research_task],\n",
    "    process=Process.sequential,\n",
    "    verbose=True\n",
    ")\n",
    "\n"
   ]
  },
  {
   "cell_type": "code",
   "execution_count": 12,
   "id": "ab554e88-8a01-4b6b-bb46-736093e09bef",
   "metadata": {},
   "outputs": [
    {
     "name": "stdout",
     "output_type": "stream",
     "text": [
      "\u001b[1m\u001b[95m# Agent:\u001b[00m \u001b[1m\u001b[92mResearcher\u001b[00m\n",
      "\u001b[95m## Task:\u001b[00m \u001b[92mConduct comprehensive research on the latest AI developments.\u001b[00m\n",
      "\n",
      "\n",
      "\u001b[1m\u001b[95m# Agent:\u001b[00m \u001b[1m\u001b[92mResearcher\u001b[00m\n",
      "\u001b[95m## Final Answer:\u001b[00m \u001b[92m\n",
      "The field of Artificial Intelligence (AI) has witnessed significant advancements in recent years, with breakthroughs in various areas such as machine learning, natural language processing, and computer vision. Here's a comprehensive report highlighting key developments in AI:\n",
      "\n",
      "**Advances in Machine Learning**\n",
      "\n",
      "1. **Explainable AI**: Researchers have made significant progress in developing explainable AI (XAI) techniques, which provide insights into the decision-making process of machine learning models. XAI has numerous applications in areas such as healthcare, finance, and law.\n",
      "2. **Transfer Learning**: Transfer learning has become a widely used technique in deep learning, enabling machines to learn from one task and apply that knowledge to another related task. This approach has led to improved performance in various applications, including computer vision and natural language processing.\n",
      "3. **Reinforcement Learning**: Reinforcement learning has seen significant advancements, with the development of more efficient algorithms such as Deep Q-Networks (DQN) and Proximal Policy Optimization (PPO). These advancements have enabled machines to learn complex tasks in areas such as robotics and game playing.\n",
      "\n",
      "**Breakthroughs in Natural Language Processing**\n",
      "\n",
      "1. **Language Models**: Recent years have seen significant progress in the development of language models, which can generate human-like text based on a given input. Models like BERT and RoBERTa have become widely used in natural language processing applications.\n",
      "2. **Sentiment Analysis**: Sentiment analysis has improved significantly, with the development of more accurate algorithms such as deep learning-based approaches. These advancements have enabled machines to analyze sentiment in text data with high accuracy.\n",
      "3. **Conversational AI**: Conversational AI has seen significant progress, with the development of chatbots and virtual assistants that can engage in natural-sounding conversations.\n",
      "\n",
      "**Advances in Computer Vision**\n",
      "\n",
      "1. **Object Detection**: Object detection has become more accurate, with the development of techniques such as YOLO (You Only Look Once) and SSD (Single Shot Detector). These advancements have enabled machines to detect objects in images with high accuracy.\n",
      "2. **Image Generation**: Image generation has seen significant progress, with the development of GANs (Generative Adversarial Networks) that can generate realistic images.\n",
      "3. **Video Analysis**: Video analysis has improved significantly, with the development of techniques such as Optical Flow and Deep Learning-based approaches.\n",
      "\n",
      "**Other Key Developments**\n",
      "\n",
      "1. **Edge AI**: Edge AI has become increasingly important, as machines are being deployed at the edge (i.e., in devices) to perform tasks that were previously handled by centralized data centers.\n",
      "2. **Explainable AI for Healthcare**: Researchers have made significant progress in developing explainable AI techniques specifically for healthcare applications, such as medical imaging analysis and disease diagnosis.\n",
      "3. **AI Ethics**: As AI becomes increasingly ubiquitous, there has been a growing need to address the ethics of AI development and deployment. Researchers are working on developing frameworks and guidelines for ensuring that AI systems are transparent, accountable, and fair.\n",
      "\n",
      "Overall, these advancements in AI have far-reaching implications for various industries, including healthcare, finance, transportation, and education. As researchers, we must continue to push the boundaries of what is possible with AI to drive innovation and progress.\u001b[00m\n",
      "\n",
      "\n",
      "The field of Artificial Intelligence (AI) has witnessed significant advancements in recent years, with breakthroughs in various areas such as machine learning, natural language processing, and computer vision. Here's a comprehensive report highlighting key developments in AI:\n",
      "\n",
      "**Advances in Machine Learning**\n",
      "\n",
      "1. **Explainable AI**: Researchers have made significant progress in developing explainable AI (XAI) techniques, which provide insights into the decision-making process of machine learning models. XAI has numerous applications in areas such as healthcare, finance, and law.\n",
      "2. **Transfer Learning**: Transfer learning has become a widely used technique in deep learning, enabling machines to learn from one task and apply that knowledge to another related task. This approach has led to improved performance in various applications, including computer vision and natural language processing.\n",
      "3. **Reinforcement Learning**: Reinforcement learning has seen significant advancements, with the development of more efficient algorithms such as Deep Q-Networks (DQN) and Proximal Policy Optimization (PPO). These advancements have enabled machines to learn complex tasks in areas such as robotics and game playing.\n",
      "\n",
      "**Breakthroughs in Natural Language Processing**\n",
      "\n",
      "1. **Language Models**: Recent years have seen significant progress in the development of language models, which can generate human-like text based on a given input. Models like BERT and RoBERTa have become widely used in natural language processing applications.\n",
      "2. **Sentiment Analysis**: Sentiment analysis has improved significantly, with the development of more accurate algorithms such as deep learning-based approaches. These advancements have enabled machines to analyze sentiment in text data with high accuracy.\n",
      "3. **Conversational AI**: Conversational AI has seen significant progress, with the development of chatbots and virtual assistants that can engage in natural-sounding conversations.\n",
      "\n",
      "**Advances in Computer Vision**\n",
      "\n",
      "1. **Object Detection**: Object detection has become more accurate, with the development of techniques such as YOLO (You Only Look Once) and SSD (Single Shot Detector). These advancements have enabled machines to detect objects in images with high accuracy.\n",
      "2. **Image Generation**: Image generation has seen significant progress, with the development of GANs (Generative Adversarial Networks) that can generate realistic images.\n",
      "3. **Video Analysis**: Video analysis has improved significantly, with the development of techniques such as Optical Flow and Deep Learning-based approaches.\n",
      "\n",
      "**Other Key Developments**\n",
      "\n",
      "1. **Edge AI**: Edge AI has become increasingly important, as machines are being deployed at the edge (i.e., in devices) to perform tasks that were previously handled by centralized data centers.\n",
      "2. **Explainable AI for Healthcare**: Researchers have made significant progress in developing explainable AI techniques specifically for healthcare applications, such as medical imaging analysis and disease diagnosis.\n",
      "3. **AI Ethics**: As AI becomes increasingly ubiquitous, there has been a growing need to address the ethics of AI development and deployment. Researchers are working on developing frameworks and guidelines for ensuring that AI systems are transparent, accountable, and fair.\n",
      "\n",
      "Overall, these advancements in AI have far-reaching implications for various industries, including healthcare, finance, transportation, and education. As researchers, we must continue to push the boundaries of what is possible with AI to drive innovation and progress.\n"
     ]
    }
   ],
   "source": [
    "\n",
    "result = my_crew.kickoff()\n",
    "print(result)\n"
   ]
  },
  {
   "cell_type": "code",
   "execution_count": 13,
   "id": "f59758af-dadf-4142-bfac-2f4d62aab833",
   "metadata": {},
   "outputs": [
    {
     "name": "stdout",
     "output_type": "stream",
     "text": [
      "Raw Output: The field of Artificial Intelligence (AI) has witnessed significant advancements in recent years, with breakthroughs in various areas such as machine learning, natural language processing, and computer vision. Here's a comprehensive report highlighting key developments in AI:\n",
      "\n",
      "**Advances in Machine Learning**\n",
      "\n",
      "1. **Explainable AI**: Researchers have made significant progress in developing explainable AI (XAI) techniques, which provide insights into the decision-making process of machine learning models. XAI has numerous applications in areas such as healthcare, finance, and law.\n",
      "2. **Transfer Learning**: Transfer learning has become a widely used technique in deep learning, enabling machines to learn from one task and apply that knowledge to another related task. This approach has led to improved performance in various applications, including computer vision and natural language processing.\n",
      "3. **Reinforcement Learning**: Reinforcement learning has seen significant advancements, with the development of more efficient algorithms such as Deep Q-Networks (DQN) and Proximal Policy Optimization (PPO). These advancements have enabled machines to learn complex tasks in areas such as robotics and game playing.\n",
      "\n",
      "**Breakthroughs in Natural Language Processing**\n",
      "\n",
      "1. **Language Models**: Recent years have seen significant progress in the development of language models, which can generate human-like text based on a given input. Models like BERT and RoBERTa have become widely used in natural language processing applications.\n",
      "2. **Sentiment Analysis**: Sentiment analysis has improved significantly, with the development of more accurate algorithms such as deep learning-based approaches. These advancements have enabled machines to analyze sentiment in text data with high accuracy.\n",
      "3. **Conversational AI**: Conversational AI has seen significant progress, with the development of chatbots and virtual assistants that can engage in natural-sounding conversations.\n",
      "\n",
      "**Advances in Computer Vision**\n",
      "\n",
      "1. **Object Detection**: Object detection has become more accurate, with the development of techniques such as YOLO (You Only Look Once) and SSD (Single Shot Detector). These advancements have enabled machines to detect objects in images with high accuracy.\n",
      "2. **Image Generation**: Image generation has seen significant progress, with the development of GANs (Generative Adversarial Networks) that can generate realistic images.\n",
      "3. **Video Analysis**: Video analysis has improved significantly, with the development of techniques such as Optical Flow and Deep Learning-based approaches.\n",
      "\n",
      "**Other Key Developments**\n",
      "\n",
      "1. **Edge AI**: Edge AI has become increasingly important, as machines are being deployed at the edge (i.e., in devices) to perform tasks that were previously handled by centralized data centers.\n",
      "2. **Explainable AI for Healthcare**: Researchers have made significant progress in developing explainable AI techniques specifically for healthcare applications, such as medical imaging analysis and disease diagnosis.\n",
      "3. **AI Ethics**: As AI becomes increasingly ubiquitous, there has been a growing need to address the ethics of AI development and deployment. Researchers are working on developing frameworks and guidelines for ensuring that AI systems are transparent, accountable, and fair.\n",
      "\n",
      "Overall, these advancements in AI have far-reaching implications for various industries, including healthcare, finance, transportation, and education. As researchers, we must continue to push the boundaries of what is possible with AI to drive innovation and progress.\n"
     ]
    }
   ],
   "source": [
    "\n",
    "print(f\"Raw Output: {result.raw}\")\n"
   ]
  },
  {
   "cell_type": "code",
   "execution_count": null,
   "id": "9df087c6-1b2e-48f4-a1dc-2d8cedb597a9",
   "metadata": {},
   "outputs": [],
   "source": []
  },
  {
   "cell_type": "code",
   "execution_count": 14,
   "id": "c6b3fb98-bf0e-4a05-87b9-5b7827f75a33",
   "metadata": {},
   "outputs": [
    {
     "data": {
      "text/plain": [
       "'\\n\\nliteLLM will automatically connect to the local llm\\nmake sure you local llm is running\\n\\n## >> ollama run llama3.2\\n\\n'"
      ]
     },
     "execution_count": 14,
     "metadata": {},
     "output_type": "execute_result"
    }
   ],
   "source": [
    "\n",
    "'''\n",
    "\n",
    "liteLLM will automatically connect to the local llm\n",
    "make sure you local llm is running\n",
    "\n",
    "## >> ollama run llama3.2\n",
    "\n",
    "'''\n"
   ]
  },
  {
   "cell_type": "code",
   "execution_count": null,
   "id": "2693fb38-f08d-4717-93df-b196172aedfd",
   "metadata": {},
   "outputs": [],
   "source": []
  },
  {
   "cell_type": "code",
   "execution_count": null,
   "id": "5ede48cd-fa2f-4ec0-9a8d-67bfc2bde9e0",
   "metadata": {},
   "outputs": [],
   "source": [
    "\n",
    "\n"
   ]
  },
  {
   "cell_type": "code",
   "execution_count": null,
   "id": "94a19d06-0276-4253-93c5-36a660038666",
   "metadata": {},
   "outputs": [],
   "source": []
  },
  {
   "cell_type": "code",
   "execution_count": null,
   "id": "ba3c0d5c-4d5a-45e0-bc92-95dcb5c5cf32",
   "metadata": {},
   "outputs": [],
   "source": []
  },
  {
   "cell_type": "code",
   "execution_count": null,
   "id": "d6a7c94c-0054-4798-9d7d-8875b635a70c",
   "metadata": {},
   "outputs": [],
   "source": []
  },
  {
   "cell_type": "code",
   "execution_count": null,
   "id": "c1ab3eb6-6899-4bf3-b98d-c22d93310b48",
   "metadata": {},
   "outputs": [],
   "source": []
  },
  {
   "cell_type": "code",
   "execution_count": null,
   "id": "55ac2f19-0233-4112-8f65-83f4d543c697",
   "metadata": {},
   "outputs": [],
   "source": []
  },
  {
   "cell_type": "code",
   "execution_count": null,
   "id": "0981e98c-3f93-4c27-8557-268a4d9f3e8f",
   "metadata": {},
   "outputs": [],
   "source": []
  },
  {
   "cell_type": "code",
   "execution_count": null,
   "id": "9189ce18-152b-4b97-bcd9-4af4bbe6ea17",
   "metadata": {},
   "outputs": [],
   "source": []
  },
  {
   "cell_type": "code",
   "execution_count": null,
   "id": "e08c4d6b-86b1-40c7-8086-66d03c8f3c99",
   "metadata": {},
   "outputs": [],
   "source": []
  },
  {
   "cell_type": "code",
   "execution_count": null,
   "id": "2a0a958a-f22b-46aa-b300-3d643e2e481f",
   "metadata": {},
   "outputs": [],
   "source": []
  },
  {
   "cell_type": "code",
   "execution_count": null,
   "id": "640d9c50-f5ad-4f7d-98b1-debc0e1bdc7d",
   "metadata": {},
   "outputs": [],
   "source": []
  },
  {
   "cell_type": "code",
   "execution_count": null,
   "id": "027f687c-08e6-4764-a4ed-7cb6aa8f790e",
   "metadata": {},
   "outputs": [],
   "source": []
  },
  {
   "cell_type": "code",
   "execution_count": null,
   "id": "f3abe252-b5b4-45e7-a5be-8b2c6ef1f44a",
   "metadata": {},
   "outputs": [],
   "source": []
  },
  {
   "cell_type": "code",
   "execution_count": null,
   "id": "65685caa-e1f9-483f-8fd4-5eb3b08df204",
   "metadata": {},
   "outputs": [],
   "source": []
  },
  {
   "cell_type": "code",
   "execution_count": null,
   "id": "cb384a76-3ca5-49ca-9d4d-ee146d404e9d",
   "metadata": {},
   "outputs": [],
   "source": []
  },
  {
   "cell_type": "code",
   "execution_count": null,
   "id": "86340328-7298-4c57-9229-6aca1db12666",
   "metadata": {},
   "outputs": [],
   "source": []
  }
 ],
 "metadata": {
  "kernelspec": {
   "display_name": "Python 3 (ipykernel)",
   "language": "python",
   "name": "python3"
  },
  "language_info": {
   "codemirror_mode": {
    "name": "ipython",
    "version": 3
   },
   "file_extension": ".py",
   "mimetype": "text/x-python",
   "name": "python",
   "nbconvert_exporter": "python",
   "pygments_lexer": "ipython3",
   "version": "3.10.16"
  }
 },
 "nbformat": 4,
 "nbformat_minor": 5
}
