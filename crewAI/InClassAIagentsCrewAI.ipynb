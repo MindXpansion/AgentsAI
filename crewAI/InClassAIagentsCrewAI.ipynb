{
 "cells": [
  {
   "cell_type": "code",
   "execution_count": 11,
   "id": "09e2e59d-c431-404e-9cc2-7d87b6d22396",
   "metadata": {},
   "outputs": [],
   "source": [
    "\n",
    "import torch\n",
    "import numpy as np\n"
   ]
  },
  {
   "cell_type": "code",
   "execution_count": 12,
   "id": "988761e3-81f7-4f5b-b7cd-1343ab577731",
   "metadata": {},
   "outputs": [],
   "source": [
    "\n",
    "## !pip install numpy\n",
    "## !pip install crewai\n",
    "\n",
    "## !pip install crewai[tools]\n",
    "## !pip install crewai_tools \n"
   ]
  },
  {
   "cell_type": "code",
   "execution_count": 13,
   "id": "c5189389-4029-4c17-bbc0-aa649342c624",
   "metadata": {},
   "outputs": [],
   "source": [
    "\n",
    "import os\n",
    "from crewai_tools import SerperDevTool, BrowserbaseLoadTool, EXASearchTool\n",
    "from crewai import Agent\n",
    "from crewai import Task\n",
    "from crewai import LLM\n",
    "\n",
    "from langchain_community.llms import Ollama\n",
    "\n",
    "\n",
    "from crewai import Crew, Process\n"
   ]
  },
  {
   "cell_type": "code",
   "execution_count": 15,
   "id": "e2a7ddda-6ece-4cbb-a7f0-7bdeb0917ab2",
   "metadata": {},
   "outputs": [],
   "source": [
    "\n",
    "researcher_agent = Agent(\n",
    "    role='Researcher',\n",
    "    goal='Find and summarize the latest AI news',\n",
    "    backstory=\"\"\"You're a researcher at a large company.\n",
    "    You're responsible for analyzing data and providing insights\n",
    "    to the business.\"\"\",\n",
    "    verbose=False,\n",
    "    ## llm=llm_llama\n",
    "    llm=LLM( model=\"ollama/llama3.2\", base_url=\"http://localhost:11434\" )\n",
    ")\n"
   ]
  },
  {
   "cell_type": "code",
   "execution_count": 16,
   "id": "70f5f5d1-7970-477b-9d1a-b723f5041f8e",
   "metadata": {},
   "outputs": [],
   "source": [
    "\n",
    "research_task = Task(\n",
    "    description=\"Conduct comprehensive research on the latest AI developments.\",\n",
    "    expected_output=\"A summary report highlighting key advancements in AI.\",\n",
    "    agent=researcher_agent,\n",
    "    ## tools=[search_tool],\n",
    "    async_execution=True\n",
    ")\n"
   ]
  },
  {
   "cell_type": "code",
   "execution_count": 17,
   "id": "ae750995-02f5-4c2c-b562-16ebbace8691",
   "metadata": {},
   "outputs": [],
   "source": [
    "\n",
    "my_crew = Crew(\n",
    "    agents=[researcher_agent],\n",
    "    tasks=[research_task],\n",
    "    process=Process.sequential,\n",
    "    verbose=True\n",
    ")\n"
   ]
  },
  {
   "cell_type": "code",
   "execution_count": 18,
   "id": "8fa31fb6-d5c1-4e39-8336-bbe724d3fc6a",
   "metadata": {},
   "outputs": [
    {
     "name": "stdout",
     "output_type": "stream",
     "text": [
      "\u001b[1m\u001b[95m# Agent:\u001b[00m \u001b[1m\u001b[92mResearcher\u001b[00m\n",
      "\u001b[95m## Task:\u001b[00m \u001b[92mConduct comprehensive research on the latest AI developments.\u001b[00m\n",
      "\n",
      "\n",
      "\u001b[1m\u001b[95m# Agent:\u001b[00m \u001b[1m\u001b[92mResearcher\u001b[00m\n",
      "\u001b[95m## Final Answer:\u001b[00m \u001b[92m\n",
      "Artificial Intelligence (AI) has witnessed tremendous growth in recent years, with numerous breakthroughs in various fields. Here's a comprehensive report on the latest AI developments:\n",
      "\n",
      "**Advances in Deep Learning**\n",
      "\n",
      "1. **Transfer Learning**: The concept of transfer learning has gained significant attention in deep learning, enabling models to leverage pre-trained knowledge and adapt to new tasks more efficiently.\n",
      "2. **Self-Supervised Learning**: Researchers have made progress in self-supervised learning techniques, such as contrastive learning and unsupervised learning, which can improve model performance without labeled data.\n",
      "3. **Few-Shot Learning**: Few-shot learning has seen significant advancements, enabling models to learn from few examples and generalize well to unseen situations.\n",
      "\n",
      "**Reinforcement Learning**\n",
      "\n",
      "1. **Multi-Agent Systems**: Researchers have made progress in multi-agent systems, where multiple agents interact with each other to achieve common goals.\n",
      "2. **Policy Gradient Methods**: Policy gradient methods have become increasingly popular for reinforcement learning, allowing for efficient training of complex policies.\n",
      "3. **Deep Q-Networks**: Deep Q-networks (DQN) have improved significantly, enabling fast and accurate training in high-dimensional action spaces.\n",
      "\n",
      "**Natural Language Processing**\n",
      "\n",
      "1. **Language Models**: Large-scale language models, such as BERT and RoBERTa, have achieved state-of-the-art results in various natural language processing tasks.\n",
      "2. **Transformers**: Transformers have revolutionized the field of NLP, enabling efficient modeling of sequential data.\n",
      "3. **Adversarial Training**: Adversarial training has become a crucial aspect of NLP, helping models improve their robustness to adversarial attacks.\n",
      "\n",
      "**Computer Vision**\n",
      "\n",
      "1. **Generative Models**: Generative models, such as GANs and VAEs, have made significant progress in computer vision, enabling realistic image and video generation.\n",
      "2. **Object Detection**: Object detection models have seen improvements in performance, particularly with the introduction of anchor-free methods.\n",
      "3. **Depth Estimation**: Depth estimation has become increasingly accurate, enabling applications such as 3D reconstruction and virtual reality.\n",
      "\n",
      "**Explainable AI**\n",
      "\n",
      "1. **Attention Mechanisms**: Attention mechanisms have been widely adopted in explainable AI (XAI), providing insights into model decisions and behavior.\n",
      "2. **SHAP Values**: SHAP values have emerged as a popular method for explaining complex models, enabling more accurate and interpretable results.\n",
      "3. **Model Interpretability**: Researchers have made progress in model interpretability, developing techniques to analyze and understand the decision-making processes of AI systems.\n",
      "\n",
      "**Edge AI**\n",
      "\n",
      "1. **Edge Computing**: Edge computing has gained traction, enabling real-time processing and analysis at the edge of the network.\n",
      "2. **Device-Based AI**: Device-based AI has become increasingly popular, allowing for efficient deployment and management of AI models on devices such as smartphones and smart home appliances.\n",
      "3. **Low-Power AI**: Researchers have made progress in low-power AI, developing techniques to minimize power consumption while maintaining model performance.\n",
      "\n",
      "**Ethics and Fairness**\n",
      "\n",
      "1. **Bias Detection**: Bias detection has become increasingly important, enabling the identification and mitigation of unfair biases in AI systems.\n",
      "2. **Fairness Metrics**: Fairness metrics have been developed to evaluate the fairness of AI models, providing a more comprehensive understanding of their performance.\n",
      "3. **Explainable AI for Social Good**: Researchers have made progress in using explainable AI (XAI) for social good, developing techniques to provide transparency and accountability in AI decision-making.\n",
      "\n",
      "**Conclusion**\n",
      "\n",
      "The latest AI developments showcase significant advancements in various fields, including deep learning, reinforcement learning, natural language processing, computer vision, explainable AI, edge AI, and ethics. These breakthroughs have far-reaching implications for applications across industries, from healthcare and finance to education and entertainment.\u001b[00m\n",
      "\n",
      "\n",
      "Artificial Intelligence (AI) has witnessed tremendous growth in recent years, with numerous breakthroughs in various fields. Here's a comprehensive report on the latest AI developments:\n",
      "\n",
      "**Advances in Deep Learning**\n",
      "\n",
      "1. **Transfer Learning**: The concept of transfer learning has gained significant attention in deep learning, enabling models to leverage pre-trained knowledge and adapt to new tasks more efficiently.\n",
      "2. **Self-Supervised Learning**: Researchers have made progress in self-supervised learning techniques, such as contrastive learning and unsupervised learning, which can improve model performance without labeled data.\n",
      "3. **Few-Shot Learning**: Few-shot learning has seen significant advancements, enabling models to learn from few examples and generalize well to unseen situations.\n",
      "\n",
      "**Reinforcement Learning**\n",
      "\n",
      "1. **Multi-Agent Systems**: Researchers have made progress in multi-agent systems, where multiple agents interact with each other to achieve common goals.\n",
      "2. **Policy Gradient Methods**: Policy gradient methods have become increasingly popular for reinforcement learning, allowing for efficient training of complex policies.\n",
      "3. **Deep Q-Networks**: Deep Q-networks (DQN) have improved significantly, enabling fast and accurate training in high-dimensional action spaces.\n",
      "\n",
      "**Natural Language Processing**\n",
      "\n",
      "1. **Language Models**: Large-scale language models, such as BERT and RoBERTa, have achieved state-of-the-art results in various natural language processing tasks.\n",
      "2. **Transformers**: Transformers have revolutionized the field of NLP, enabling efficient modeling of sequential data.\n",
      "3. **Adversarial Training**: Adversarial training has become a crucial aspect of NLP, helping models improve their robustness to adversarial attacks.\n",
      "\n",
      "**Computer Vision**\n",
      "\n",
      "1. **Generative Models**: Generative models, such as GANs and VAEs, have made significant progress in computer vision, enabling realistic image and video generation.\n",
      "2. **Object Detection**: Object detection models have seen improvements in performance, particularly with the introduction of anchor-free methods.\n",
      "3. **Depth Estimation**: Depth estimation has become increasingly accurate, enabling applications such as 3D reconstruction and virtual reality.\n",
      "\n",
      "**Explainable AI**\n",
      "\n",
      "1. **Attention Mechanisms**: Attention mechanisms have been widely adopted in explainable AI (XAI), providing insights into model decisions and behavior.\n",
      "2. **SHAP Values**: SHAP values have emerged as a popular method for explaining complex models, enabling more accurate and interpretable results.\n",
      "3. **Model Interpretability**: Researchers have made progress in model interpretability, developing techniques to analyze and understand the decision-making processes of AI systems.\n",
      "\n",
      "**Edge AI**\n",
      "\n",
      "1. **Edge Computing**: Edge computing has gained traction, enabling real-time processing and analysis at the edge of the network.\n",
      "2. **Device-Based AI**: Device-based AI has become increasingly popular, allowing for efficient deployment and management of AI models on devices such as smartphones and smart home appliances.\n",
      "3. **Low-Power AI**: Researchers have made progress in low-power AI, developing techniques to minimize power consumption while maintaining model performance.\n",
      "\n",
      "**Ethics and Fairness**\n",
      "\n",
      "1. **Bias Detection**: Bias detection has become increasingly important, enabling the identification and mitigation of unfair biases in AI systems.\n",
      "2. **Fairness Metrics**: Fairness metrics have been developed to evaluate the fairness of AI models, providing a more comprehensive understanding of their performance.\n",
      "3. **Explainable AI for Social Good**: Researchers have made progress in using explainable AI (XAI) for social good, developing techniques to provide transparency and accountability in AI decision-making.\n",
      "\n",
      "**Conclusion**\n",
      "\n",
      "The latest AI developments showcase significant advancements in various fields, including deep learning, reinforcement learning, natural language processing, computer vision, explainable AI, edge AI, and ethics. These breakthroughs have far-reaching implications for applications across industries, from healthcare and finance to education and entertainment.\n"
     ]
    }
   ],
   "source": [
    "\n",
    "result = my_crew.kickoff()\n",
    "print(result)\n"
   ]
  },
  {
   "cell_type": "code",
   "execution_count": null,
   "id": "a18c72f2-1442-4292-b674-8b797e986cf9",
   "metadata": {},
   "outputs": [],
   "source": [
    "\n",
    "\n"
   ]
  },
  {
   "cell_type": "code",
   "execution_count": null,
   "id": "112117b9-0555-4728-a988-d5bf003a33f5",
   "metadata": {},
   "outputs": [],
   "source": []
  },
  {
   "cell_type": "code",
   "execution_count": null,
   "id": "25b6d017-721b-4450-9189-4b7f0a850bbc",
   "metadata": {},
   "outputs": [],
   "source": []
  },
  {
   "cell_type": "code",
   "execution_count": null,
   "id": "b137a5d6-5484-4e0a-8485-9e1048e4f542",
   "metadata": {},
   "outputs": [],
   "source": []
  },
  {
   "cell_type": "code",
   "execution_count": null,
   "id": "d04b0ec6-38ae-47ae-a628-4907c94af629",
   "metadata": {},
   "outputs": [],
   "source": []
  },
  {
   "cell_type": "code",
   "execution_count": null,
   "id": "892970db-db0b-4203-bc2b-e799aeb98d9e",
   "metadata": {},
   "outputs": [],
   "source": []
  },
  {
   "cell_type": "code",
   "execution_count": null,
   "id": "467ad2a9-c454-46f7-a744-d7b1ef16d652",
   "metadata": {},
   "outputs": [],
   "source": []
  },
  {
   "cell_type": "code",
   "execution_count": null,
   "id": "6160a410-701f-4945-8ee3-fcd8a7aad91d",
   "metadata": {},
   "outputs": [],
   "source": []
  },
  {
   "cell_type": "code",
   "execution_count": null,
   "id": "8e74bc69-dbe9-4be3-bc2e-81dad8072104",
   "metadata": {},
   "outputs": [],
   "source": []
  },
  {
   "cell_type": "code",
   "execution_count": null,
   "id": "fcd3ef8d-f8f0-4d9b-be8b-aee6db2db054",
   "metadata": {},
   "outputs": [],
   "source": []
  },
  {
   "cell_type": "code",
   "execution_count": null,
   "id": "1ef23089-bdbc-4f3a-94bd-2e797728e23a",
   "metadata": {},
   "outputs": [],
   "source": []
  }
 ],
 "metadata": {
  "kernelspec": {
   "display_name": "Python 3 (ipykernel)",
   "language": "python",
   "name": "python3"
  },
  "language_info": {
   "codemirror_mode": {
    "name": "ipython",
    "version": 3
   },
   "file_extension": ".py",
   "mimetype": "text/x-python",
   "name": "python",
   "nbconvert_exporter": "python",
   "pygments_lexer": "ipython3",
   "version": "3.10.16"
  }
 },
 "nbformat": 4,
 "nbformat_minor": 5
}
