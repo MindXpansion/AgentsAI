{
 "cells": [
  {
   "cell_type": "code",
   "execution_count": 1,
   "id": "09e2e59d-c431-404e-9cc2-7d87b6d22396",
   "metadata": {},
   "outputs": [],
   "source": [
    "\n",
    "import torch\n",
    "import numpy as np\n"
   ]
  },
  {
   "cell_type": "code",
   "execution_count": 2,
   "id": "988761e3-81f7-4f5b-b7cd-1343ab577731",
   "metadata": {},
   "outputs": [],
   "source": [
    "\n",
    "## !pip install numpy\n",
    "## !pip install crewai\n",
    "\n",
    "## !pip install crewai[tools]\n",
    "## !pip install crewai_tools \n"
   ]
  },
  {
   "cell_type": "code",
   "execution_count": 3,
   "id": "c5189389-4029-4c17-bbc0-aa649342c624",
   "metadata": {},
   "outputs": [],
   "source": [
    "\n",
    "import os\n",
    "from crewai_tools import SerperDevTool, BrowserbaseLoadTool, EXASearchTool\n",
    "from crewai import Agent\n",
    "from crewai import Task\n",
    "from crewai import LLM\n",
    "\n",
    "from langchain_community.llms import Ollama\n",
    "\n",
    "\n",
    "from crewai import Crew, Process\n"
   ]
  },
  {
   "cell_type": "code",
   "execution_count": 4,
   "id": "e2a7ddda-6ece-4cbb-a7f0-7bdeb0917ab2",
   "metadata": {},
   "outputs": [],
   "source": [
    "\n",
    "researcher_agent = Agent(\n",
    "    role='Researcher',\n",
    "    goal='Find and summarize the latest AI news',\n",
    "    backstory=\"\"\"You're a researcher at a large company.\n",
    "    You're responsible for analyzing data and providing insights\n",
    "    to the business.\"\"\",\n",
    "    verbose=False,\n",
    "    ## llm=llm_llama\n",
    "    llm=LLM( model=\"ollama/llama3.2\", base_url=\"http://localhost:11434\" )\n",
    ")\n"
   ]
  },
  {
   "cell_type": "code",
   "execution_count": 5,
   "id": "70f5f5d1-7970-477b-9d1a-b723f5041f8e",
   "metadata": {},
   "outputs": [],
   "source": [
    "\n",
    "research_task = Task(\n",
    "    description=\"Conduct comprehensive research on the latest AI developments.\",\n",
    "    expected_output=\"A summary report highlighting key advancements in AI.\",\n",
    "    agent=researcher_agent,\n",
    "    ## tools=[search_tool],\n",
    "    async_execution=True\n",
    ")\n"
   ]
  },
  {
   "cell_type": "code",
   "execution_count": 6,
   "id": "ae750995-02f5-4c2c-b562-16ebbace8691",
   "metadata": {},
   "outputs": [],
   "source": [
    "\n",
    "my_crew = Crew(\n",
    "    agents=[researcher_agent],\n",
    "    tasks=[research_task],\n",
    "    process=Process.sequential,\n",
    "    verbose=True\n",
    ")\n"
   ]
  },
  {
   "cell_type": "code",
   "execution_count": 7,
   "id": "8fa31fb6-d5c1-4e39-8336-bbe724d3fc6a",
   "metadata": {},
   "outputs": [
    {
     "name": "stdout",
     "output_type": "stream",
     "text": [
      "\u001b[1m\u001b[95m# Agent:\u001b[00m \u001b[1m\u001b[92mResearcher\u001b[00m\n",
      "\u001b[95m## Task:\u001b[00m \u001b[92mConduct comprehensive research on the latest AI developments.\u001b[00m\n",
      "\n",
      "\n",
      "\u001b[1m\u001b[95m# Agent:\u001b[00m \u001b[1m\u001b[92mResearcher\u001b[00m\n",
      "\u001b[95m## Final Answer:\u001b[00m \u001b[92m\n",
      "Recent breakthroughs in artificial intelligence (AI) have significantly advanced the field, with numerous applications across various industries. Some of the key developments include:\n",
      "\n",
      "1. **Explainable AI (XAI)**: XAI aims to make AI more transparent and understandable by providing insights into the decision-making process. Researchers have developed techniques such as SHAP (SHapley Additive exPlanations) and LIME (Local Interpretable Model-agnostic Explanations) to explain the predictions of deep neural networks.\n",
      "\n",
      "2. **Adversarial Robustness**: Adversarial attacks involve designing inputs that can fool AI models, testing their robustness. Recent studies have focused on developing more resilient AI models using techniques such as adversarial training and defense mechanisms.\n",
      "\n",
      "3. **Transfer Learning**: Transfer learning enables AI models to learn from one task and apply those learned features to another related task. This has become increasingly important for tasks such as image classification, natural language processing, and speech recognition.\n",
      "\n",
      "4. **Reinforcement Learning (RL)**: RL involves training AI agents to make decisions in complex environments through trial and error. Recent advances have led to the development of more sophisticated RL algorithms, such as Deep Q-Networks and Proximal Policy Optimization.\n",
      "\n",
      "5. **Natural Language Processing (NLP)**: NLP has seen significant progress with the development of transformer-based models such as BERT and RoBERTa. These models have achieved state-of-the-art performance in various NLP tasks, including language translation, sentiment analysis, and question answering.\n",
      "\n",
      "6. **Computer Vision**: Computer vision has witnessed rapid advancements with the introduction of convolutional neural networks (CNNs). Recent developments include the use of transfer learning, adversarial training, and attention mechanisms to improve image classification, object detection, and segmentation.\n",
      "\n",
      "7. **Edge AI**: Edge AI involves deploying AI models on edge devices such as smartphones, smart home devices, and autonomous vehicles. This has opened up new opportunities for real-time processing, reduced latency, and increased efficiency.\n",
      "\n",
      "8. **Graph Neural Networks (GNNs)**: GNNs are designed to handle graph-structured data and have shown promise in various applications such as social network analysis, recommendation systems, and molecular bonding prediction.\n",
      "\n",
      "9. **Quantum AI**: Quantum AI involves the integration of quantum computing and machine learning. Researchers are exploring ways to leverage quantum computing's computational power for tasks such as optimization, clustering, and dimensionality reduction.\n",
      "\n",
      "10. **Cognitive Architectures**: Cognitive architectures aim to provide a more comprehensive understanding of human cognition by incorporating multiple AI components into a single framework. Recent developments have focused on integrating cognitive architectures with other AI disciplines, such as reinforcement learning and transfer learning.\n",
      "\n",
      "These advancements highlight the rapid progress being made in the field of artificial intelligence, with numerous applications across various industries. As AI continues to evolve, we can expect to see even more innovative solutions emerge in the near future.\u001b[00m\n",
      "\n",
      "\n",
      "Recent breakthroughs in artificial intelligence (AI) have significantly advanced the field, with numerous applications across various industries. Some of the key developments include:\n",
      "\n",
      "1. **Explainable AI (XAI)**: XAI aims to make AI more transparent and understandable by providing insights into the decision-making process. Researchers have developed techniques such as SHAP (SHapley Additive exPlanations) and LIME (Local Interpretable Model-agnostic Explanations) to explain the predictions of deep neural networks.\n",
      "\n",
      "2. **Adversarial Robustness**: Adversarial attacks involve designing inputs that can fool AI models, testing their robustness. Recent studies have focused on developing more resilient AI models using techniques such as adversarial training and defense mechanisms.\n",
      "\n",
      "3. **Transfer Learning**: Transfer learning enables AI models to learn from one task and apply those learned features to another related task. This has become increasingly important for tasks such as image classification, natural language processing, and speech recognition.\n",
      "\n",
      "4. **Reinforcement Learning (RL)**: RL involves training AI agents to make decisions in complex environments through trial and error. Recent advances have led to the development of more sophisticated RL algorithms, such as Deep Q-Networks and Proximal Policy Optimization.\n",
      "\n",
      "5. **Natural Language Processing (NLP)**: NLP has seen significant progress with the development of transformer-based models such as BERT and RoBERTa. These models have achieved state-of-the-art performance in various NLP tasks, including language translation, sentiment analysis, and question answering.\n",
      "\n",
      "6. **Computer Vision**: Computer vision has witnessed rapid advancements with the introduction of convolutional neural networks (CNNs). Recent developments include the use of transfer learning, adversarial training, and attention mechanisms to improve image classification, object detection, and segmentation.\n",
      "\n",
      "7. **Edge AI**: Edge AI involves deploying AI models on edge devices such as smartphones, smart home devices, and autonomous vehicles. This has opened up new opportunities for real-time processing, reduced latency, and increased efficiency.\n",
      "\n",
      "8. **Graph Neural Networks (GNNs)**: GNNs are designed to handle graph-structured data and have shown promise in various applications such as social network analysis, recommendation systems, and molecular bonding prediction.\n",
      "\n",
      "9. **Quantum AI**: Quantum AI involves the integration of quantum computing and machine learning. Researchers are exploring ways to leverage quantum computing's computational power for tasks such as optimization, clustering, and dimensionality reduction.\n",
      "\n",
      "10. **Cognitive Architectures**: Cognitive architectures aim to provide a more comprehensive understanding of human cognition by incorporating multiple AI components into a single framework. Recent developments have focused on integrating cognitive architectures with other AI disciplines, such as reinforcement learning and transfer learning.\n",
      "\n",
      "These advancements highlight the rapid progress being made in the field of artificial intelligence, with numerous applications across various industries. As AI continues to evolve, we can expect to see even more innovative solutions emerge in the near future.\n"
     ]
    }
   ],
   "source": [
    "\n",
    "result = my_crew.kickoff()\n",
    "print(result)\n"
   ]
  },
  {
   "cell_type": "code",
   "execution_count": null,
   "id": "a18c72f2-1442-4292-b674-8b797e986cf9",
   "metadata": {},
   "outputs": [],
   "source": [
    "\n",
    "\n"
   ]
  },
  {
   "cell_type": "markdown",
   "id": "e158d87a-df13-423e-bff8-250033daae53",
   "metadata": {},
   "source": [
    "\n",
    "## Example 2\n"
   ]
  },
  {
   "cell_type": "code",
   "execution_count": 22,
   "id": "a2d3514f-155f-46e8-957a-1979c1e071ec",
   "metadata": {},
   "outputs": [],
   "source": [
    "\n",
    "topic = \"black holes\"\n"
   ]
  },
  {
   "cell_type": "code",
   "execution_count": 23,
   "id": "25b6d017-721b-4450-9189-4b7f0a850bbc",
   "metadata": {},
   "outputs": [],
   "source": [
    "\n",
    "\n",
    "researcher_agent2 = Agent(\n",
    "    role='Researcher',\n",
    "    goal=f\"Find and summarize comprehensive information on {topic} from reliable sources\",\n",
    "    backstory=\"\"\"You're a researcher at a large company.\n",
    "    You're responsible for analyzing data and providing insights\n",
    "    to the business.\"\"\",\n",
    "    verbose=False,\n",
    "    ## llm=llm_llama\n",
    "    llm=LLM( model=\"ollama/llama3.2\", base_url=\"http://localhost:11434\" )\n",
    ")\n"
   ]
  },
  {
   "cell_type": "code",
   "execution_count": 24,
   "id": "b137a5d6-5484-4e0a-8485-9e1048e4f542",
   "metadata": {},
   "outputs": [],
   "source": [
    "\n",
    "content_writer = Agent(\n",
    "    role='Writing agent',\n",
    "    goal=f\"transform the research findings into an engaging blog post or html website\",\n",
    "    backstory=\"\"\"You're a content writer at a large company.\n",
    "    You're responsible for analyzing data and providing insights\n",
    "    to the business that is humorous.\"\"\",\n",
    "    verbose=False,\n",
    "    ## llm=llm_llama\n",
    "    llm=LLM( model=\"ollama/llama3.2\", base_url=\"http://localhost:11434\" )\n",
    ")\n",
    "    \n"
   ]
  },
  {
   "cell_type": "code",
   "execution_count": 25,
   "id": "d04b0ec6-38ae-47ae-a628-4907c94af629",
   "metadata": {},
   "outputs": [],
   "source": [
    "\n",
    "research_task = Task(\n",
    "    description=f\"Find and summarize comprehensive information on {topic} from reliable sources\",\n",
    "    expected_output=\"A summary report highlighting key advancements.\",\n",
    "    agent=researcher_agent2,\n",
    "    ## tools=[search_tool],\n",
    "    ## async_execution=True\n",
    ")\n"
   ]
  },
  {
   "cell_type": "code",
   "execution_count": 26,
   "id": "892970db-db0b-4203-bc2b-e799aeb98d9e",
   "metadata": {},
   "outputs": [],
   "source": [
    "\n",
    "writing_task = Task(\n",
    "    description=\"using text provided create a nice and humorous blog post\",\n",
    "    expected_output=\"A summary report highlighting key ideas in bullet form with lots of examples using lots of humor and numbers.\",\n",
    "    agent=content_writer,\n",
    "    ## tools=[search_tool],\n",
    "    ## async_execution=True\n",
    ")\n"
   ]
  },
  {
   "cell_type": "code",
   "execution_count": 27,
   "id": "467ad2a9-c454-46f7-a744-d7b1ef16d652",
   "metadata": {},
   "outputs": [
    {
     "name": "stderr",
     "output_type": "stream",
     "text": [
      "2025-01-17 03:53:06,671 - 8666722880 - __init__.py-__init__:537 - WARNING: Overriding of current TracerProvider is not allowed\n"
     ]
    }
   ],
   "source": [
    "\n",
    "my_crew2 = Crew(\n",
    "    agents=[researcher_agent2, content_writer],\n",
    "    tasks=[research_task, writing_task],\n",
    "    process=Process.sequential,\n",
    "    verbose=True\n",
    ")\n"
   ]
  },
  {
   "cell_type": "code",
   "execution_count": 28,
   "id": "cb3ff28b-7a85-498a-a3d3-130c88fe35c1",
   "metadata": {},
   "outputs": [
    {
     "name": "stdout",
     "output_type": "stream",
     "text": [
      "\u001b[1m\u001b[95m# Agent:\u001b[00m \u001b[1m\u001b[92mResearcher\u001b[00m\n",
      "\u001b[95m## Task:\u001b[00m \u001b[92mFind and summarize comprehensive information on black holes from reliable sources\u001b[00m\n",
      "\n",
      "\n",
      "\u001b[1m\u001b[95m# Agent:\u001b[00m \u001b[1m\u001b[92mResearcher\u001b[00m\n",
      "\u001b[95m## Final Answer:\u001b[00m \u001b[92m\n",
      "A comprehensive report on black holes from reliable sources highlights key advancements in our understanding of these mysterious cosmic phenomena.\n",
      "\n",
      "Black Holes: An Overview\n",
      "==========================\n",
      "\n",
      "A black hole is a region in space where the gravitational pull is so strong that nothing, including light, can escape. It is formed when a massive star collapses in on itself and its gravity becomes so strong that it warps the fabric of spacetime around it.\n",
      "\n",
      "Types of Black Holes\n",
      "--------------------\n",
      "\n",
      "There are four types of black holes, each with different properties and formation mechanisms:\n",
      "\n",
      "1. **Stellar Black Holes**: These are the smallest and most common type of black hole, formed from the collapse of individual stars.\n",
      "2. **Supermassive Black Holes**: These are found at the centers of galaxies and can have masses billions of times that of the sun.\n",
      "3. **Intermediate-Mass Black Holes**: These have masses that fall between those of stellar and supermassive black holes.\n",
      "4. **Primordial Black Holes**: These are hypothetical black holes that may have formed in the early universe before the first stars formed.\n",
      "\n",
      "Detection Methods\n",
      "----------------\n",
      "\n",
      "Black holes can be detected using a variety of methods, including:\n",
      "\n",
      "1. **X-rays and Gamma Rays**: Telescopes can detect X-rays and gamma rays emitted by hot gas swirling around black holes.\n",
      "2. **Radio Waves**: Radio telescopes can detect radio waves emitted by matter as it spirals into a black hole.\n",
      "3. **Gravitational Waves**: The detection of gravitational waves by LIGO and VIRGO collaboration in 2015 provided strong evidence for the existence of black holes.\n",
      "4. **Astrometry**: Astronomers can measure the motion of nearby stars to detect the presence of a black hole.\n",
      "\n",
      "Observational Evidence\n",
      "----------------------\n",
      "\n",
      "There is observational evidence for black holes, including:\n",
      "\n",
      "1. **Star Motions**: The motion of stars near suspected black holes can be used to detect their presence.\n",
      "2. **X-ray Binaries**: The formation of X-ray binaries, which are systems consisting of a compact object and a companion star, can provide evidence for the existence of black holes.\n",
      "3. **Gravitational Lensing**: The bending of light around massive objects, including black holes, can be used to detect their presence.\n",
      "\n",
      "The Information Paradox\n",
      "-----------------------\n",
      "\n",
      "One of the most enduring puzzles in modern astrophysics is the information paradox, which asks what happens to the information contained in matter that falls into a black hole. This paradox has led to ongoing research and debate among physicists.\n",
      "\n",
      "Black Hole Entropy\n",
      "-----------------\n",
      "\n",
      "In 1976, Jacob Bekenstein proposed that black holes have an entropy, or a measure of disorder, proportional to their surface area. This idea was later confirmed by Stephen Hawking in the 1970s and has since become a fundamental concept in theoretical physics.\n",
      "\n",
      "Hawking Radiation\n",
      "-----------------\n",
      "\n",
      "In the 1970s, Stephen Hawking proposed that black holes emit radiation, now known as Hawking radiation, due to quantum effects near the event horizon. This theory revolutionized our understanding of black holes and has had significant implications for the study of cosmology.\n",
      "\n",
      "Black Hole Collisions\n",
      "---------------------\n",
      "\n",
      "The detection of gravitational waves by LIGO and VIRGO collaboration in 2015 provided strong evidence for the existence of black holes. The observation of gravitational wave signals from black hole mergers has opened up a new area of research, allowing scientists to study these phenomena in unprecedented detail.\n",
      "\n",
      "Conclusion\n",
      "----------\n",
      "\n",
      "Black holes are mysterious cosmic phenomena that continue to capture the imagination of scientists and the public alike. Our understanding of black holes has come a long way since the early 20th century, with significant advances made in recent years through the detection of gravitational waves and the observation of Hawking radiation. As research continues to evolve, we can expect to uncover even more secrets about these enigmatic objects.\u001b[00m\n",
      "\n",
      "\n",
      "\u001b[1m\u001b[95m# Agent:\u001b[00m \u001b[1m\u001b[92mWriting agent\u001b[00m\n",
      "\u001b[95m## Task:\u001b[00m \u001b[92musing text provided create a nice and humorous blog post\u001b[00m\n",
      "\n",
      "\n",
      "\u001b[1m\u001b[95m# Agent:\u001b[00m \u001b[1m\u001b[92mWriting agent\u001b[00m\n",
      "\u001b[95m## Final Answer:\u001b[00m \u001b[92m\n",
      "Here's a nice and humorous blog post summarizing key advancements in our understanding of black holes, written with lots of humor and examples using numbers.\n",
      "\n",
      "**Black Holes 101: The Ultimate Cosmic Mystery**\n",
      "\n",
      " Buckle up, space fans! We're about to dive into the fascinating world of black holes. These cosmic phenomena have been mystifying scientists for decades, but don't worry, we'll try to simplify things (just kidding, it's still gonna be complex). Grab a cup of coffee, get comfortable, and let's explore the weird and wonderful world of black holes!\n",
      "\n",
      "**What are Black Holes?**\n",
      "\n",
      "A black hole is essentially a region in space where the gravitational pull is so strong that nothing, including light, can escape. Yeah, you read that right – not even light! It's like a cosmic sinkhole that warps the fabric of spacetime around it. Imagine a giant vacuum cleaner that sucks up everything that gets too close.\n",
      "\n",
      "**Types of Black Holes: The Sibling Rivalry**\n",
      "\n",
      "Black holes come in four types, each with its own unique personality:\n",
      "\n",
      "1. **Stellar Black Holes**: These are the smallest and most common type of black hole. They're formed when individual stars collapse in on themselves (nope, not a fun way to die).\n",
      "2. **Supermassive Black Holes**: These behemoths reside at the centers of galaxies and can have masses billions of times that of our sun! That's like having a giant cosmic bowling ball crushing everything around it.\n",
      "3. **Intermediate-Mass Black Holes**: These black holes fall somewhere in between stellar and supermassive ones – think of them as the awkward cousins of the black hole family.\n",
      "4. **Primordial Black Holes**: These hypothetical black holes might have formed in the early universe before the first stars even existed (mind blown, right?).\n",
      "\n",
      "**Detection Methods: The Black Hole Sleuths**\n",
      "\n",
      "Detecting black holes is like trying to find a needle in a haystack – but instead of a needle, it's a tiny X-ray signal or a faint radio wave. Here are some of the methods used to detect these cosmic phenomena:\n",
      "\n",
      "1. **X-rays and Gamma Rays**: Telescopes can spot hot gas swirling around black holes, emitting X-rays and gamma rays like a cosmic firework.\n",
      "2. **Radio Waves**: Radio telescopes can pick up radio waves emitted by matter spiraling into a black hole (it's like hearing the cosmic scream of the damned).\n",
      "3. **Gravitational Waves**: The LIGO and VIRGO collaboration detected gravitational waves in 2015, providing strong evidence for black holes (talk about a cosmic earthquake!).\n",
      "4. **Astrometry**: Astronomers can measure the motion of nearby stars to detect the presence of a black hole (it's like solving a cosmic puzzle).\n",
      "\n",
      "**Observational Evidence: The Black Hole Detective**\n",
      "\n",
      "Scientists have gathered some awesome observational evidence for black holes, including:\n",
      "\n",
      "1. **Star Motions**: The motion of stars near suspected black holes can be used to detect their presence (like a cosmic game of hide-and-seek).\n",
      "2. **X-ray Binaries**: X-ray binaries – systems consisting of a compact object and a companion star – can provide evidence for the existence of black holes (it's like finding a cosmic treasure chest).\n",
      "3. **Gravitational Lensing**: The bending of light around massive objects, including black holes, can be used to detect their presence (like seeing a cosmic trick).\n",
      "\n",
      "**The Information Paradox: The Ultimate Cosmic Conundrum**\n",
      "\n",
      "One of the biggest mysteries in modern astrophysics is the information paradox – what happens to the information contained in matter that falls into a black hole? It's like trying to solve a cosmic puzzle with no solution in sight!\n",
      "\n",
      "**Black Hole Entropy: The Measure of Disorder**\n",
      "\n",
      "In 1976, Jacob Bekenstein proposed that black holes have an entropy, or measure of disorder, proportional to their surface area. This idea was later confirmed by Stephen Hawking and has since become a fundamental concept in theoretical physics.\n",
      "\n",
      "**Hawking Radiation: The Cosmic Fireworks**\n",
      "\n",
      "Stephen Hawking's groundbreaking theory proposed that black holes emit radiation, now known as Hawking radiation, due to quantum effects near the event horizon. It's like cosmic fireworks – who needs a Fourth of July celebration when you have black hole fireworks?\n",
      "\n",
      "**Black Hole Collisions: The Cosmic Dance**\n",
      "\n",
      "The detection of gravitational waves by LIGO and VIRGO collaboration in 2015 opened up a new area of research, allowing scientists to study black hole mergers in unprecedented detail. It's like witnessing the cosmic waltz – gravity's most epic dance.\n",
      "\n",
      "And there you have it, folks! Black holes might be mysterious, but we've come a long way in understanding these cosmic phenomena. As research continues to evolve, we can expect to uncover even more secrets about these enigmatic objects. So, the next time you gaze up at the night sky, remember – black holes are out there, waiting to be explored and understood!\u001b[00m\n",
      "\n",
      "\n",
      "Recent breakthroughs in artificial intelligence (AI) have significantly advanced the field, with numerous applications across various industries. Some of the key developments include:\n",
      "\n",
      "1. **Explainable AI (XAI)**: XAI aims to make AI more transparent and understandable by providing insights into the decision-making process. Researchers have developed techniques such as SHAP (SHapley Additive exPlanations) and LIME (Local Interpretable Model-agnostic Explanations) to explain the predictions of deep neural networks.\n",
      "\n",
      "2. **Adversarial Robustness**: Adversarial attacks involve designing inputs that can fool AI models, testing their robustness. Recent studies have focused on developing more resilient AI models using techniques such as adversarial training and defense mechanisms.\n",
      "\n",
      "3. **Transfer Learning**: Transfer learning enables AI models to learn from one task and apply those learned features to another related task. This has become increasingly important for tasks such as image classification, natural language processing, and speech recognition.\n",
      "\n",
      "4. **Reinforcement Learning (RL)**: RL involves training AI agents to make decisions in complex environments through trial and error. Recent advances have led to the development of more sophisticated RL algorithms, such as Deep Q-Networks and Proximal Policy Optimization.\n",
      "\n",
      "5. **Natural Language Processing (NLP)**: NLP has seen significant progress with the development of transformer-based models such as BERT and RoBERTa. These models have achieved state-of-the-art performance in various NLP tasks, including language translation, sentiment analysis, and question answering.\n",
      "\n",
      "6. **Computer Vision**: Computer vision has witnessed rapid advancements with the introduction of convolutional neural networks (CNNs). Recent developments include the use of transfer learning, adversarial training, and attention mechanisms to improve image classification, object detection, and segmentation.\n",
      "\n",
      "7. **Edge AI**: Edge AI involves deploying AI models on edge devices such as smartphones, smart home devices, and autonomous vehicles. This has opened up new opportunities for real-time processing, reduced latency, and increased efficiency.\n",
      "\n",
      "8. **Graph Neural Networks (GNNs)**: GNNs are designed to handle graph-structured data and have shown promise in various applications such as social network analysis, recommendation systems, and molecular bonding prediction.\n",
      "\n",
      "9. **Quantum AI**: Quantum AI involves the integration of quantum computing and machine learning. Researchers are exploring ways to leverage quantum computing's computational power for tasks such as optimization, clustering, and dimensionality reduction.\n",
      "\n",
      "10. **Cognitive Architectures**: Cognitive architectures aim to provide a more comprehensive understanding of human cognition by incorporating multiple AI components into a single framework. Recent developments have focused on integrating cognitive architectures with other AI disciplines, such as reinforcement learning and transfer learning.\n",
      "\n",
      "These advancements highlight the rapid progress being made in the field of artificial intelligence, with numerous applications across various industries. As AI continues to evolve, we can expect to see even more innovative solutions emerge in the near future.\n"
     ]
    }
   ],
   "source": [
    "\n",
    "result2 = my_crew2.kickoff(inputs={\"topic\":topic} ) \n",
    "print(result)\n"
   ]
  },
  {
   "cell_type": "code",
   "execution_count": null,
   "id": "9891db48-1132-4cba-be25-9eb180603174",
   "metadata": {},
   "outputs": [],
   "source": []
  },
  {
   "cell_type": "code",
   "execution_count": null,
   "id": "37b11ecf-720a-4ce6-8b7d-c99090f5f8d8",
   "metadata": {},
   "outputs": [],
   "source": []
  },
  {
   "cell_type": "code",
   "execution_count": null,
   "id": "dbdb61c1-0f26-4200-820d-1640c0087367",
   "metadata": {},
   "outputs": [],
   "source": []
  },
  {
   "cell_type": "code",
   "execution_count": null,
   "id": "1e67d531-d2d5-4a84-bc77-9df87d7eadef",
   "metadata": {},
   "outputs": [],
   "source": []
  },
  {
   "cell_type": "code",
   "execution_count": null,
   "id": "ccdefe6f-830a-45c1-a7d5-a668bb29f7b7",
   "metadata": {},
   "outputs": [],
   "source": []
  },
  {
   "cell_type": "code",
   "execution_count": null,
   "id": "221308b9-9a12-460e-acae-3fdc1e5baec4",
   "metadata": {},
   "outputs": [],
   "source": []
  },
  {
   "cell_type": "code",
   "execution_count": null,
   "id": "6160a410-701f-4945-8ee3-fcd8a7aad91d",
   "metadata": {},
   "outputs": [],
   "source": []
  },
  {
   "cell_type": "code",
   "execution_count": null,
   "id": "defb0640-3aec-484f-b654-c06a197a6fc7",
   "metadata": {},
   "outputs": [],
   "source": []
  },
  {
   "cell_type": "code",
   "execution_count": null,
   "id": "d412c3a7-1c94-4475-a05a-ea568016f49c",
   "metadata": {},
   "outputs": [],
   "source": []
  },
  {
   "cell_type": "code",
   "execution_count": null,
   "id": "db33f981-3caa-4837-8d11-2333e810e300",
   "metadata": {},
   "outputs": [],
   "source": []
  },
  {
   "cell_type": "code",
   "execution_count": null,
   "id": "62820a2c-9af0-42c4-a8e8-a45ea78315af",
   "metadata": {},
   "outputs": [],
   "source": []
  },
  {
   "cell_type": "code",
   "execution_count": null,
   "id": "8fb86e02-694d-4256-96bd-654f26951c28",
   "metadata": {},
   "outputs": [],
   "source": []
  },
  {
   "cell_type": "code",
   "execution_count": null,
   "id": "d3b8e379-46b0-4e80-b085-78223d67e604",
   "metadata": {},
   "outputs": [],
   "source": []
  },
  {
   "cell_type": "code",
   "execution_count": null,
   "id": "03ea349d-9c39-44d4-9467-42d895fa79cc",
   "metadata": {},
   "outputs": [],
   "source": []
  },
  {
   "cell_type": "code",
   "execution_count": null,
   "id": "8e74bc69-dbe9-4be3-bc2e-81dad8072104",
   "metadata": {},
   "outputs": [],
   "source": []
  },
  {
   "cell_type": "code",
   "execution_count": null,
   "id": "fcd3ef8d-f8f0-4d9b-be8b-aee6db2db054",
   "metadata": {},
   "outputs": [],
   "source": []
  },
  {
   "cell_type": "code",
   "execution_count": null,
   "id": "1ef23089-bdbc-4f3a-94bd-2e797728e23a",
   "metadata": {},
   "outputs": [],
   "source": []
  }
 ],
 "metadata": {
  "kernelspec": {
   "display_name": "Python 3 (ipykernel)",
   "language": "python",
   "name": "python3"
  },
  "language_info": {
   "codemirror_mode": {
    "name": "ipython",
    "version": 3
   },
   "file_extension": ".py",
   "mimetype": "text/x-python",
   "name": "python",
   "nbconvert_exporter": "python",
   "pygments_lexer": "ipython3",
   "version": "3.10.16"
  }
 },
 "nbformat": 4,
 "nbformat_minor": 5
}
