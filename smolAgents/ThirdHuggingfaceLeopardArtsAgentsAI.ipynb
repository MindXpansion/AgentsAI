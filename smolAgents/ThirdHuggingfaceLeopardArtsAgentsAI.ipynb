{
 "cells": [
  {
   "cell_type": "markdown",
   "id": "ca4b266c-eeb2-4eb0-9958-ee418a6564e5",
   "metadata": {},
   "source": [
    "\n",
    "## Huggingface Agents - Loepard at Ponts de Arts\n"
   ]
  },
  {
   "cell_type": "code",
   "execution_count": 1,
   "id": "e9cb4c27-857d-4ebf-b7d0-d14968179531",
   "metadata": {},
   "outputs": [],
   "source": [
    "\n",
    "## !pip install smolagents\n",
    "## !pip install datasets\n",
    "## !pip install langchain\n",
    "## !pip install langchain_community\n",
    "\n",
    "## !pip -q install smolagents\n",
    "## !pip -q install litellm\n"
   ]
  },
  {
   "cell_type": "code",
   "execution_count": 2,
   "id": "5d295441-1ac3-4ea8-a190-6216721fb5b6",
   "metadata": {},
   "outputs": [
    {
     "data": {
      "text/plain": [
       "'\\n\\nexport OPENAI_API_KEY=\"your_api_key_here\"\\n\\nrestart \"jupyter notebook\" \\n\\necho $OPENAI_API_KEY\\n\\nopenai.api_key = os.getenv(\"OPENAI_API_KEY\")\\n\\n\\n'"
      ]
     },
     "execution_count": 2,
     "metadata": {},
     "output_type": "execute_result"
    }
   ],
   "source": [
    "\n",
    "'''\n",
    "\n",
    "export OPENAI_API_KEY=\"your_api_key_here\"\n",
    "\n",
    "restart \"jupyter notebook\" \n",
    "\n",
    "echo $OPENAI_API_KEY\n",
    "\n",
    "openai.api_key = os.getenv(\"OPENAI_API_KEY\")\n",
    "\n",
    "\n",
    "'''\n"
   ]
  },
  {
   "cell_type": "code",
   "execution_count": 3,
   "id": "ef1e6c88-2f51-489a-a8ef-34cfaa14e607",
   "metadata": {},
   "outputs": [],
   "source": [
    "\n",
    "import os\n"
   ]
  },
  {
   "cell_type": "code",
   "execution_count": 4,
   "id": "09dec22e-7164-429d-a569-0161520a6d4c",
   "metadata": {},
   "outputs": [],
   "source": [
    "\n",
    "\n",
    "\n",
    "os.environ['HF_TOKEN'] =  os.getenv('HF_TOKEN')\n",
    "\n",
    "\n",
    "## os.environ['HF_TOKEN'] = userdata.get('HF_TOKEN')\n",
    "## os.environ['OPENAI_API_KEY'] = userdata.get('OPENAI_API_KEY')\n"
   ]
  },
  {
   "cell_type": "code",
   "execution_count": 5,
   "id": "c3a11f5e-21e1-478a-a83f-dbd30f2ac1b5",
   "metadata": {},
   "outputs": [],
   "source": [
    "\n",
    "from smolagents import CodeAgent, DuckDuckGoSearchTool, HfApiModel\n"
   ]
  },
  {
   "cell_type": "code",
   "execution_count": 6,
   "id": "9883a778-d688-4078-9c98-13c4d637d66a",
   "metadata": {},
   "outputs": [
    {
     "name": "stderr",
     "output_type": "stream",
     "text": [
      "/Users/user/opt/anaconda3/envs/py310_agentsAI/lib/python3.10/site-packages/smolagents/models.py:1372: FutureWarning: HfApiModel was renamed to InferenceClientModel in version 1.14.0 and will be removed in 1.17.0.\n",
      "  warnings.warn(\n"
     ]
    }
   ],
   "source": [
    "\n",
    "agent = CodeAgent(tools=[DuckDuckGoSearchTool()], model=HfApiModel())\n"
   ]
  },
  {
   "cell_type": "code",
   "execution_count": 7,
   "id": "efc5a5bf-47fa-4fc3-827f-0419477254c6",
   "metadata": {},
   "outputs": [
    {
     "data": {
      "text/html": [
       "<pre style=\"white-space:pre;overflow-x:auto;line-height:normal;font-family:Menlo,'DejaVu Sans Mono',consolas,'Courier New',monospace\"><span style=\"color: #d4b702; text-decoration-color: #d4b702\">╭──────────────────────────────────────────────────── </span><span style=\"color: #d4b702; text-decoration-color: #d4b702; font-weight: bold\">New run</span><span style=\"color: #d4b702; text-decoration-color: #d4b702\"> ────────────────────────────────────────────────────╮</span>\n",
       "<span style=\"color: #d4b702; text-decoration-color: #d4b702\">│</span>                                                                                                                 <span style=\"color: #d4b702; text-decoration-color: #d4b702\">│</span>\n",
       "<span style=\"color: #d4b702; text-decoration-color: #d4b702\">│</span> <span style=\"font-weight: bold\">How many seconds would it take for a leopard at full speed to run through Pont des Arts?</span>                        <span style=\"color: #d4b702; text-decoration-color: #d4b702\">│</span>\n",
       "<span style=\"color: #d4b702; text-decoration-color: #d4b702\">│</span>                                                                                                                 <span style=\"color: #d4b702; text-decoration-color: #d4b702\">│</span>\n",
       "<span style=\"color: #d4b702; text-decoration-color: #d4b702\">╰─ HfApiModel - Qwen/Qwen2.5-Coder-32B-Instruct ──────────────────────────────────────────────────────────────────╯</span>\n",
       "</pre>\n"
      ],
      "text/plain": [
       "\u001b[38;2;212;183;2m╭─\u001b[0m\u001b[38;2;212;183;2m───────────────────────────────────────────────────\u001b[0m\u001b[38;2;212;183;2m \u001b[0m\u001b[1;38;2;212;183;2mNew run\u001b[0m\u001b[38;2;212;183;2m \u001b[0m\u001b[38;2;212;183;2m───────────────────────────────────────────────────\u001b[0m\u001b[38;2;212;183;2m─╮\u001b[0m\n",
       "\u001b[38;2;212;183;2m│\u001b[0m                                                                                                                 \u001b[38;2;212;183;2m│\u001b[0m\n",
       "\u001b[38;2;212;183;2m│\u001b[0m \u001b[1mHow many seconds would it take for a leopard at full speed to run through Pont des Arts?\u001b[0m                        \u001b[38;2;212;183;2m│\u001b[0m\n",
       "\u001b[38;2;212;183;2m│\u001b[0m                                                                                                                 \u001b[38;2;212;183;2m│\u001b[0m\n",
       "\u001b[38;2;212;183;2m╰─\u001b[0m\u001b[38;2;212;183;2m HfApiModel - Qwen/Qwen2.5-Coder-32B-Instruct \u001b[0m\u001b[38;2;212;183;2m─────────────────────────────────────────────────────────────────\u001b[0m\u001b[38;2;212;183;2m─╯\u001b[0m\n"
      ]
     },
     "metadata": {},
     "output_type": "display_data"
    },
    {
     "data": {
      "text/html": [
       "<pre style=\"white-space:pre;overflow-x:auto;line-height:normal;font-family:Menlo,'DejaVu Sans Mono',consolas,'Courier New',monospace\"><span style=\"color: #d4b702; text-decoration-color: #d4b702\">━━━━━━━━━━━━━━━━━━━━━━━━━━━━━━━━━━━━━━━━━━━━━━━━━━━━━ </span><span style=\"font-weight: bold\">Step </span><span style=\"color: #008080; text-decoration-color: #008080; font-weight: bold\">1</span><span style=\"color: #d4b702; text-decoration-color: #d4b702\"> ━━━━━━━━━━━━━━━━━━━━━━━━━━━━━━━━━━━━━━━━━━━━━━━━━━━━━━</span>\n",
       "</pre>\n"
      ],
      "text/plain": [
       "\u001b[38;2;212;183;2m━━━━━━━━━━━━━━━━━━━━━━━━━━━━━━━━━━━━━━━━━━━━━━━━━━━━━ \u001b[0m\u001b[1mStep \u001b[0m\u001b[1;36m1\u001b[0m\u001b[38;2;212;183;2m ━━━━━━━━━━━━━━━━━━━━━━━━━━━━━━━━━━━━━━━━━━━━━━━━━━━━━━\u001b[0m\n"
      ]
     },
     "metadata": {},
     "output_type": "display_data"
    },
    {
     "data": {
      "text/html": [
       "<pre style=\"white-space:pre;overflow-x:auto;line-height:normal;font-family:Menlo,'DejaVu Sans Mono',consolas,'Courier New',monospace\"> ─ <span style=\"font-weight: bold\">Executing parsed code:</span> ──────────────────────────────────────────────────────────────────────────────────────── \n",
       "  <span style=\"color: #f8f8f2; text-decoration-color: #f8f8f2; background-color: #272822\">length_of_bridge </span><span style=\"color: #ff4689; text-decoration-color: #ff4689; background-color: #272822\">=</span><span style=\"color: #f8f8f2; text-decoration-color: #f8f8f2; background-color: #272822\"> web_search(query</span><span style=\"color: #ff4689; text-decoration-color: #ff4689; background-color: #272822\">=</span><span style=\"color: #e6db74; text-decoration-color: #e6db74; background-color: #272822\">\"length of Pont des Arts\"</span><span style=\"color: #f8f8f2; text-decoration-color: #f8f8f2; background-color: #272822\">)</span><span style=\"background-color: #272822\">                                                 </span>  \n",
       "  <span style=\"color: #f8f8f2; text-decoration-color: #f8f8f2; background-color: #272822\">print(length_of_bridge)</span><span style=\"background-color: #272822\">                                                                                        </span>  \n",
       " ───────────────────────────────────────────────────────────────────────────────────────────────────────────────── \n",
       "</pre>\n"
      ],
      "text/plain": [
       " ─ \u001b[1mExecuting parsed code:\u001b[0m ──────────────────────────────────────────────────────────────────────────────────────── \n",
       "  \u001b[38;2;248;248;242;48;2;39;40;34mlength_of_bridge\u001b[0m\u001b[38;2;248;248;242;48;2;39;40;34m \u001b[0m\u001b[38;2;255;70;137;48;2;39;40;34m=\u001b[0m\u001b[38;2;248;248;242;48;2;39;40;34m \u001b[0m\u001b[38;2;248;248;242;48;2;39;40;34mweb_search\u001b[0m\u001b[38;2;248;248;242;48;2;39;40;34m(\u001b[0m\u001b[38;2;248;248;242;48;2;39;40;34mquery\u001b[0m\u001b[38;2;255;70;137;48;2;39;40;34m=\u001b[0m\u001b[38;2;230;219;116;48;2;39;40;34m\"\u001b[0m\u001b[38;2;230;219;116;48;2;39;40;34mlength of Pont des Arts\u001b[0m\u001b[38;2;230;219;116;48;2;39;40;34m\"\u001b[0m\u001b[38;2;248;248;242;48;2;39;40;34m)\u001b[0m\u001b[48;2;39;40;34m                                                 \u001b[0m  \n",
       "  \u001b[38;2;248;248;242;48;2;39;40;34mprint\u001b[0m\u001b[38;2;248;248;242;48;2;39;40;34m(\u001b[0m\u001b[38;2;248;248;242;48;2;39;40;34mlength_of_bridge\u001b[0m\u001b[38;2;248;248;242;48;2;39;40;34m)\u001b[0m\u001b[48;2;39;40;34m                                                                                        \u001b[0m  \n",
       " ───────────────────────────────────────────────────────────────────────────────────────────────────────────────── \n"
      ]
     },
     "metadata": {},
     "output_type": "display_data"
    },
    {
     "data": {
      "text/html": [
       "<pre style=\"white-space:pre;overflow-x:auto;line-height:normal;font-family:Menlo,'DejaVu Sans Mono',consolas,'Courier New',monospace\"><span style=\"font-weight: bold\">Execution logs:</span>\n",
       "## Search Results\n",
       "\n",
       "[Pont des Arts - Wikipedia](https://en.wikipedia.org/wiki/Pont_des_Arts)\n",
       "The Pont des Arts (French pronunciation: [pɔ̃ dez‿aʁ]) or Passerelle des Arts ([pasʁɛl-]) is a pedestrian bridge in\n",
       "Paris which crosses the River Seine. It links the Institut de France and the central square ( cour carrée ) of the \n",
       "Palais du Louvre , (which had been termed the \"Palais des Arts\" under the First French Empire ).\n",
       "\n",
       "[10 Picturesque Facts About The Pont Des Arts](https://art-facts.com/pont-des-arts-facts/)\n",
       "The Pont des Arts literally translates to ... Even though the bridge doesn't look that big at first sight, it still\n",
       "has a length of 155 meters (509 feet) and a width of 11 meters (36 feet). The original bridge during the 1880s / \n",
       "Wiki Commons 4. The bridge was completely rebuilt in the early 1980s.\n",
       "\n",
       "[Pont des Arts, Paris, France - LatLong](https://www.latlong.net/place/pont-des-arts-paris-france-32945.html)\n",
       "Pont des Arts, Paris, France. Latitude and longitude coordinates are: 48.858334, 2.337369. Pont des Arts is a \n",
       "scenic pedestrian bridge over the Seine River in Paris, France. The bridge connects the Musée du Louvre and the \n",
       "Institut de France. It has a length of 155 m (509 ft) and a width of 11 m (36 ft). It was constructed between 1981 \n",
       "and 1984.\n",
       "\n",
       "[8 Most Famous Bridges in Paris, by Appeal, Lenght &amp; Love Locks](https://culturefrancia.com/en/paris-best-bridges/)\n",
       "Appeal Use 🚶🏻‍♂️Pedestrian Size (length x widht) 270 x 20 m (885 x 65 ft). Arrondissements 6th &amp; 1st. French Names \n",
       "Pont des Arts Passerelle des Arts. This pedestrian bridge that spans the River Seine, was the first metal bridge in\n",
       "Paris and has become a symbol of romance and artistic expression.\n",
       "\n",
       "[17 Famous Bridges in France: Must-See Wonders! - Salut from \n",
       "Paris](https://www.salutfromparis.com/famous-bridges-in-france/)\n",
       "(built in 2004, 2460m length) Millau Viaduct in Aveyron - the world's tallest bridge. The Millau Viaduct is an \n",
       "engineering gem, standing tall in the heart of the Tarn Valley, ... #10 Pont des Arts, Paris (initial construction \n",
       "between 1801 and 1804, 155m length) Pont des Arts.\n",
       "\n",
       "[Pont des Arts - The Love Bridge](https://www.tourdefrance-bridges.com/post/pont-des-arts-the-love-bridge)\n",
       "Context:The Pont des Arts, originally a cast iron arch bridge, known more often as the \"Love Bridge,\" crosses the \n",
       "Seine river in Paris, connecting the Louvre to the Institut de Paris, formerly the Collèges des quatre Nations. ...\n",
       "The original bridge had 9 arches, was 155m in length and 11m wide and was made using cast iron. The number of ...\n",
       "\n",
       "[Bridge of Arts: History, Visit and Access • Come to \n",
       "Paris](https://www.cometoparis.com/paris-guide/paris-monuments/pont-des-arts-s959)\n",
       "Cultural Events Near the Pont des Arts in 2025. The Pont des Arts, although historic, is a living witness to the \n",
       "Parisian cultural scene. In 2025, several major events will take place nearby, offering visitors a unique \n",
       "opportunity to combine their stroll on the bridge with an artistic experience.\n",
       "\n",
       "[Le pont des Arts - L'art nouveau](https://paris1900.lartnouveau.com/ponts/pont_des_arts.htm)\n",
       "La mode des cadenas d'amour, accrochés par des couples accroché sur des ponts ou des équipements publics afin de \n",
       "symboliser est arrivée en 2008 sur le pont des Arts. En raison du poids excessif des cadenas qui mettais en péril \n",
       "le pont, ils ont été définitivement retirés en 2015, les parapets grillagés ont été remplacés par de ...\n",
       "\n",
       "[Pont des Arts footbridge - travelfranceonline.com](https://www.travelfranceonline.com/pont-des-arts-footbridge/)\n",
       "The current Pont des Arts, constructed in the early 1980s, faithfully replicates the original footbridge, albeit \n",
       "with a reduction in the number of arches from 8 to 7 to align with those of the Pont-Neuf upstream. Pont des Arts \n",
       "with Louvre in the background. In a ceremony presided over by Jacques Chirac, then Mayor of Paris, the \"new\" Pont \n",
       "...\n",
       "\n",
       "[A Comprehensive Guide to Visiting the Pont des Arts, Paris](https://audiala.com/en/france/paris/pont-des-arts)\n",
       "Discover essential information about Pont Des Arts in Paris, France. Learn about its history, significance, and \n",
       "tips for your visit. Optimize your travel experience with our comprehensive guide. ... Pedestrians eager to \n",
       "traverse its length and soak in the panoramic views had to pay a small fee. This practice continued for several \n",
       "decades until ...\n",
       "\n",
       "Out: None\n",
       "</pre>\n"
      ],
      "text/plain": [
       "\u001b[1mExecution logs:\u001b[0m\n",
       "## Search Results\n",
       "\n",
       "[Pont des Arts - Wikipedia](https://en.wikipedia.org/wiki/Pont_des_Arts)\n",
       "The Pont des Arts (French pronunciation: [pɔ̃ dez‿aʁ]) or Passerelle des Arts ([pasʁɛl-]) is a pedestrian bridge in\n",
       "Paris which crosses the River Seine. It links the Institut de France and the central square ( cour carrée ) of the \n",
       "Palais du Louvre , (which had been termed the \"Palais des Arts\" under the First French Empire ).\n",
       "\n",
       "[10 Picturesque Facts About The Pont Des Arts](https://art-facts.com/pont-des-arts-facts/)\n",
       "The Pont des Arts literally translates to ... Even though the bridge doesn't look that big at first sight, it still\n",
       "has a length of 155 meters (509 feet) and a width of 11 meters (36 feet). The original bridge during the 1880s / \n",
       "Wiki Commons 4. The bridge was completely rebuilt in the early 1980s.\n",
       "\n",
       "[Pont des Arts, Paris, France - LatLong](https://www.latlong.net/place/pont-des-arts-paris-france-32945.html)\n",
       "Pont des Arts, Paris, France. Latitude and longitude coordinates are: 48.858334, 2.337369. Pont des Arts is a \n",
       "scenic pedestrian bridge over the Seine River in Paris, France. The bridge connects the Musée du Louvre and the \n",
       "Institut de France. It has a length of 155 m (509 ft) and a width of 11 m (36 ft). It was constructed between 1981 \n",
       "and 1984.\n",
       "\n",
       "[8 Most Famous Bridges in Paris, by Appeal, Lenght & Love Locks](https://culturefrancia.com/en/paris-best-bridges/)\n",
       "Appeal Use 🚶🏻‍♂️Pedestrian Size (length x widht) 270 x 20 m (885 x 65 ft). Arrondissements 6th & 1st. French Names \n",
       "Pont des Arts Passerelle des Arts. This pedestrian bridge that spans the River Seine, was the first metal bridge in\n",
       "Paris and has become a symbol of romance and artistic expression.\n",
       "\n",
       "[17 Famous Bridges in France: Must-See Wonders! - Salut from \n",
       "Paris](https://www.salutfromparis.com/famous-bridges-in-france/)\n",
       "(built in 2004, 2460m length) Millau Viaduct in Aveyron - the world's tallest bridge. The Millau Viaduct is an \n",
       "engineering gem, standing tall in the heart of the Tarn Valley, ... #10 Pont des Arts, Paris (initial construction \n",
       "between 1801 and 1804, 155m length) Pont des Arts.\n",
       "\n",
       "[Pont des Arts - The Love Bridge](https://www.tourdefrance-bridges.com/post/pont-des-arts-the-love-bridge)\n",
       "Context:The Pont des Arts, originally a cast iron arch bridge, known more often as the \"Love Bridge,\" crosses the \n",
       "Seine river in Paris, connecting the Louvre to the Institut de Paris, formerly the Collèges des quatre Nations. ...\n",
       "The original bridge had 9 arches, was 155m in length and 11m wide and was made using cast iron. The number of ...\n",
       "\n",
       "[Bridge of Arts: History, Visit and Access • Come to \n",
       "Paris](https://www.cometoparis.com/paris-guide/paris-monuments/pont-des-arts-s959)\n",
       "Cultural Events Near the Pont des Arts in 2025. The Pont des Arts, although historic, is a living witness to the \n",
       "Parisian cultural scene. In 2025, several major events will take place nearby, offering visitors a unique \n",
       "opportunity to combine their stroll on the bridge with an artistic experience.\n",
       "\n",
       "[Le pont des Arts - L'art nouveau](https://paris1900.lartnouveau.com/ponts/pont_des_arts.htm)\n",
       "La mode des cadenas d'amour, accrochés par des couples accroché sur des ponts ou des équipements publics afin de \n",
       "symboliser est arrivée en 2008 sur le pont des Arts. En raison du poids excessif des cadenas qui mettais en péril \n",
       "le pont, ils ont été définitivement retirés en 2015, les parapets grillagés ont été remplacés par de ...\n",
       "\n",
       "[Pont des Arts footbridge - travelfranceonline.com](https://www.travelfranceonline.com/pont-des-arts-footbridge/)\n",
       "The current Pont des Arts, constructed in the early 1980s, faithfully replicates the original footbridge, albeit \n",
       "with a reduction in the number of arches from 8 to 7 to align with those of the Pont-Neuf upstream. Pont des Arts \n",
       "with Louvre in the background. In a ceremony presided over by Jacques Chirac, then Mayor of Paris, the \"new\" Pont \n",
       "...\n",
       "\n",
       "[A Comprehensive Guide to Visiting the Pont des Arts, Paris](https://audiala.com/en/france/paris/pont-des-arts)\n",
       "Discover essential information about Pont Des Arts in Paris, France. Learn about its history, significance, and \n",
       "tips for your visit. Optimize your travel experience with our comprehensive guide. ... Pedestrians eager to \n",
       "traverse its length and soak in the panoramic views had to pay a small fee. This practice continued for several \n",
       "decades until ...\n",
       "\n",
       "Out: None\n"
      ]
     },
     "metadata": {},
     "output_type": "display_data"
    },
    {
     "data": {
      "text/html": [
       "<pre style=\"white-space:pre;overflow-x:auto;line-height:normal;font-family:Menlo,'DejaVu Sans Mono',consolas,'Courier New',monospace\"><span style=\"color: #7f7f7f; text-decoration-color: #7f7f7f\">[Step 1: Duration 12.16 seconds| Input tokens: 2,056 | Output tokens: 93]</span>\n",
       "</pre>\n"
      ],
      "text/plain": [
       "\u001b[2m[Step 1: Duration 12.16 seconds| Input tokens: 2,056 | Output tokens: 93]\u001b[0m\n"
      ]
     },
     "metadata": {},
     "output_type": "display_data"
    },
    {
     "data": {
      "text/html": [
       "<pre style=\"white-space:pre;overflow-x:auto;line-height:normal;font-family:Menlo,'DejaVu Sans Mono',consolas,'Courier New',monospace\"><span style=\"color: #d4b702; text-decoration-color: #d4b702\">━━━━━━━━━━━━━━━━━━━━━━━━━━━━━━━━━━━━━━━━━━━━━━━━━━━━━ </span><span style=\"font-weight: bold\">Step </span><span style=\"color: #008080; text-decoration-color: #008080; font-weight: bold\">2</span><span style=\"color: #d4b702; text-decoration-color: #d4b702\"> ━━━━━━━━━━━━━━━━━━━━━━━━━━━━━━━━━━━━━━━━━━━━━━━━━━━━━━</span>\n",
       "</pre>\n"
      ],
      "text/plain": [
       "\u001b[38;2;212;183;2m━━━━━━━━━━━━━━━━━━━━━━━━━━━━━━━━━━━━━━━━━━━━━━━━━━━━━ \u001b[0m\u001b[1mStep \u001b[0m\u001b[1;36m2\u001b[0m\u001b[38;2;212;183;2m ━━━━━━━━━━━━━━━━━━━━━━━━━━━━━━━━━━━━━━━━━━━━━━━━━━━━━━\u001b[0m\n"
      ]
     },
     "metadata": {},
     "output_type": "display_data"
    },
    {
     "data": {
      "text/html": [
       "<pre style=\"white-space:pre;overflow-x:auto;line-height:normal;font-family:Menlo,'DejaVu Sans Mono',consolas,'Courier New',monospace\"> ─ <span style=\"font-weight: bold\">Executing parsed code:</span> ──────────────────────────────────────────────────────────────────────────────────────── \n",
       "  <span style=\"color: #f8f8f2; text-decoration-color: #f8f8f2; background-color: #272822\">leopard_speed </span><span style=\"color: #ff4689; text-decoration-color: #ff4689; background-color: #272822\">=</span><span style=\"color: #f8f8f2; text-decoration-color: #f8f8f2; background-color: #272822\"> web_search(query</span><span style=\"color: #ff4689; text-decoration-color: #ff4689; background-color: #272822\">=</span><span style=\"color: #e6db74; text-decoration-color: #e6db74; background-color: #272822\">\"top running speed of a leopard\"</span><span style=\"color: #f8f8f2; text-decoration-color: #f8f8f2; background-color: #272822\">)</span><span style=\"background-color: #272822\">                                             </span>  \n",
       "  <span style=\"color: #f8f8f2; text-decoration-color: #f8f8f2; background-color: #272822\">print(leopard_speed)</span><span style=\"background-color: #272822\">                                                                                           </span>  \n",
       " ───────────────────────────────────────────────────────────────────────────────────────────────────────────────── \n",
       "</pre>\n"
      ],
      "text/plain": [
       " ─ \u001b[1mExecuting parsed code:\u001b[0m ──────────────────────────────────────────────────────────────────────────────────────── \n",
       "  \u001b[38;2;248;248;242;48;2;39;40;34mleopard_speed\u001b[0m\u001b[38;2;248;248;242;48;2;39;40;34m \u001b[0m\u001b[38;2;255;70;137;48;2;39;40;34m=\u001b[0m\u001b[38;2;248;248;242;48;2;39;40;34m \u001b[0m\u001b[38;2;248;248;242;48;2;39;40;34mweb_search\u001b[0m\u001b[38;2;248;248;242;48;2;39;40;34m(\u001b[0m\u001b[38;2;248;248;242;48;2;39;40;34mquery\u001b[0m\u001b[38;2;255;70;137;48;2;39;40;34m=\u001b[0m\u001b[38;2;230;219;116;48;2;39;40;34m\"\u001b[0m\u001b[38;2;230;219;116;48;2;39;40;34mtop running speed of a leopard\u001b[0m\u001b[38;2;230;219;116;48;2;39;40;34m\"\u001b[0m\u001b[38;2;248;248;242;48;2;39;40;34m)\u001b[0m\u001b[48;2;39;40;34m                                             \u001b[0m  \n",
       "  \u001b[38;2;248;248;242;48;2;39;40;34mprint\u001b[0m\u001b[38;2;248;248;242;48;2;39;40;34m(\u001b[0m\u001b[38;2;248;248;242;48;2;39;40;34mleopard_speed\u001b[0m\u001b[38;2;248;248;242;48;2;39;40;34m)\u001b[0m\u001b[48;2;39;40;34m                                                                                           \u001b[0m  \n",
       " ───────────────────────────────────────────────────────────────────────────────────────────────────────────────── \n"
      ]
     },
     "metadata": {},
     "output_type": "display_data"
    },
    {
     "data": {
      "text/html": [
       "<pre style=\"white-space:pre;overflow-x:auto;line-height:normal;font-family:Menlo,'DejaVu Sans Mono',consolas,'Courier New',monospace\"><span style=\"font-weight: bold\">Execution logs:</span>\n",
       "## Search Results\n",
       "\n",
       "[How Fast Can a Leopard Run? It's Slower than Most of Its Prey](https://africafreak.com/how-fast-can-a-leopard-run)\n",
       "African leopards have a top speed of 56-60 km/h (35-37 mph). That's significantly slower than cheetahs and lions, \n",
       "as well as being slower than a lot of its prey. But this top speed isn't the full story. The leopard is one of the \n",
       "greatest predators on the African savannah and speed is just one piece of its hunting prowess.\n",
       "\n",
       "[How Fast Are Leopards? Top Speeds and How It Compares ... - AZ \n",
       "Animals](https://a-z-animals.com/blog/how-fast-leopards-top-speeds-how-compares-other-big-cats/)\n",
       "However, humans have much more endurance when it comes to running, though not at the speeds Usain Bolt reaches. \n",
       "When comparing how long a human can run versus how long a cat can run, the human wins. Some factors that give \n",
       "humans an advantage in endurance include bipedalism, tons of sweat glands, and the ability to conserve energy while\n",
       "running ...\n",
       "\n",
       "[How Fast Can a Leopard Run? A Fascinating Look at Their \n",
       "Speed](https://tiger-universe.com/blogs/tiger-blog/how-fast-can-a-leopard-run)\n",
       "Understanding Leopard's Top Speed. Leopards are incredibly agile and strong, reaching speeds up to 36 mph. Their \n",
       "speed is vital for hunting alone, unlike other predators that hunt in groups. Leopard run speed records reveal \n",
       "their incredible burst of speed, essential for sneaking up on their prey.\n",
       "\n",
       "[How fast can leopards run and how agile are they? - \n",
       "WildLifeFAQs](https://www.wildlifefaq.com/leopard-speed-and-agility/)\n",
       "In this section, we will explore the leopard's running speed, top speed, and overall agility. Get ready to be \n",
       "amazed by these agile big cats! Leopards are known for their remarkable speed and agility. They can reach speeds of\n",
       "up to 58 kilometers per hour (36 mph) during short bursts of running. Their long, muscular legs allow them to cover\n",
       "...\n",
       "\n",
       "[Unraveling the Speed of Leopards: How Fast Can They Actually \n",
       "Run?](https://startingrun.com/unraveling-the-speed-of-leopards-how-fast-can-they-actually-run/)\n",
       "Environmental and situational factors, including terrain, prey's size and speed, climatic conditions, fatigue, age,\n",
       "and health, significantly influence the leopard's speed. Compared to other big cats such as lions, cheetahs, \n",
       "jaguars, and tigers, leopards hold a respectable position with a top speed of 58 km/h (36 mph), showcasing a ...\n",
       "\n",
       "[How Fast Can a Leopard Run? - YouTube](https://www.youtube.com/watch?v=CdK97tz4APQ)\n",
       "Discover the incredible running speed of leopards and how they excel in the wild! In this video, we dive into \n",
       "leopard running speed, exploring their top spri...\n",
       "\n",
       "[How Fast Is A Leopard? | Bite-Sized Knowledge - UntamedAnimals](https://untamedanimals.com/how-fast-is-a-leopard/)\n",
       "How fast is a leopard? Leopards can run fast but they are not the fastest cats in the wild. Their top speed is 36 \n",
       "mph or 58 km/h which puts them in the last spot among big cats. They do not rely solely on speed to catch their \n",
       "prey, after all, most of their prey is faster than they are. For example, impalas can run up to 55 mph or 90 km/h.\n",
       "\n",
       "[About leopards - International Leopard Day](https://www.internationalleopardday.org/about-leopards)\n",
       "The presence of top carnivores like the leopard regulates herbivore numbers through predation, and the numbers of \n",
       "smaller medium-sized carnivores through competition and dominance. ... Leopards can reach a top running speed of \n",
       "56-60 km/h (35-37 mph). That is slower than some other predators and also slower than many of their prey species. \n",
       "But ...\n",
       "\n",
       "[The Power of the Leopard: Strength, Speed, and \n",
       "Symbolism](https://worlddeer.org/the-power-of-the-leopard-strength-speed-and-symbolism/)\n",
       "Speed and Hunting Techniques. The leopard is also one of the fastest cats, capable of running up to 35 mph (56 \n",
       "km/h) in short bursts. This speed, combined with their agility, makes leopards exceptionally skilled hunters. \n",
       "Unlike lions or tigers, leopards rely on stealth and quick, decisive strikes to take down their prey.\n",
       "\n",
       "[How Fast Can a Leopard Run? - \n",
       "Reference.com](https://www.reference.com/pets-animals/fast-can-leopard-run-deeb9e03f5aa98b5)\n",
       "A leopard can reach a top speed of 30 miles per hour. The fastest animal on Earth is said to be a cheetah, which \n",
       "can reach a top speed of 70 miles per hour. Leopards do not waste energy. Instead of chasing, the cats stalk and \n",
       "ambush prey. A leopard's prey consists primarily of deer, rodents and warthogs. Predators of the leopard include \n",
       "lions ...\n",
       "\n",
       "Out: None\n",
       "</pre>\n"
      ],
      "text/plain": [
       "\u001b[1mExecution logs:\u001b[0m\n",
       "## Search Results\n",
       "\n",
       "[How Fast Can a Leopard Run? It's Slower than Most of Its Prey](https://africafreak.com/how-fast-can-a-leopard-run)\n",
       "African leopards have a top speed of 56-60 km/h (35-37 mph). That's significantly slower than cheetahs and lions, \n",
       "as well as being slower than a lot of its prey. But this top speed isn't the full story. The leopard is one of the \n",
       "greatest predators on the African savannah and speed is just one piece of its hunting prowess.\n",
       "\n",
       "[How Fast Are Leopards? Top Speeds and How It Compares ... - AZ \n",
       "Animals](https://a-z-animals.com/blog/how-fast-leopards-top-speeds-how-compares-other-big-cats/)\n",
       "However, humans have much more endurance when it comes to running, though not at the speeds Usain Bolt reaches. \n",
       "When comparing how long a human can run versus how long a cat can run, the human wins. Some factors that give \n",
       "humans an advantage in endurance include bipedalism, tons of sweat glands, and the ability to conserve energy while\n",
       "running ...\n",
       "\n",
       "[How Fast Can a Leopard Run? A Fascinating Look at Their \n",
       "Speed](https://tiger-universe.com/blogs/tiger-blog/how-fast-can-a-leopard-run)\n",
       "Understanding Leopard's Top Speed. Leopards are incredibly agile and strong, reaching speeds up to 36 mph. Their \n",
       "speed is vital for hunting alone, unlike other predators that hunt in groups. Leopard run speed records reveal \n",
       "their incredible burst of speed, essential for sneaking up on their prey.\n",
       "\n",
       "[How fast can leopards run and how agile are they? - \n",
       "WildLifeFAQs](https://www.wildlifefaq.com/leopard-speed-and-agility/)\n",
       "In this section, we will explore the leopard's running speed, top speed, and overall agility. Get ready to be \n",
       "amazed by these agile big cats! Leopards are known for their remarkable speed and agility. They can reach speeds of\n",
       "up to 58 kilometers per hour (36 mph) during short bursts of running. Their long, muscular legs allow them to cover\n",
       "...\n",
       "\n",
       "[Unraveling the Speed of Leopards: How Fast Can They Actually \n",
       "Run?](https://startingrun.com/unraveling-the-speed-of-leopards-how-fast-can-they-actually-run/)\n",
       "Environmental and situational factors, including terrain, prey's size and speed, climatic conditions, fatigue, age,\n",
       "and health, significantly influence the leopard's speed. Compared to other big cats such as lions, cheetahs, \n",
       "jaguars, and tigers, leopards hold a respectable position with a top speed of 58 km/h (36 mph), showcasing a ...\n",
       "\n",
       "[How Fast Can a Leopard Run? - YouTube](https://www.youtube.com/watch?v=CdK97tz4APQ)\n",
       "Discover the incredible running speed of leopards and how they excel in the wild! In this video, we dive into \n",
       "leopard running speed, exploring their top spri...\n",
       "\n",
       "[How Fast Is A Leopard? | Bite-Sized Knowledge - UntamedAnimals](https://untamedanimals.com/how-fast-is-a-leopard/)\n",
       "How fast is a leopard? Leopards can run fast but they are not the fastest cats in the wild. Their top speed is 36 \n",
       "mph or 58 km/h which puts them in the last spot among big cats. They do not rely solely on speed to catch their \n",
       "prey, after all, most of their prey is faster than they are. For example, impalas can run up to 55 mph or 90 km/h.\n",
       "\n",
       "[About leopards - International Leopard Day](https://www.internationalleopardday.org/about-leopards)\n",
       "The presence of top carnivores like the leopard regulates herbivore numbers through predation, and the numbers of \n",
       "smaller medium-sized carnivores through competition and dominance. ... Leopards can reach a top running speed of \n",
       "56-60 km/h (35-37 mph). That is slower than some other predators and also slower than many of their prey species. \n",
       "But ...\n",
       "\n",
       "[The Power of the Leopard: Strength, Speed, and \n",
       "Symbolism](https://worlddeer.org/the-power-of-the-leopard-strength-speed-and-symbolism/)\n",
       "Speed and Hunting Techniques. The leopard is also one of the fastest cats, capable of running up to 35 mph (56 \n",
       "km/h) in short bursts. This speed, combined with their agility, makes leopards exceptionally skilled hunters. \n",
       "Unlike lions or tigers, leopards rely on stealth and quick, decisive strikes to take down their prey.\n",
       "\n",
       "[How Fast Can a Leopard Run? - \n",
       "Reference.com](https://www.reference.com/pets-animals/fast-can-leopard-run-deeb9e03f5aa98b5)\n",
       "A leopard can reach a top speed of 30 miles per hour. The fastest animal on Earth is said to be a cheetah, which \n",
       "can reach a top speed of 70 miles per hour. Leopards do not waste energy. Instead of chasing, the cats stalk and \n",
       "ambush prey. A leopard's prey consists primarily of deer, rodents and warthogs. Predators of the leopard include \n",
       "lions ...\n",
       "\n",
       "Out: None\n"
      ]
     },
     "metadata": {},
     "output_type": "display_data"
    },
    {
     "data": {
      "text/html": [
       "<pre style=\"white-space:pre;overflow-x:auto;line-height:normal;font-family:Menlo,'DejaVu Sans Mono',consolas,'Courier New',monospace\"><span style=\"color: #7f7f7f; text-decoration-color: #7f7f7f\">[Step 2: Duration 6.73 seconds| Input tokens: 5,472 | Output tokens: 173]</span>\n",
       "</pre>\n"
      ],
      "text/plain": [
       "\u001b[2m[Step 2: Duration 6.73 seconds| Input tokens: 5,472 | Output tokens: 173]\u001b[0m\n"
      ]
     },
     "metadata": {},
     "output_type": "display_data"
    },
    {
     "data": {
      "text/html": [
       "<pre style=\"white-space:pre;overflow-x:auto;line-height:normal;font-family:Menlo,'DejaVu Sans Mono',consolas,'Courier New',monospace\"><span style=\"color: #d4b702; text-decoration-color: #d4b702\">━━━━━━━━━━━━━━━━━━━━━━━━━━━━━━━━━━━━━━━━━━━━━━━━━━━━━ </span><span style=\"font-weight: bold\">Step </span><span style=\"color: #008080; text-decoration-color: #008080; font-weight: bold\">3</span><span style=\"color: #d4b702; text-decoration-color: #d4b702\"> ━━━━━━━━━━━━━━━━━━━━━━━━━━━━━━━━━━━━━━━━━━━━━━━━━━━━━━</span>\n",
       "</pre>\n"
      ],
      "text/plain": [
       "\u001b[38;2;212;183;2m━━━━━━━━━━━━━━━━━━━━━━━━━━━━━━━━━━━━━━━━━━━━━━━━━━━━━ \u001b[0m\u001b[1mStep \u001b[0m\u001b[1;36m3\u001b[0m\u001b[38;2;212;183;2m ━━━━━━━━━━━━━━━━━━━━━━━━━━━━━━━━━━━━━━━━━━━━━━━━━━━━━━\u001b[0m\n"
      ]
     },
     "metadata": {},
     "output_type": "display_data"
    },
    {
     "data": {
      "text/html": [
       "<pre style=\"white-space:pre;overflow-x:auto;line-height:normal;font-family:Menlo,'DejaVu Sans Mono',consolas,'Courier New',monospace\"> ─ <span style=\"font-weight: bold\">Executing parsed code:</span> ──────────────────────────────────────────────────────────────────────────────────────── \n",
       "  <span style=\"color: #959077; text-decoration-color: #959077; background-color: #272822\"># Convert the average top speed of a leopard from km/h to m/s</span><span style=\"background-color: #272822\">                                                  </span>  \n",
       "  <span style=\"color: #f8f8f2; text-decoration-color: #f8f8f2; background-color: #272822\">leopard_speed_kmh </span><span style=\"color: #ff4689; text-decoration-color: #ff4689; background-color: #272822\">=</span><span style=\"color: #f8f8f2; text-decoration-color: #f8f8f2; background-color: #272822\"> </span><span style=\"color: #ae81ff; text-decoration-color: #ae81ff; background-color: #272822\">58</span><span style=\"background-color: #272822\">                                                                                         </span>  \n",
       "  <span style=\"color: #f8f8f2; text-decoration-color: #f8f8f2; background-color: #272822\">leopard_speed_ms </span><span style=\"color: #ff4689; text-decoration-color: #ff4689; background-color: #272822\">=</span><span style=\"color: #f8f8f2; text-decoration-color: #f8f8f2; background-color: #272822\"> leopard_speed_kmh </span><span style=\"color: #ff4689; text-decoration-color: #ff4689; background-color: #272822\">/</span><span style=\"color: #f8f8f2; text-decoration-color: #f8f8f2; background-color: #272822\"> </span><span style=\"color: #ae81ff; text-decoration-color: #ae81ff; background-color: #272822\">3.6</span><span style=\"color: #f8f8f2; text-decoration-color: #f8f8f2; background-color: #272822\">  </span><span style=\"color: #959077; text-decoration-color: #959077; background-color: #272822\"># 1 km/h = 1000 m / 3600 s</span><span style=\"background-color: #272822\">                                         </span>  \n",
       "  <span style=\"background-color: #272822\">                                                                                                               </span>  \n",
       "  <span style=\"color: #959077; text-decoration-color: #959077; background-color: #272822\"># Length of the Pont des Arts in meters</span><span style=\"background-color: #272822\">                                                                        </span>  \n",
       "  <span style=\"color: #f8f8f2; text-decoration-color: #f8f8f2; background-color: #272822\">length_of_bridge </span><span style=\"color: #ff4689; text-decoration-color: #ff4689; background-color: #272822\">=</span><span style=\"color: #f8f8f2; text-decoration-color: #f8f8f2; background-color: #272822\"> </span><span style=\"color: #ae81ff; text-decoration-color: #ae81ff; background-color: #272822\">155</span><span style=\"background-color: #272822\">                                                                                         </span>  \n",
       "  <span style=\"background-color: #272822\">                                                                                                               </span>  \n",
       "  <span style=\"color: #959077; text-decoration-color: #959077; background-color: #272822\"># Calculate the time it would take for the leopard to run through the bridge</span><span style=\"background-color: #272822\">                                   </span>  \n",
       "  <span style=\"color: #f8f8f2; text-decoration-color: #f8f8f2; background-color: #272822\">time_seconds </span><span style=\"color: #ff4689; text-decoration-color: #ff4689; background-color: #272822\">=</span><span style=\"color: #f8f8f2; text-decoration-color: #f8f8f2; background-color: #272822\"> length_of_bridge </span><span style=\"color: #ff4689; text-decoration-color: #ff4689; background-color: #272822\">/</span><span style=\"color: #f8f8f2; text-decoration-color: #f8f8f2; background-color: #272822\"> leopard_speed_ms</span><span style=\"background-color: #272822\">                                                             </span>  \n",
       "  <span style=\"color: #f8f8f2; text-decoration-color: #f8f8f2; background-color: #272822\">final_answer(time_seconds)</span><span style=\"background-color: #272822\">                                                                                     </span>  \n",
       " ───────────────────────────────────────────────────────────────────────────────────────────────────────────────── \n",
       "</pre>\n"
      ],
      "text/plain": [
       " ─ \u001b[1mExecuting parsed code:\u001b[0m ──────────────────────────────────────────────────────────────────────────────────────── \n",
       "  \u001b[38;2;149;144;119;48;2;39;40;34m# Convert the average top speed of a leopard from km/h to m/s\u001b[0m\u001b[48;2;39;40;34m                                                  \u001b[0m  \n",
       "  \u001b[38;2;248;248;242;48;2;39;40;34mleopard_speed_kmh\u001b[0m\u001b[38;2;248;248;242;48;2;39;40;34m \u001b[0m\u001b[38;2;255;70;137;48;2;39;40;34m=\u001b[0m\u001b[38;2;248;248;242;48;2;39;40;34m \u001b[0m\u001b[38;2;174;129;255;48;2;39;40;34m58\u001b[0m\u001b[48;2;39;40;34m                                                                                         \u001b[0m  \n",
       "  \u001b[38;2;248;248;242;48;2;39;40;34mleopard_speed_ms\u001b[0m\u001b[38;2;248;248;242;48;2;39;40;34m \u001b[0m\u001b[38;2;255;70;137;48;2;39;40;34m=\u001b[0m\u001b[38;2;248;248;242;48;2;39;40;34m \u001b[0m\u001b[38;2;248;248;242;48;2;39;40;34mleopard_speed_kmh\u001b[0m\u001b[38;2;248;248;242;48;2;39;40;34m \u001b[0m\u001b[38;2;255;70;137;48;2;39;40;34m/\u001b[0m\u001b[38;2;248;248;242;48;2;39;40;34m \u001b[0m\u001b[38;2;174;129;255;48;2;39;40;34m3.6\u001b[0m\u001b[38;2;248;248;242;48;2;39;40;34m  \u001b[0m\u001b[38;2;149;144;119;48;2;39;40;34m# 1 km/h = 1000 m / 3600 s\u001b[0m\u001b[48;2;39;40;34m                                         \u001b[0m  \n",
       "  \u001b[48;2;39;40;34m                                                                                                               \u001b[0m  \n",
       "  \u001b[38;2;149;144;119;48;2;39;40;34m# Length of the Pont des Arts in meters\u001b[0m\u001b[48;2;39;40;34m                                                                        \u001b[0m  \n",
       "  \u001b[38;2;248;248;242;48;2;39;40;34mlength_of_bridge\u001b[0m\u001b[38;2;248;248;242;48;2;39;40;34m \u001b[0m\u001b[38;2;255;70;137;48;2;39;40;34m=\u001b[0m\u001b[38;2;248;248;242;48;2;39;40;34m \u001b[0m\u001b[38;2;174;129;255;48;2;39;40;34m155\u001b[0m\u001b[48;2;39;40;34m                                                                                         \u001b[0m  \n",
       "  \u001b[48;2;39;40;34m                                                                                                               \u001b[0m  \n",
       "  \u001b[38;2;149;144;119;48;2;39;40;34m# Calculate the time it would take for the leopard to run through the bridge\u001b[0m\u001b[48;2;39;40;34m                                   \u001b[0m  \n",
       "  \u001b[38;2;248;248;242;48;2;39;40;34mtime_seconds\u001b[0m\u001b[38;2;248;248;242;48;2;39;40;34m \u001b[0m\u001b[38;2;255;70;137;48;2;39;40;34m=\u001b[0m\u001b[38;2;248;248;242;48;2;39;40;34m \u001b[0m\u001b[38;2;248;248;242;48;2;39;40;34mlength_of_bridge\u001b[0m\u001b[38;2;248;248;242;48;2;39;40;34m \u001b[0m\u001b[38;2;255;70;137;48;2;39;40;34m/\u001b[0m\u001b[38;2;248;248;242;48;2;39;40;34m \u001b[0m\u001b[38;2;248;248;242;48;2;39;40;34mleopard_speed_ms\u001b[0m\u001b[48;2;39;40;34m                                                             \u001b[0m  \n",
       "  \u001b[38;2;248;248;242;48;2;39;40;34mfinal_answer\u001b[0m\u001b[38;2;248;248;242;48;2;39;40;34m(\u001b[0m\u001b[38;2;248;248;242;48;2;39;40;34mtime_seconds\u001b[0m\u001b[38;2;248;248;242;48;2;39;40;34m)\u001b[0m\u001b[48;2;39;40;34m                                                                                     \u001b[0m  \n",
       " ───────────────────────────────────────────────────────────────────────────────────────────────────────────────── \n"
      ]
     },
     "metadata": {},
     "output_type": "display_data"
    },
    {
     "data": {
      "text/html": [
       "<pre style=\"white-space:pre;overflow-x:auto;line-height:normal;font-family:Menlo,'DejaVu Sans Mono',consolas,'Courier New',monospace\"><span style=\"color: #d4b702; text-decoration-color: #d4b702; font-weight: bold\">Out - Final answer: 9.620689655172415</span>\n",
       "</pre>\n"
      ],
      "text/plain": [
       "\u001b[1;38;2;212;183;2mOut - Final answer: 9.620689655172415\u001b[0m\n"
      ]
     },
     "metadata": {},
     "output_type": "display_data"
    },
    {
     "data": {
      "text/html": [
       "<pre style=\"white-space:pre;overflow-x:auto;line-height:normal;font-family:Menlo,'DejaVu Sans Mono',consolas,'Courier New',monospace\"><span style=\"color: #7f7f7f; text-decoration-color: #7f7f7f\">[Step 3: Duration 10.64 seconds| Input tokens: 10,142 | Output tokens: 384]</span>\n",
       "</pre>\n"
      ],
      "text/plain": [
       "\u001b[2m[Step 3: Duration 10.64 seconds| Input tokens: 10,142 | Output tokens: 384]\u001b[0m\n"
      ]
     },
     "metadata": {},
     "output_type": "display_data"
    },
    {
     "data": {
      "text/plain": [
       "9.620689655172415"
      ]
     },
     "execution_count": 7,
     "metadata": {},
     "output_type": "execute_result"
    }
   ],
   "source": [
    "\n",
    "agent.run(\"How many seconds would it take for a leopard at full speed to run through Pont des Arts?\")\n",
    "\n",
    "\n"
   ]
  },
  {
   "cell_type": "code",
   "execution_count": null,
   "id": "575c4a07-7564-4d33-81f6-ad1c80c5fc75",
   "metadata": {},
   "outputs": [],
   "source": []
  },
  {
   "cell_type": "code",
   "execution_count": null,
   "id": "f66dbdc0-c1c1-4854-8f51-826f49dcc8e6",
   "metadata": {},
   "outputs": [],
   "source": []
  },
  {
   "cell_type": "code",
   "execution_count": null,
   "id": "79789455-2de7-4361-97bb-63db09700c9d",
   "metadata": {},
   "outputs": [],
   "source": []
  },
  {
   "cell_type": "code",
   "execution_count": null,
   "id": "be1dfbcd-3b6e-4824-aec9-d1c6844c34e4",
   "metadata": {},
   "outputs": [],
   "source": []
  },
  {
   "cell_type": "code",
   "execution_count": null,
   "id": "5efcd59d-c176-4f36-a495-9ba5f39aaa14",
   "metadata": {},
   "outputs": [],
   "source": []
  },
  {
   "cell_type": "code",
   "execution_count": null,
   "id": "47459a19-0fac-4a0f-ae05-bae403e95f8a",
   "metadata": {},
   "outputs": [],
   "source": []
  },
  {
   "cell_type": "code",
   "execution_count": null,
   "id": "288de452-f8ca-4b02-83d6-6d390a9b7363",
   "metadata": {},
   "outputs": [],
   "source": []
  },
  {
   "cell_type": "code",
   "execution_count": null,
   "id": "a8663727-5454-4d51-80a8-5c34a487496c",
   "metadata": {},
   "outputs": [],
   "source": []
  },
  {
   "cell_type": "code",
   "execution_count": null,
   "id": "aeafb687-6452-4f0b-9065-85e5a9e627b1",
   "metadata": {},
   "outputs": [],
   "source": []
  },
  {
   "cell_type": "code",
   "execution_count": null,
   "id": "022aed8c-d316-4a5b-8e68-ba524a57dc2c",
   "metadata": {},
   "outputs": [],
   "source": []
  },
  {
   "cell_type": "code",
   "execution_count": null,
   "id": "961de6c1-6838-46dd-bd58-2e024b8598d7",
   "metadata": {},
   "outputs": [],
   "source": []
  },
  {
   "cell_type": "code",
   "execution_count": null,
   "id": "6f447173-5c59-4b87-8664-d456cd680c3a",
   "metadata": {},
   "outputs": [],
   "source": []
  },
  {
   "cell_type": "code",
   "execution_count": null,
   "id": "063a2ad7-027f-4035-8e3f-4ea9eede8931",
   "metadata": {},
   "outputs": [],
   "source": []
  },
  {
   "cell_type": "code",
   "execution_count": null,
   "id": "a4096ab5-ca19-48b1-9991-2031768fa528",
   "metadata": {},
   "outputs": [],
   "source": []
  },
  {
   "cell_type": "code",
   "execution_count": null,
   "id": "22eae852-71cc-4d30-8d48-856918ef0c8a",
   "metadata": {},
   "outputs": [],
   "source": []
  }
 ],
 "metadata": {
  "kernelspec": {
   "display_name": "Python 3 (ipykernel)",
   "language": "python",
   "name": "python3"
  },
  "language_info": {
   "codemirror_mode": {
    "name": "ipython",
    "version": 3
   },
   "file_extension": ".py",
   "mimetype": "text/x-python",
   "name": "python",
   "nbconvert_exporter": "python",
   "pygments_lexer": "ipython3",
   "version": "3.10.16"
  }
 },
 "nbformat": 4,
 "nbformat_minor": 5
}
