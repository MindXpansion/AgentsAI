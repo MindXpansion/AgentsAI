{
 "cells": [
  {
   "cell_type": "code",
   "execution_count": 1,
   "id": "2f754000-3481-4540-b4c7-204e249588e5",
   "metadata": {},
   "outputs": [],
   "source": [
    "\n",
    "import os\n"
   ]
  },
  {
   "cell_type": "code",
   "execution_count": 2,
   "id": "bb2d876f-7a12-4743-9b08-ff071d8fe8f0",
   "metadata": {},
   "outputs": [],
   "source": [
    "\n",
    "os.environ['OPENAI_API_KEY'] = os.getenv(\"OPENAI_API_KEY\")\n"
   ]
  },
  {
   "cell_type": "code",
   "execution_count": 4,
   "id": "82557815-a5b0-4c05-a90e-3d3a8bbc69c7",
   "metadata": {},
   "outputs": [],
   "source": [
    "\n",
    "## from smolagents import CodeAgent, DuckDuckGoSearchTool, HfApiModel\n"
   ]
  },
  {
   "cell_type": "code",
   "execution_count": 7,
   "id": "c1e63d66-d328-4c46-b79b-9eef0bad0f10",
   "metadata": {},
   "outputs": [],
   "source": [
    "\n",
    "from smolagents import CodeAgent, DuckDuckGoSearchTool, LiteLLMModel\n",
    "\n",
    "## model = LiteLLMModel(model_id=\"gpt-4o\")\n",
    "\n",
    "model = LiteLLMModel(\n",
    "    model_id=\"gpt-4o-mini\", \n",
    "    api_key = os.getenv(\"OPENAI_API_KEY\")\n",
    ")\n",
    "\n",
    "agent = CodeAgent(\n",
    "    tools=[DuckDuckGoSearchTool()], \n",
    "    model=model, \n",
    "    additional_authorized_imports=[ 'math']\n",
    ")\n"
   ]
  },
  {
   "cell_type": "code",
   "execution_count": 9,
   "id": "50f6636c-2602-4d86-b6a0-2cab933c2749",
   "metadata": {},
   "outputs": [
    {
     "data": {
      "text/html": [
       "<pre style=\"white-space:pre;overflow-x:auto;line-height:normal;font-family:Menlo,'DejaVu Sans Mono',consolas,'Courier New',monospace\"><span style=\"color: #d4b702; text-decoration-color: #d4b702\">╭──────────────────────────────────────────────────── </span><span style=\"color: #d4b702; text-decoration-color: #d4b702; font-weight: bold\">New run</span><span style=\"color: #d4b702; text-decoration-color: #d4b702\"> ────────────────────────────────────────────────────╮</span>\n",
       "<span style=\"color: #d4b702; text-decoration-color: #d4b702\">│</span>                                                                                                                 <span style=\"color: #d4b702; text-decoration-color: #d4b702\">│</span>\n",
       "<span style=\"color: #d4b702; text-decoration-color: #d4b702\">│</span> <span style=\"font-weight: bold\">Calculate how long does it take to drive from Melbourne to Sydney?</span>                                              <span style=\"color: #d4b702; text-decoration-color: #d4b702\">│</span>\n",
       "<span style=\"color: #d4b702; text-decoration-color: #d4b702\">│</span>                                                                                                                 <span style=\"color: #d4b702; text-decoration-color: #d4b702\">│</span>\n",
       "<span style=\"color: #d4b702; text-decoration-color: #d4b702\">╰─ LiteLLMModel - gpt-4o-mini ────────────────────────────────────────────────────────────────────────────────────╯</span>\n",
       "</pre>\n"
      ],
      "text/plain": [
       "\u001b[38;2;212;183;2m╭─\u001b[0m\u001b[38;2;212;183;2m───────────────────────────────────────────────────\u001b[0m\u001b[38;2;212;183;2m \u001b[0m\u001b[1;38;2;212;183;2mNew run\u001b[0m\u001b[38;2;212;183;2m \u001b[0m\u001b[38;2;212;183;2m───────────────────────────────────────────────────\u001b[0m\u001b[38;2;212;183;2m─╮\u001b[0m\n",
       "\u001b[38;2;212;183;2m│\u001b[0m                                                                                                                 \u001b[38;2;212;183;2m│\u001b[0m\n",
       "\u001b[38;2;212;183;2m│\u001b[0m \u001b[1mCalculate how long does it take to drive from Melbourne to Sydney?\u001b[0m                                              \u001b[38;2;212;183;2m│\u001b[0m\n",
       "\u001b[38;2;212;183;2m│\u001b[0m                                                                                                                 \u001b[38;2;212;183;2m│\u001b[0m\n",
       "\u001b[38;2;212;183;2m╰─\u001b[0m\u001b[38;2;212;183;2m LiteLLMModel - gpt-4o-mini \u001b[0m\u001b[38;2;212;183;2m───────────────────────────────────────────────────────────────────────────────────\u001b[0m\u001b[38;2;212;183;2m─╯\u001b[0m\n"
      ]
     },
     "metadata": {},
     "output_type": "display_data"
    },
    {
     "data": {
      "text/html": [
       "<pre style=\"white-space:pre;overflow-x:auto;line-height:normal;font-family:Menlo,'DejaVu Sans Mono',consolas,'Courier New',monospace\"><span style=\"color: #d4b702; text-decoration-color: #d4b702\">━━━━━━━━━━━━━━━━━━━━━━━━━━━━━━━━━━━━━━━━━━━━━━━━━━━━━ </span><span style=\"font-weight: bold\">Step </span><span style=\"color: #008080; text-decoration-color: #008080; font-weight: bold\">0</span><span style=\"color: #d4b702; text-decoration-color: #d4b702\"> ━━━━━━━━━━━━━━━━━━━━━━━━━━━━━━━━━━━━━━━━━━━━━━━━━━━━━━</span>\n",
       "</pre>\n"
      ],
      "text/plain": [
       "\u001b[38;2;212;183;2m━━━━━━━━━━━━━━━━━━━━━━━━━━━━━━━━━━━━━━━━━━━━━━━━━━━━━ \u001b[0m\u001b[1mStep \u001b[0m\u001b[1;36m0\u001b[0m\u001b[38;2;212;183;2m ━━━━━━━━━━━━━━━━━━━━━━━━━━━━━━━━━━━━━━━━━━━━━━━━━━━━━━\u001b[0m\n"
      ]
     },
     "metadata": {},
     "output_type": "display_data"
    },
    {
     "data": {
      "text/html": [
       "<pre style=\"white-space:pre;overflow-x:auto;line-height:normal;font-family:Menlo,'DejaVu Sans Mono',consolas,'Courier New',monospace\"> ─ <span style=\"font-weight: bold\">Executing this code:</span> ────────────────────────────────────────────────────────────────────────────────────────── \n",
       "  <span style=\"color: #f8f8f2; text-decoration-color: #f8f8f2; background-color: #272822\">driving_time_info </span><span style=\"color: #ff4689; text-decoration-color: #ff4689; background-color: #272822\">=</span><span style=\"color: #f8f8f2; text-decoration-color: #f8f8f2; background-color: #272822\"> web_search(query</span><span style=\"color: #ff4689; text-decoration-color: #ff4689; background-color: #272822\">=</span><span style=\"color: #e6db74; text-decoration-color: #e6db74; background-color: #272822\">\"driving time from Melbourne to Sydney\"</span><span style=\"color: #f8f8f2; text-decoration-color: #f8f8f2; background-color: #272822\">)</span><span style=\"background-color: #272822\">                                  </span>  \n",
       "  <span style=\"color: #f8f8f2; text-decoration-color: #f8f8f2; background-color: #272822\">print(driving_time_info)</span><span style=\"background-color: #272822\">                                                                                       </span>  \n",
       " ───────────────────────────────────────────────────────────────────────────────────────────────────────────────── \n",
       "</pre>\n"
      ],
      "text/plain": [
       " ─ \u001b[1mExecuting this code:\u001b[0m ────────────────────────────────────────────────────────────────────────────────────────── \n",
       "  \u001b[38;2;248;248;242;48;2;39;40;34mdriving_time_info\u001b[0m\u001b[38;2;248;248;242;48;2;39;40;34m \u001b[0m\u001b[38;2;255;70;137;48;2;39;40;34m=\u001b[0m\u001b[38;2;248;248;242;48;2;39;40;34m \u001b[0m\u001b[38;2;248;248;242;48;2;39;40;34mweb_search\u001b[0m\u001b[38;2;248;248;242;48;2;39;40;34m(\u001b[0m\u001b[38;2;248;248;242;48;2;39;40;34mquery\u001b[0m\u001b[38;2;255;70;137;48;2;39;40;34m=\u001b[0m\u001b[38;2;230;219;116;48;2;39;40;34m\"\u001b[0m\u001b[38;2;230;219;116;48;2;39;40;34mdriving time from Melbourne to Sydney\u001b[0m\u001b[38;2;230;219;116;48;2;39;40;34m\"\u001b[0m\u001b[38;2;248;248;242;48;2;39;40;34m)\u001b[0m\u001b[48;2;39;40;34m                                  \u001b[0m  \n",
       "  \u001b[38;2;248;248;242;48;2;39;40;34mprint\u001b[0m\u001b[38;2;248;248;242;48;2;39;40;34m(\u001b[0m\u001b[38;2;248;248;242;48;2;39;40;34mdriving_time_info\u001b[0m\u001b[38;2;248;248;242;48;2;39;40;34m)\u001b[0m\u001b[48;2;39;40;34m                                                                                       \u001b[0m  \n",
       " ───────────────────────────────────────────────────────────────────────────────────────────────────────────────── \n"
      ]
     },
     "metadata": {},
     "output_type": "display_data"
    },
    {
     "data": {
      "text/html": [
       "<pre style=\"white-space:pre;overflow-x:auto;line-height:normal;font-family:Menlo,'DejaVu Sans Mono',consolas,'Courier New',monospace\"><span style=\"font-weight: bold\">Execution logs:</span>\n",
       "## Search Results\n",
       "\n",
       "[The Ultimate Melbourne to Sydney Road Trip \n",
       "Itinerary](https://www.roadaffair.com/melbourne-to-sydney-road-trip-itinerary/)\n",
       "Things to Know About Driving from Melbourne to Sydney. Driving long distances in Australia can be challenging but \n",
       "it's certainly doable. After all, thousands of people road trip around Australia every year. Here are few things to\n",
       "keep in mind when driving from Sydney to Melbourne or vise versa. 1. Don't Underestimate Driving Times\n",
       "\n",
       "[Melbourne to Sydney Road Trip - The Ultimate Drive \n",
       "Itinerary](https://turo.com/blog/australia/wayfaring/melbourne-to-sydney-road-trip/)\n",
       "The drive time from Melbourne to Sydney is about 9 and a half hours, with a driving distance of 840km if you take \n",
       "the direct route (Hume Highway). If you take a scenic route, driving time can vary: ... Driving from Melbourne to \n",
       "Sydney, you'll find plenty of petrol stations along the way on the Hume Highway (with many operating 24 hours) and \n",
       "...\n",
       "\n",
       "[Melbourne To Sydney Road Trip: Perfect 7-Day Drive \n",
       "Itinerary](https://www.thetravellingtom.com/melbourne-to-sydney-road-trip)\n",
       "Quick Melbourne to Sydney Drive Itinerary. Distance - 1,605.2 km (997.4 miles) Time - 7 days Day 1 - Melbourne to \n",
       "the Wilson's Promontory: 225.4 km (140 miles) Day 2 - Wilson's Promontory to Gippsland Lakes: 235 km (146 miles) \n",
       "Day 3 - Gippsland Lakes to Eden: 410 km (254.7 miles) Day 4 - Eden to Kosciuszko National Park: 201 km (124.8 \n",
       "miles) Day 5 - Kosciuszko National Park ...\n",
       "\n",
       "[Road Trip From Melbourne To Sydney - LazyTrips](https://lazytrips.com/trip/road-trip-from-melbourne-to-sydney)\n",
       "The definitive guide to the road trip from Melbourne to Sydney, setting out the best route, hotels, landmarks, and \n",
       "times of year to do the epic drive. ... The most direct route between Melbourne and Sydney usually takes around 8 \n",
       "hours and 45 minutes of pure driving time to cover a distance of 880 km. Must-see stops en route include Shepparton\n",
       "...\n",
       "\n",
       "[Melbourne To Sydney Road Trip: 2 Epic Scenic Driving \n",
       "Routes](https://www.familyroadtrip.co/melbourne-to-sydney-road-trip/)\n",
       "For those who prefer to go from Melbourne to Sydney driving along the coastline, the M1/A1 route covers a distance \n",
       "of around 1000 km (621 miles). ... You can undertake a Melbourne to Sydney road trip at any time of year. However, \n",
       "as it is a bustling route that regularly experiences heavy traffic, you might find the best time to do so will be \n",
       "...\n",
       "\n",
       "[Driving Time from Melbourne, Australia to Sydney, Australia - \n",
       "Travelmath](https://www.travelmath.com/driving-time/from/Melbourne,+Australia/to/Sydney,+Australia)\n",
       "How long is the drive from Melbourne, Australia to Sydney, Australia? The total driving time is 8 hours, 51 \n",
       "minutes. Your trip begins in Melbourne, Australia. It ends in Sydney, Australia. If you're planning a road trip, \n",
       "you might be interested in seeing the total driving distance from Melbourne, Australia to Sydney, Australia.\n",
       "\n",
       "[Melbourne to Sydney Drive Itinerary: Amazing Coastal Road \n",
       "Trip](https://dreamingofdownunder.com/melbourne-to-sydney-drive-itinerary/)\n",
       "The direct Melbourne to Sydney drive time is 14.5 hours along the coastal A1 route, and the total driving distance \n",
       "is 1,123 km. I spent a week on my Melbourne to Sydney self drive, but you can do the coastal journey in 2 or 3 days\n",
       "if necessary.\n",
       "\n",
       "[Melbourne to Sydney drive: the ultimate guide - The Family \n",
       "Voyage](https://www.thefamilyvoyage.com/melbourne-to-sydney-drive/)\n",
       "Our Melbourne to Sydney drive time was approximately 12 hours, so you can plan your pace accordingly depending on \n",
       "your choice of activities and how much driving you want to do each day. ... Surviving family road trip from Sydney \n",
       "to Melbourne. Twelve hours of driving can be a lot with young children! By breaking up the drive into five days and\n",
       "...\n",
       "\n",
       "[Driving Time from MEL to SYD - Travelmath](https://www.travelmath.com/driving-time/from/MEL/to/SYD)\n",
       "Driving time from MEL to SYD. How long is the drive from MEL to SYD? The total driving time is 8 hours, 24 minutes.\n",
       "Your trip begins at Melbourne Airport in Melbourne, Australia. It ends at Sydney Kingsford Smith Airport in Sydney,\n",
       "Australia. If you're planning a road trip, you might be interested in seeing the total driving distance from MEL \n",
       "...\n",
       "\n",
       "[Melbourne to Sydney Road Trip: The Ultimate 2 Week Itinerary (Coastal \n",
       "...](https://beyondwildplaces.com/melbourne-to-sydney-road-trip-itinerary/)\n",
       "Day 14: Royal National Park to Sydney. Distance: 35 km Time: 1 hour. From Royal National Park, you're basically in \n",
       "Sydney and have completed the Melbourne to Sydney road trip! If you're looking for day trips from Sydney, there are\n",
       "so many national parks on the outskirts of the city: Blue Mountains National Park; Ku-ring-gai Chase National Park\n",
       "\n",
       "Out: None\n",
       "</pre>\n"
      ],
      "text/plain": [
       "\u001b[1mExecution logs:\u001b[0m\n",
       "## Search Results\n",
       "\n",
       "[The Ultimate Melbourne to Sydney Road Trip \n",
       "Itinerary](https://www.roadaffair.com/melbourne-to-sydney-road-trip-itinerary/)\n",
       "Things to Know About Driving from Melbourne to Sydney. Driving long distances in Australia can be challenging but \n",
       "it's certainly doable. After all, thousands of people road trip around Australia every year. Here are few things to\n",
       "keep in mind when driving from Sydney to Melbourne or vise versa. 1. Don't Underestimate Driving Times\n",
       "\n",
       "[Melbourne to Sydney Road Trip - The Ultimate Drive \n",
       "Itinerary](https://turo.com/blog/australia/wayfaring/melbourne-to-sydney-road-trip/)\n",
       "The drive time from Melbourne to Sydney is about 9 and a half hours, with a driving distance of 840km if you take \n",
       "the direct route (Hume Highway). If you take a scenic route, driving time can vary: ... Driving from Melbourne to \n",
       "Sydney, you'll find plenty of petrol stations along the way on the Hume Highway (with many operating 24 hours) and \n",
       "...\n",
       "\n",
       "[Melbourne To Sydney Road Trip: Perfect 7-Day Drive \n",
       "Itinerary](https://www.thetravellingtom.com/melbourne-to-sydney-road-trip)\n",
       "Quick Melbourne to Sydney Drive Itinerary. Distance - 1,605.2 km (997.4 miles) Time - 7 days Day 1 - Melbourne to \n",
       "the Wilson's Promontory: 225.4 km (140 miles) Day 2 - Wilson's Promontory to Gippsland Lakes: 235 km (146 miles) \n",
       "Day 3 - Gippsland Lakes to Eden: 410 km (254.7 miles) Day 4 - Eden to Kosciuszko National Park: 201 km (124.8 \n",
       "miles) Day 5 - Kosciuszko National Park ...\n",
       "\n",
       "[Road Trip From Melbourne To Sydney - LazyTrips](https://lazytrips.com/trip/road-trip-from-melbourne-to-sydney)\n",
       "The definitive guide to the road trip from Melbourne to Sydney, setting out the best route, hotels, landmarks, and \n",
       "times of year to do the epic drive. ... The most direct route between Melbourne and Sydney usually takes around 8 \n",
       "hours and 45 minutes of pure driving time to cover a distance of 880 km. Must-see stops en route include Shepparton\n",
       "...\n",
       "\n",
       "[Melbourne To Sydney Road Trip: 2 Epic Scenic Driving \n",
       "Routes](https://www.familyroadtrip.co/melbourne-to-sydney-road-trip/)\n",
       "For those who prefer to go from Melbourne to Sydney driving along the coastline, the M1/A1 route covers a distance \n",
       "of around 1000 km (621 miles). ... You can undertake a Melbourne to Sydney road trip at any time of year. However, \n",
       "as it is a bustling route that regularly experiences heavy traffic, you might find the best time to do so will be \n",
       "...\n",
       "\n",
       "[Driving Time from Melbourne, Australia to Sydney, Australia - \n",
       "Travelmath](https://www.travelmath.com/driving-time/from/Melbourne,+Australia/to/Sydney,+Australia)\n",
       "How long is the drive from Melbourne, Australia to Sydney, Australia? The total driving time is 8 hours, 51 \n",
       "minutes. Your trip begins in Melbourne, Australia. It ends in Sydney, Australia. If you're planning a road trip, \n",
       "you might be interested in seeing the total driving distance from Melbourne, Australia to Sydney, Australia.\n",
       "\n",
       "[Melbourne to Sydney Drive Itinerary: Amazing Coastal Road \n",
       "Trip](https://dreamingofdownunder.com/melbourne-to-sydney-drive-itinerary/)\n",
       "The direct Melbourne to Sydney drive time is 14.5 hours along the coastal A1 route, and the total driving distance \n",
       "is 1,123 km. I spent a week on my Melbourne to Sydney self drive, but you can do the coastal journey in 2 or 3 days\n",
       "if necessary.\n",
       "\n",
       "[Melbourne to Sydney drive: the ultimate guide - The Family \n",
       "Voyage](https://www.thefamilyvoyage.com/melbourne-to-sydney-drive/)\n",
       "Our Melbourne to Sydney drive time was approximately 12 hours, so you can plan your pace accordingly depending on \n",
       "your choice of activities and how much driving you want to do each day. ... Surviving family road trip from Sydney \n",
       "to Melbourne. Twelve hours of driving can be a lot with young children! By breaking up the drive into five days and\n",
       "...\n",
       "\n",
       "[Driving Time from MEL to SYD - Travelmath](https://www.travelmath.com/driving-time/from/MEL/to/SYD)\n",
       "Driving time from MEL to SYD. How long is the drive from MEL to SYD? The total driving time is 8 hours, 24 minutes.\n",
       "Your trip begins at Melbourne Airport in Melbourne, Australia. It ends at Sydney Kingsford Smith Airport in Sydney,\n",
       "Australia. If you're planning a road trip, you might be interested in seeing the total driving distance from MEL \n",
       "...\n",
       "\n",
       "[Melbourne to Sydney Road Trip: The Ultimate 2 Week Itinerary (Coastal \n",
       "...](https://beyondwildplaces.com/melbourne-to-sydney-road-trip-itinerary/)\n",
       "Day 14: Royal National Park to Sydney. Distance: 35 km Time: 1 hour. From Royal National Park, you're basically in \n",
       "Sydney and have completed the Melbourne to Sydney road trip! If you're looking for day trips from Sydney, there are\n",
       "so many national parks on the outskirts of the city: Blue Mountains National Park; Ku-ring-gai Chase National Park\n",
       "\n",
       "Out: None\n"
      ]
     },
     "metadata": {},
     "output_type": "display_data"
    },
    {
     "data": {
      "text/html": [
       "<pre style=\"white-space:pre;overflow-x:auto;line-height:normal;font-family:Menlo,'DejaVu Sans Mono',consolas,'Courier New',monospace\"><span style=\"color: #7f7f7f; text-decoration-color: #7f7f7f\">[Step 0: Duration 4.93 seconds| Input tokens: 2,021 | Output tokens: 90]</span>\n",
       "</pre>\n"
      ],
      "text/plain": [
       "\u001b[2m[Step 0: Duration 4.93 seconds| Input tokens: 2,021 | Output tokens: 90]\u001b[0m\n"
      ]
     },
     "metadata": {},
     "output_type": "display_data"
    },
    {
     "data": {
      "text/html": [
       "<pre style=\"white-space:pre;overflow-x:auto;line-height:normal;font-family:Menlo,'DejaVu Sans Mono',consolas,'Courier New',monospace\"><span style=\"color: #d4b702; text-decoration-color: #d4b702\">━━━━━━━━━━━━━━━━━━━━━━━━━━━━━━━━━━━━━━━━━━━━━━━━━━━━━ </span><span style=\"font-weight: bold\">Step </span><span style=\"color: #008080; text-decoration-color: #008080; font-weight: bold\">1</span><span style=\"color: #d4b702; text-decoration-color: #d4b702\"> ━━━━━━━━━━━━━━━━━━━━━━━━━━━━━━━━━━━━━━━━━━━━━━━━━━━━━━</span>\n",
       "</pre>\n"
      ],
      "text/plain": [
       "\u001b[38;2;212;183;2m━━━━━━━━━━━━━━━━━━━━━━━━━━━━━━━━━━━━━━━━━━━━━━━━━━━━━ \u001b[0m\u001b[1mStep \u001b[0m\u001b[1;36m1\u001b[0m\u001b[38;2;212;183;2m ━━━━━━━━━━━━━━━━━━━━━━━━━━━━━━━━━━━━━━━━━━━━━━━━━━━━━━\u001b[0m\n"
      ]
     },
     "metadata": {},
     "output_type": "display_data"
    },
    {
     "data": {
      "text/html": [
       "<pre style=\"white-space:pre;overflow-x:auto;line-height:normal;font-family:Menlo,'DejaVu Sans Mono',consolas,'Courier New',monospace\"> ─ <span style=\"font-weight: bold\">Executing this code:</span> ────────────────────────────────────────────────────────────────────────────────────────── \n",
       "  <span style=\"color: #f8f8f2; text-decoration-color: #f8f8f2; background-color: #272822\">average_driving_time </span><span style=\"color: #ff4689; text-decoration-color: #ff4689; background-color: #272822\">=</span><span style=\"color: #f8f8f2; text-decoration-color: #f8f8f2; background-color: #272822\"> </span><span style=\"color: #e6db74; text-decoration-color: #e6db74; background-color: #272822\">\"The driving time from Melbourne to Sydney is approximately 8 to 9.5 hours, depending on</span>  \n",
       "  <span style=\"color: #e6db74; text-decoration-color: #e6db74; background-color: #272822\">the chosen route.\"</span><span style=\"background-color: #272822\">                                                                                             </span>  \n",
       "  <span style=\"color: #f8f8f2; text-decoration-color: #f8f8f2; background-color: #272822\">final_answer(average_driving_time)</span><span style=\"background-color: #272822\">                                                                             </span>  \n",
       " ───────────────────────────────────────────────────────────────────────────────────────────────────────────────── \n",
       "</pre>\n"
      ],
      "text/plain": [
       " ─ \u001b[1mExecuting this code:\u001b[0m ────────────────────────────────────────────────────────────────────────────────────────── \n",
       "  \u001b[38;2;248;248;242;48;2;39;40;34maverage_driving_time\u001b[0m\u001b[38;2;248;248;242;48;2;39;40;34m \u001b[0m\u001b[38;2;255;70;137;48;2;39;40;34m=\u001b[0m\u001b[38;2;248;248;242;48;2;39;40;34m \u001b[0m\u001b[38;2;230;219;116;48;2;39;40;34m\"\u001b[0m\u001b[38;2;230;219;116;48;2;39;40;34mThe driving time from Melbourne to Sydney is approximately 8 to 9.5 hours, depending on\u001b[0m  \n",
       "  \u001b[38;2;230;219;116;48;2;39;40;34mthe chosen route.\u001b[0m\u001b[38;2;230;219;116;48;2;39;40;34m\"\u001b[0m\u001b[48;2;39;40;34m                                                                                             \u001b[0m  \n",
       "  \u001b[38;2;248;248;242;48;2;39;40;34mfinal_answer\u001b[0m\u001b[38;2;248;248;242;48;2;39;40;34m(\u001b[0m\u001b[38;2;248;248;242;48;2;39;40;34maverage_driving_time\u001b[0m\u001b[38;2;248;248;242;48;2;39;40;34m)\u001b[0m\u001b[48;2;39;40;34m                                                                             \u001b[0m  \n",
       " ───────────────────────────────────────────────────────────────────────────────────────────────────────────────── \n"
      ]
     },
     "metadata": {},
     "output_type": "display_data"
    },
    {
     "data": {
      "text/html": [
       "<pre style=\"white-space:pre;overflow-x:auto;line-height:normal;font-family:Menlo,'DejaVu Sans Mono',consolas,'Courier New',monospace\"><span style=\"color: #d4b702; text-decoration-color: #d4b702; font-weight: bold\">Out - Final answer: The driving time from Melbourne to Sydney is approximately 8 to 9.5 hours, depending on the </span>\n",
       "<span style=\"color: #d4b702; text-decoration-color: #d4b702; font-weight: bold\">chosen route.</span>\n",
       "</pre>\n"
      ],
      "text/plain": [
       "\u001b[1;38;2;212;183;2mOut - Final answer: The driving time from Melbourne to Sydney is approximately 8 to 9.5 hours, depending on the \u001b[0m\n",
       "\u001b[1;38;2;212;183;2mchosen route.\u001b[0m\n"
      ]
     },
     "metadata": {},
     "output_type": "display_data"
    },
    {
     "data": {
      "text/html": [
       "<pre style=\"white-space:pre;overflow-x:auto;line-height:normal;font-family:Menlo,'DejaVu Sans Mono',consolas,'Courier New',monospace\"><span style=\"color: #7f7f7f; text-decoration-color: #7f7f7f\">[Step 1: Duration 1.86 seconds| Input tokens: 5,313 | Output tokens: 196]</span>\n",
       "</pre>\n"
      ],
      "text/plain": [
       "\u001b[2m[Step 1: Duration 1.86 seconds| Input tokens: 5,313 | Output tokens: 196]\u001b[0m\n"
      ]
     },
     "metadata": {},
     "output_type": "display_data"
    },
    {
     "data": {
      "text/plain": [
       "'The driving time from Melbourne to Sydney is approximately 8 to 9.5 hours, depending on the chosen route.'"
      ]
     },
     "execution_count": 9,
     "metadata": {},
     "output_type": "execute_result"
    }
   ],
   "source": [
    "\n",
    "agent.run(  \"Calculate how long does it take to drive from Melbourne to Sydney?\"  )\n"
   ]
  },
  {
   "cell_type": "code",
   "execution_count": null,
   "id": "29075ae1-c2ed-4165-a894-d21c31fd0d71",
   "metadata": {},
   "outputs": [],
   "source": []
  },
  {
   "cell_type": "code",
   "execution_count": null,
   "id": "7bfc3da9-9853-4748-bc20-49045b5dd11e",
   "metadata": {},
   "outputs": [],
   "source": []
  },
  {
   "cell_type": "code",
   "execution_count": null,
   "id": "bac14b8a-8a30-4383-ba0f-f3cd800b387d",
   "metadata": {},
   "outputs": [],
   "source": []
  },
  {
   "cell_type": "code",
   "execution_count": null,
   "id": "13b708ec-41b3-4a66-bb10-b8dd75d1a78f",
   "metadata": {},
   "outputs": [],
   "source": []
  },
  {
   "cell_type": "code",
   "execution_count": null,
   "id": "b368b37e-7d3a-4713-ab92-0e2333ee8e2e",
   "metadata": {},
   "outputs": [],
   "source": []
  },
  {
   "cell_type": "code",
   "execution_count": null,
   "id": "f7804d5a-0098-4047-a4e2-24ae7ff9e97b",
   "metadata": {},
   "outputs": [],
   "source": []
  }
 ],
 "metadata": {
  "kernelspec": {
   "display_name": "Python 3 (ipykernel)",
   "language": "python",
   "name": "python3"
  },
  "language_info": {
   "codemirror_mode": {
    "name": "ipython",
    "version": 3
   },
   "file_extension": ".py",
   "mimetype": "text/x-python",
   "name": "python",
   "nbconvert_exporter": "python",
   "pygments_lexer": "ipython3",
   "version": "3.10.16"
  }
 },
 "nbformat": 4,
 "nbformat_minor": 5
}
